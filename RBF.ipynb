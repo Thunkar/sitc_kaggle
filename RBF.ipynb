{
 "cells": [
  {
   "cell_type": "markdown",
   "metadata": {},
   "source": [
    "First we show the code used, and at the end we show the results and its analysis and conclusions."
   ]
  },
  {
   "cell_type": "code",
   "execution_count": 167,
   "metadata": {},
   "outputs": [],
   "source": [
    "# General import and load data\n",
    "import pandas as pd\n",
    "import numpy as np\n",
    "\n",
    "from pandas import Series, DataFrame\n",
    "\n",
    "# Training and test spliting\n",
    "from sklearn.cross_validation import train_test_split\n",
    "from sklearn import preprocessing\n",
    "\n",
    "# Estimators\n",
    "from sklearn.svm import SVC\n",
    "\n",
    "# Evaluation\n",
    "from sklearn import metrics\n",
    "from sklearn.cross_validation import cross_val_score, KFold, StratifiedKFold\n",
    "from sklearn.metrics import classification_report\n",
    "from sklearn.metrics import roc_curve\n",
    "from sklearn.metrics import roc_auc_score\n",
    "\n",
    "# Optimization\n",
    "from sklearn.grid_search import GridSearchCV\n",
    "\n",
    "# if matplotlib is not set inline, you will not see plots\n",
    "#alternatives auto gtk gtk2 inline osx qt qt5 wx tk\n",
    "#%matplotlib auto\n",
    "#%matplotlib qt\n",
    "%matplotlib inline\n",
    "%run plot_learning_curve"
   ]
  },
  {
   "cell_type": "markdown",
   "metadata": {},
   "source": [
    "# RBF MODEL"
   ]
  },
  {
   "cell_type": "markdown",
   "metadata": {},
   "source": [
    "Primero cargamos y limpiamos el modelo"
   ]
  },
  {
   "cell_type": "code",
   "execution_count": 168,
   "metadata": {
    "collapsed": true
   },
   "outputs": [],
   "source": [
    "df = pd.read_csv('telco-churn/train.csv')\n",
    "\n",
    "df.loc[df[\"gender\"] == \"Male\", \"gender\"] = 0\n",
    "df.loc[df[\"gender\"] == \"Female\", \"gender\"] = 1\n",
    "\n",
    "df.loc[df[\"Partner\"] == \"Yes\", \"Partner\"] = 1\n",
    "df.loc[df[\"Partner\"] == \"No\", \"Partner\"] = 0\n",
    "\n",
    "df.loc[df[\"Dependents\"] == \"Yes\", \"Dependents\"] = 1\n",
    "df.loc[df[\"Dependents\"] == \"No\", \"Dependents\"] = 0\n",
    "\n",
    "df.loc[df[\"PhoneService\"] == \"Yes\", \"PhoneService\"] = 1\n",
    "df.loc[df[\"PhoneService\"] == \"No\", \"PhoneService\"] = 0\n",
    "\n",
    "df.loc[df[\"MultipleLines\"] == \"No\", \"MultipleLines\"] = 0\n",
    "df.loc[df[\"MultipleLines\"] == \"No phone service\", \"MultipleLines\"] = 0\n",
    "df.loc[df[\"MultipleLines\"] == \"Yes\", \"MultipleLines\"] = 1\n",
    "\n",
    "df.loc[df[\"InternetService\"] == \"No\", \"InternetService\"] = 0\n",
    "df.loc[df[\"InternetService\"] == \"DSL\", \"InternetService\"] = 1\n",
    "df.loc[df[\"InternetService\"] == \"Fiber optic\", \"InternetService\"] = 2\n",
    "\n",
    "df.loc[df[\"OnlineSecurity\"] == \"No\", \"OnlineSecurity\"] = 0\n",
    "df.loc[df[\"OnlineSecurity\"] == \"No internet service\", \"OnlineSecurity\"] = 0\n",
    "df.loc[df[\"OnlineSecurity\"] == \"Yes\", \"OnlineSecurity\"] = 1\n",
    "\n",
    "df.loc[df[\"OnlineBackup\"] == \"No\", \"OnlineBackup\"] = 0\n",
    "df.loc[df[\"OnlineBackup\"] == \"No internet service\", \"OnlineBackup\"] = 0\n",
    "df.loc[df[\"OnlineBackup\"] == \"Yes\", \"OnlineBackup\"] = 1\n",
    "\n",
    "df.loc[df[\"DeviceProtection\"] == \"No\", \"DeviceProtection\"] = 0\n",
    "df.loc[df[\"DeviceProtection\"] == \"No internet service\", \"DeviceProtection\"] = 0\n",
    "df.loc[df[\"DeviceProtection\"] == \"Yes\", \"DeviceProtection\"] = 1\n",
    "\n",
    "df.loc[df[\"TechSupport\"] == \"No\", \"TechSupport\"] = 0\n",
    "df.loc[df[\"TechSupport\"] == \"No internet service\", \"TechSupport\"] = 0\n",
    "df.loc[df[\"TechSupport\"] == \"Yes\", \"TechSupport\"] = 1\n",
    "\n",
    "df.loc[df[\"StreamingTV\"] == \"No\", \"StreamingTV\"] = 0\n",
    "df.loc[df[\"StreamingTV\"] == \"No internet service\", \"StreamingTV\"] = 0\n",
    "df.loc[df[\"StreamingTV\"] == \"Yes\", \"StreamingTV\"] = 1\n",
    "\n",
    "df.loc[df[\"StreamingMovies\"] == \"No\", \"StreamingMovies\"] = 0\n",
    "df.loc[df[\"StreamingMovies\"] == \"No internet service\", \"StreamingMovies\"] = 0\n",
    "df.loc[df[\"StreamingMovies\"] == \"Yes\", \"StreamingMovies\"] = 1\n",
    "\n",
    "df.loc[df[\"Contract\"] == \"Two year\", \"Contract\"] = 0\n",
    "df.loc[df[\"Contract\"] == \"One year\", \"Contract\"] = 1\n",
    "df.loc[df[\"Contract\"] == \"Month-to-month\", \"Contract\"] = 2\n",
    "\n",
    "df.loc[df[\"PaperlessBilling\"] == \"Yes\", \"PaperlessBilling\"] = 1\n",
    "df.loc[df[\"PaperlessBilling\"] == \"No\", \"PaperlessBilling\"] = 0\n",
    "\n",
    "df.loc[df[\"PaymentMethod\"] == \"Bank transfer (automatic)\", \"PaymentMethod\"] = 0\n",
    "df.loc[df[\"PaymentMethod\"] == \"Mailed check\", \"PaymentMethod\"] = 1\n",
    "df.loc[df[\"PaymentMethod\"] == \"Electronic check\", \"PaymentMethod\"] = 2\n",
    "df.loc[df[\"PaymentMethod\"] == \"Credit card (automatic)\", \"PaymentMethod\"] = 3\n",
    "\n",
    "df[\"TotalCharges\"] = df[\"TotalCharges\"].apply(pd.to_numeric, errors='coerce')\n",
    "\n",
    "df['TotalCharges'] = df['TotalCharges'].fillna(df['TotalCharges'].median())"
   ]
  },
  {
   "cell_type": "code",
   "execution_count": 169,
   "metadata": {},
   "outputs": [
    {
     "data": {
      "text/plain": [
       "customerID            int64\n",
       "gender               object\n",
       "SeniorCitizen         int64\n",
       "Partner              object\n",
       "Dependents           object\n",
       "tenure                int64\n",
       "PhoneService         object\n",
       "MultipleLines        object\n",
       "InternetService      object\n",
       "OnlineSecurity       object\n",
       "OnlineBackup         object\n",
       "DeviceProtection     object\n",
       "TechSupport          object\n",
       "StreamingTV          object\n",
       "StreamingMovies      object\n",
       "Contract             object\n",
       "PaperlessBilling     object\n",
       "PaymentMethod        object\n",
       "MonthlyCharges      float64\n",
       "TotalCharges        float64\n",
       "Churn                 int64\n",
       "dtype: object"
      ]
     },
     "execution_count": 169,
     "metadata": {},
     "output_type": "execute_result"
    }
   ],
   "source": [
    "#Check types are numeric\n",
    "df.dtypes"
   ]
  },
  {
   "cell_type": "code",
   "execution_count": 170,
   "metadata": {
    "collapsed": true
   },
   "outputs": [],
   "source": [
    "df['gender'] = df['gender'].astype(np.int64)\n",
    "df['Partner'] = df['Partner'].astype(np.int64)\n",
    "df['Dependents'] = df['Dependents'].astype(np.int64)\n",
    "df['PhoneService'] = df['PhoneService'].astype(np.int64)\n",
    "df['MultipleLines'] = df['MultipleLines'].astype(np.int64)\n",
    "df['InternetService'] = df['InternetService'].astype(np.int64)\n",
    "df['OnlineSecurity'] = df['OnlineSecurity'].astype(np.int64)\n",
    "df['OnlineBackup'] = df['OnlineBackup'].astype(np.int64)\n",
    "df['DeviceProtection'] = df['DeviceProtection'].astype(np.int64)\n",
    "df['TechSupport'] = df['TechSupport'].astype(np.int64)\n",
    "df['StreamingTV'] = df['StreamingTV'].astype(np.int64)\n",
    "df['StreamingMovies'] = df['StreamingMovies'].astype(np.int64)\n",
    "df['Contract'] = df['Contract'].astype(np.int64)\n",
    "df['PaperlessBilling'] = df['PaperlessBilling'].astype(np.int64)\n",
    "df['PaymentMethod'] = df['PaymentMethod'].astype(np.int64)"
   ]
  },
  {
   "cell_type": "code",
   "execution_count": 171,
   "metadata": {},
   "outputs": [
    {
     "data": {
      "text/plain": [
       "customerID            int64\n",
       "gender                int64\n",
       "SeniorCitizen         int64\n",
       "Partner               int64\n",
       "Dependents            int64\n",
       "tenure                int64\n",
       "PhoneService          int64\n",
       "MultipleLines         int64\n",
       "InternetService       int64\n",
       "OnlineSecurity        int64\n",
       "OnlineBackup          int64\n",
       "DeviceProtection      int64\n",
       "TechSupport           int64\n",
       "StreamingTV           int64\n",
       "StreamingMovies       int64\n",
       "Contract              int64\n",
       "PaperlessBilling      int64\n",
       "PaymentMethod         int64\n",
       "MonthlyCharges      float64\n",
       "TotalCharges        float64\n",
       "Churn                 int64\n",
       "dtype: object"
      ]
     },
     "execution_count": 171,
     "metadata": {},
     "output_type": "execute_result"
    }
   ],
   "source": [
    "#Check types are numeric\n",
    "df.dtypes"
   ]
  },
  {
   "cell_type": "code",
   "execution_count": 172,
   "metadata": {},
   "outputs": [
    {
     "data": {
      "text/plain": [
       "customerID          False\n",
       "gender              False\n",
       "SeniorCitizen       False\n",
       "Partner             False\n",
       "Dependents          False\n",
       "tenure              False\n",
       "PhoneService        False\n",
       "MultipleLines       False\n",
       "InternetService     False\n",
       "OnlineSecurity      False\n",
       "OnlineBackup        False\n",
       "DeviceProtection    False\n",
       "TechSupport         False\n",
       "StreamingTV         False\n",
       "StreamingMovies     False\n",
       "Contract            False\n",
       "PaperlessBilling    False\n",
       "PaymentMethod       False\n",
       "MonthlyCharges      False\n",
       "TotalCharges        False\n",
       "Churn               False\n",
       "dtype: bool"
      ]
     },
     "execution_count": 172,
     "metadata": {},
     "output_type": "execute_result"
    }
   ],
   "source": [
    "#Check there are not missing values\n",
    "df.isnull().any()"
   ]
  },
  {
   "cell_type": "code",
   "execution_count": 198,
   "metadata": {},
   "outputs": [],
   "source": [
    "# Features of the model\n",
    "\n",
    "X = df.drop(['Churn'], axis=1).values\n",
    "y = df['Churn'].values\n",
    "\n",
    "# Test set will be the 25% taken randomly\n",
    "X_train, X_test, y_train, y_test = train_test_split(X, y, test_size=0.25, random_state=33)\n",
    "\n",
    "# Preprocess: normalize\n",
    "scaler = preprocessing.StandardScaler().fit(X_train)\n",
    "X_train = scaler.transform(X_train)\n",
    "X_test = scaler.transform(X_test)"
   ]
  },
  {
   "cell_type": "markdown",
   "metadata": {},
   "source": [
    "# Define model"
   ]
  },
  {
   "cell_type": "code",
   "execution_count": 175,
   "metadata": {},
   "outputs": [],
   "source": [
    "types_of_kernels = ['linear', 'rbf', 'poly']\n",
    "\n",
    "kernel = types_of_kernels[1]\n",
    "gamma = 3.0\n",
    "model = SVC(kernel=kernel, probability=True, gamma=gamma)"
   ]
  },
  {
   "cell_type": "markdown",
   "metadata": {},
   "source": [
    "# Train and evaluate"
   ]
  },
  {
   "cell_type": "code",
   "execution_count": 177,
   "metadata": {
    "collapsed": true
   },
   "outputs": [],
   "source": [
    "#This step will take some time \n",
    "# Train - This is not needed if you use K-Fold\n",
    "model.fit(X_train, y_train)\n",
    "predicted = model.predict(X_test)\n",
    "expected = y_test"
   ]
  },
  {
   "cell_type": "code",
   "execution_count": 180,
   "metadata": {},
   "outputs": [
    {
     "data": {
      "text/plain": [
       "0.74747474747474751"
      ]
     },
     "execution_count": 180,
     "metadata": {},
     "output_type": "execute_result"
    }
   ],
   "source": [
    "# Accuracy\n",
    "metrics.accuracy_score(expected, predicted)"
   ]
  },
  {
   "cell_type": "markdown",
   "metadata": {},
   "source": [
    "~75% using RBF kernel with normalized data\n"
   ]
  },
  {
   "cell_type": "markdown",
   "metadata": {},
   "source": [
    "## Null accuracy"
   ]
  },
  {
   "cell_type": "markdown",
   "metadata": {},
   "source": [
    "We can evaluate the accuracy if the model always predict the most frequent class, following this [refeference](http://blog.kaggle.com/2015/10/23/scikit-learn-video-9-better-evaluation-of-classification-models/)."
   ]
  },
  {
   "cell_type": "code",
   "execution_count": 181,
   "metadata": {},
   "outputs": [
    {
     "data": {
      "text/plain": [
       "0    997\n",
       "1    389\n",
       "dtype: int64"
      ]
     },
     "execution_count": 181,
     "metadata": {},
     "output_type": "execute_result"
    }
   ],
   "source": [
    "# Count number of samples per class\n",
    "s_y_test = Series(y_test)\n",
    "s_y_test.value_counts()"
   ]
  },
  {
   "cell_type": "code",
   "execution_count": 182,
   "metadata": {},
   "outputs": [
    {
     "data": {
      "text/plain": [
       "0.28066378066378067"
      ]
     },
     "execution_count": 182,
     "metadata": {},
     "output_type": "execute_result"
    }
   ],
   "source": [
    "# Mean of ones\n",
    "y_test.mean()"
   ]
  },
  {
   "cell_type": "code",
   "execution_count": 183,
   "metadata": {},
   "outputs": [
    {
     "data": {
      "text/plain": [
       "0.71933621933621938"
      ]
     },
     "execution_count": 183,
     "metadata": {},
     "output_type": "execute_result"
    }
   ],
   "source": [
    "# Mean of zeros\n",
    "1 - y_test.mean() "
   ]
  },
  {
   "cell_type": "code",
   "execution_count": 184,
   "metadata": {},
   "outputs": [
    {
     "data": {
      "text/plain": [
       "0.71933621933621938"
      ]
     },
     "execution_count": 184,
     "metadata": {},
     "output_type": "execute_result"
    }
   ],
   "source": [
    "# Calculate null accuracy (binary classification coded as 0/1)\n",
    "max(y_test.mean(), 1 - y_test.mean())"
   ]
  },
  {
   "cell_type": "code",
   "execution_count": 185,
   "metadata": {},
   "outputs": [
    {
     "data": {
      "text/plain": [
       "0    0.719336\n",
       "dtype: float64"
      ]
     },
     "execution_count": 185,
     "metadata": {},
     "output_type": "execute_result"
    }
   ],
   "source": [
    "# Calculate null accuracy (multiclass classification)\n",
    "s_y_test.value_counts().head(1) / len(y_test)"
   ]
  },
  {
   "cell_type": "markdown",
   "metadata": {},
   "source": [
    "Null accuracy is 71.93% so there is no such a difference between null accuracy and accuracy(75%)"
   ]
  },
  {
   "cell_type": "markdown",
   "metadata": {},
   "source": [
    "## Confussion matrix and F-score"
   ]
  },
  {
   "cell_type": "code",
   "execution_count": 188,
   "metadata": {},
   "outputs": [
    {
     "name": "stdout",
     "output_type": "stream",
     "text": [
      "[[982  15]\n",
      " [335  54]]\n"
     ]
    }
   ],
   "source": [
    "# Confusion matrix\n",
    "print(metrics.confusion_matrix(expected, predicted))"
   ]
  },
  {
   "cell_type": "code",
   "execution_count": 189,
   "metadata": {},
   "outputs": [
    {
     "name": "stdout",
     "output_type": "stream",
     "text": [
      "             precision    recall  f1-score   support\n",
      "\n",
      "          0       0.75      0.98      0.85       997\n",
      "          1       0.78      0.14      0.24       389\n",
      "\n",
      "avg / total       0.76      0.75      0.68      1386\n",
      "\n"
     ]
    }
   ],
   "source": [
    "# Report\n",
    "print(classification_report(expected, predicted))"
   ]
  },
  {
   "cell_type": "markdown",
   "metadata": {},
   "source": [
    "## ROC (Receiver Operating Characteristic ) and AUC (Area Under the Curve)"
   ]
  },
  {
   "cell_type": "markdown",
   "metadata": {},
   "source": [
    "The [ROC](https://en.wikipedia.org/wiki/Receiver_operating_characteristic)  curve illustrates the performance of a binary classifier system as its discrimination threshold is varied."
   ]
  },
  {
   "cell_type": "code",
   "execution_count": 190,
   "metadata": {
    "scrolled": true
   },
   "outputs": [
    {
     "data": {
      "image/png": "[encoded data removed]",
      "text/plain": [
       "<matplotlib.figure.Figure at 0x1a20e24400>"
      ]
     },
     "metadata": {},
     "output_type": "display_data"
    }
   ],
   "source": [
    "y_pred_prob = model.predict_proba(X_test)[:,1]\n",
    "fpr, tpr, thresholds = roc_curve(y_test, y_pred_prob)\n",
    "plt.plot(fpr, tpr)\n",
    "plt.xlim([0.0, 1.0])\n",
    "plt.ylim([0.0, 1.0])\n",
    "plt.title('ROC curve for Telco Churn')\n",
    "plt.xlabel('False Positive Rate (1 - Recall)')\n",
    "plt.xlabel('True Positive Rate (Sensitivity)')\n",
    "plt.grid(True)"
   ]
  },
  {
   "cell_type": "code",
   "execution_count": 192,
   "metadata": {},
   "outputs": [
    {
     "data": {
      "text/plain": [
       "array([ 0.83380579,  0.81011788,  0.80848459,  0.78582517,  0.78567833,\n",
       "        0.78413276,  0.78298429,  0.7709743 ,  0.76113871,  0.67593192,\n",
       "        0.66996703,  0.58525744,  0.5812667 ,  0.58044687,  0.5794589 ,\n",
       "        0.56472001,  0.5604615 ,  0.53311032,  0.53081161,  0.51279474,\n",
       "        0.51242669,  0.51153899,  0.5082323 ,  0.5       ,  0.46154951,\n",
       "        0.44216804,  0.43815702,  0.40891223,  0.40661002,  0.40650876,\n",
       "        0.40488128,  0.39780054,  0.37108296,  0.36977714,  0.36186868,\n",
       "        0.35876646,  0.3578743 ,  0.35074708,  0.35030176,  0.3364485 ,\n",
       "        0.32094251,  0.32060072,  0.31746246,  0.30749398,  0.3068492 ,\n",
       "        0.30040707,  0.28942516,  0.28745429,  0.28527126,  0.283241  ,\n",
       "        0.28191099,  0.28022499,  0.2756343 ,  0.27560551,  0.27475686,\n",
       "        0.2747245 ,  0.27443823,  0.27284126,  0.27253715,  0.27223216,\n",
       "        0.27176726,  0.27171554,  0.27150296,  0.27081008,  0.27047016,\n",
       "        0.27003795,  0.2681587 ,  0.26728763,  0.26636041,  0.26575657,\n",
       "        0.26553857,  0.26456642,  0.26346729,  0.26266135,  0.26259382,\n",
       "        0.26150003,  0.26007551,  0.25927628,  0.25891337,  0.25880158,\n",
       "        0.25863284,  0.25829176,  0.25825225,  0.25814294,  0.2577952 ,\n",
       "        0.2573137 ,  0.2572845 ,  0.25722591,  0.25714097,  0.25690469,\n",
       "        0.25685518,  0.25681424,  0.25678829,  0.25674696,  0.25671746,\n",
       "        0.25671203,  0.25670693,  0.25665995,  0.25665027,  0.25660112,\n",
       "        0.25659371,  0.25659059,  0.25659046,  0.25658778,  0.25658613,\n",
       "        0.25658568,  0.25658381,  0.25658379,  0.25658234,  0.25658226,\n",
       "        0.25658116,  0.25658088,  0.25658029,  0.25658004,  0.25657996,\n",
       "        0.25657994,  0.25657993,  0.25657993,  0.25657978,  0.25657973,\n",
       "        0.25657972,  0.2565797 ,  0.25657938,  0.25657935,  0.25657933,\n",
       "        0.25657925,  0.25657917,  0.25657917,  0.25657917,  0.25657914,\n",
       "        0.25657914,  0.25657913,  0.25657908,  0.25657903,  0.25657894,\n",
       "        0.25657889,  0.25657884,  0.2565788 ,  0.25657879,  0.25657879,\n",
       "        0.25657873,  0.25657871,  0.25657869,  0.25657868,  0.25657867,\n",
       "        0.25657866,  0.25657866,  0.25657865,  0.25657865,  0.25657864,\n",
       "        0.25657863,  0.25657862,  0.25657862,  0.25657861,  0.25657861,\n",
       "        0.25657859,  0.25657859,  0.25657858,  0.25657857,  0.25657857,\n",
       "        0.25657857,  0.25657856,  0.25657856,  0.25657856,  0.25657856,\n",
       "        0.25657856,  0.25657856,  0.25657856,  0.25657855,  0.25657855,\n",
       "        0.25657855,  0.25657855,  0.25657855,  0.25657855,  0.25657855,\n",
       "        0.25657855,  0.25657855,  0.25657855,  0.25657855,  0.25657855,\n",
       "        0.25657855,  0.25657855,  0.25657855,  0.25657855,  0.25657855,\n",
       "        0.25657855,  0.25657855,  0.25657855,  0.25657855,  0.25657855,\n",
       "        0.25657855,  0.25657855,  0.25657855,  0.25657855,  0.25657855,\n",
       "        0.25657855,  0.25657855,  0.25657855,  0.25657855,  0.25657855,\n",
       "        0.25657855,  0.25657855,  0.25657855,  0.25657855,  0.25657855,\n",
       "        0.25657855,  0.25657855,  0.25657855,  0.25657855,  0.25657855,\n",
       "        0.25657855,  0.25657855,  0.25657855,  0.25657855,  0.25657855,\n",
       "        0.25657855,  0.25657855,  0.25657855,  0.25657855,  0.25657855,\n",
       "        0.25657855,  0.25657855,  0.25657855,  0.25657855,  0.25657855,\n",
       "        0.25657855,  0.25657855,  0.25657855,  0.25657855,  0.25657855,\n",
       "        0.25657855,  0.25657855,  0.25657854,  0.25657854,  0.25657854,\n",
       "        0.25657854,  0.25657854,  0.25657854,  0.25657854,  0.25657854,\n",
       "        0.25657854,  0.25657854,  0.25657854,  0.25657854,  0.25657854,\n",
       "        0.25657854,  0.25657854,  0.25657854,  0.25657854,  0.25657854,\n",
       "        0.25657854,  0.25657854,  0.25657854,  0.25657854,  0.25657854,\n",
       "        0.25657854,  0.25657853,  0.25657853,  0.25657853,  0.25657853,\n",
       "        0.25657853,  0.25657853,  0.25657853,  0.25657852,  0.25657852,\n",
       "        0.25657852,  0.25657852,  0.25657852,  0.25657852,  0.25657852,\n",
       "        0.25657851,  0.25657851,  0.25657851,  0.25657851,  0.2565785 ,\n",
       "        0.2565785 ,  0.25657849,  0.25657849,  0.25657849,  0.25657849,\n",
       "        0.25657848,  0.25657848,  0.25657847,  0.25657847,  0.25657846,\n",
       "        0.25657846,  0.25657845,  0.25657844,  0.25657843,  0.25657843,\n",
       "        0.25657842,  0.25657841,  0.2565784 ,  0.2565784 ,  0.25657839,\n",
       "        0.25657839,  0.25657838,  0.25657838,  0.25657838,  0.25657838,\n",
       "        0.25657836,  0.25657836,  0.25657834,  0.25657834,  0.25657831,\n",
       "        0.25657829,  0.25657828,  0.25657828,  0.25657821,  0.25657819,\n",
       "        0.25657815,  0.25657815,  0.25657811,  0.25657811,  0.2565781 ,\n",
       "        0.25657809,  0.25657808,  0.25657807,  0.25657803,  0.25657801,\n",
       "        0.25657797,  0.25657795,  0.25657793,  0.25657793,  0.25657784,\n",
       "        0.25657783,  0.25657781,  0.25657779,  0.25657747,  0.2565774 ,\n",
       "        0.25657735,  0.25657723,  0.25657646,  0.25657638,  0.25657567,\n",
       "        0.25657545,  0.25657525,  0.25657483,  0.25657258,  0.25657251,\n",
       "        0.25657099,  0.25657091,  0.25656747,  0.25656731,  0.25655953,\n",
       "        0.25655654,  0.25654969,  0.25654796,  0.25654735,  0.2565468 ,\n",
       "        0.25654012,  0.25653211,  0.25652967,  0.25652646,  0.25651394,\n",
       "        0.25651118,  0.25650686,  0.25650508,  0.25649989,  0.25649804,\n",
       "        0.25649734,  0.25648674,  0.25641928,  0.25641142,  0.25637511,\n",
       "        0.25636483,  0.25632305,  0.25629155,  0.25618376,  0.2561473 ,\n",
       "        0.25598023,  0.25596254,  0.25586891,  0.25583724,  0.25568031,\n",
       "        0.25567194,  0.25566992,  0.2556556 ,  0.2555392 ,  0.25552665,\n",
       "        0.2555052 ,  0.25547091,  0.25524498,  0.25509205,  0.25470334,\n",
       "        0.25461805,  0.25355852,  0.25354837,  0.25306385,  0.25278526,\n",
       "        0.2527349 ,  0.25256891,  0.25222067,  0.25220175,  0.2518497 ,\n",
       "        0.25154153,  0.25066713,  0.25066224,  0.24972348,  0.24971678,\n",
       "        0.24854271,  0.2485055 ,  0.24682684,  0.24659754,  0.24411071,\n",
       "        0.24401125,  0.23621866,  0.23540877,  0.23526553,  0.23482615,\n",
       "        0.23446945,  0.23362129,  0.23216586,  0.23187131,  0.22365284,\n",
       "        0.22240347,  0.22078097,  0.2171148 ,  0.21559868,  0.21503756,\n",
       "        0.21500215,  0.21361106,  0.21117304,  0.21105351,  0.20801911,\n",
       "        0.20737841,  0.20550464,  0.20456357,  0.20411156,  0.20348229,\n",
       "        0.20228971,  0.20176243,  0.19873626,  0.19680034,  0.19533492,\n",
       "        0.19464637,  0.18936483,  0.18914057,  0.18324286,  0.18324047,\n",
       "        0.18210515,  0.18200737,  0.18060278,  0.1805098 ,  0.17998903,\n",
       "        0.17927526,  0.17891098,  0.17857365,  0.17849982,  0.17824353,\n",
       "        0.17782177,  0.17780494,  0.17475869,  0.17432345,  0.17179389,\n",
       "        0.17176381,  0.17156835,  0.17155226,  0.17124201,  0.17110064,\n",
       "        0.17097502,  0.17096521,  0.1707586 ,  0.17067508,  0.1701743 ,\n",
       "        0.17014164,  0.16985264,  0.1698376 ,  0.1690191 ,  0.16899728,\n",
       "        0.16458978,  0.16425942,  0.16360636,  0.16333391,  0.15824091,\n",
       "        0.15595318,  0.15571803,  0.15448611,  0.15333249,  0.15272185])"
      ]
     },
     "execution_count": 192,
     "metadata": {},
     "output_type": "execute_result"
    }
   ],
   "source": [
    "#Threshold used by the decision function, thresholds[0] is the number of \n",
    "thresholds"
   ]
  },
  {
   "cell_type": "code",
   "execution_count": 138,
   "metadata": {},
   "outputs": [
    {
     "data": {
      "text/plain": [
       "array([<matplotlib.axes._subplots.AxesSubplot object at 0x1a202d7ac8>,\n",
       "       <matplotlib.axes._subplots.AxesSubplot object at 0x1a201bae80>], dtype=object)"
      ]
     },
     "execution_count": 138,
     "metadata": {},
     "output_type": "execute_result"
    },
    {
     "data": {
      "image/png": "[encoded data removed]",
      "text/plain": [
       "<matplotlib.figure.Figure at 0x1a16a2e780>"
      ]
     },
     "metadata": {},
     "output_type": "display_data"
    }
   ],
   "source": [
    "#Histogram of probability vs actual\n",
    "dprob = pd.DataFrame(data = {'probability':y_pred_prob, 'actual':y_test})\n",
    "dprob.probability.hist(by=dprob.actual, sharex=True, sharey=True)"
   ]
  },
  {
   "cell_type": "markdown",
   "metadata": {},
   "source": [
    "ROC curve helps to select a threshold to balance sensitivity and recall."
   ]
  },
  {
   "cell_type": "code",
   "execution_count": 193,
   "metadata": {
    "collapsed": true
   },
   "outputs": [],
   "source": [
    "#Function to evaluate thresholds of the ROC curve\n",
    "def evaluate_threshold(threshold):\n",
    "    print('Sensitivity:', tpr[thresholds > threshold][-1])\n",
    "    print('Recall:', 1 - fpr[thresholds > threshold][-1])"
   ]
  },
  {
   "cell_type": "code",
   "execution_count": 194,
   "metadata": {},
   "outputs": [
    {
     "name": "stdout",
     "output_type": "stream",
     "text": [
      "Sensitivity: 0.0385604113111\n",
      "Recall: 0.995987963892\n"
     ]
    }
   ],
   "source": [
    "evaluate_threshold(0.75)"
   ]
  },
  {
   "cell_type": "code",
   "execution_count": 141,
   "metadata": {},
   "outputs": [
    {
     "name": "stdout",
     "output_type": "stream",
     "text": [
      "Sensitivity: 0.107969151671\n",
      "Recall: 0.989969909729\n"
     ]
    }
   ],
   "source": [
    "evaluate_threshold(0.5)"
   ]
  },
  {
   "cell_type": "markdown",
   "metadata": {},
   "source": [
    "By default, the thresdhold to decide a class is 0.5, If we modify it, we should use the new thresdhold.\n",
    "\n",
    "threshold = 0.75\n",
    "\n",
    "predicted = model.predict_proba(X) > threshold"
   ]
  },
  {
   "cell_type": "code",
   "execution_count": 195,
   "metadata": {},
   "outputs": [
    {
     "name": "stdout",
     "output_type": "stream",
     "text": [
      "0.561886172657\n"
     ]
    }
   ],
   "source": [
    "# AUX\n",
    "print(roc_auc_score(expected, predicted))"
   ]
  },
  {
   "cell_type": "markdown",
   "metadata": {},
   "source": [
    "## Train and Evaluate with K-Fold"
   ]
  },
  {
   "cell_type": "code",
   "execution_count": 196,
   "metadata": {},
   "outputs": [
    {
     "name": "stdout",
     "output_type": "stream",
     "text": [
      "Scores in every iteration [ 0.72858431  0.73850316  0.72678088  0.73916968  0.71841155]\n",
      "Accuracy: 0.73 (+/- 0.02)\n"
     ]
    }
   ],
   "source": [
    "# This step will take some time\n",
    "# Cross-validation\n",
    "cv = KFold(X.shape[0], n_folds=5, shuffle=False, random_state=33)\n",
    "# StratifiedKFold has is a variation of k-fold which returns stratified folds:\n",
    "# each set contains approximately the same percentage of samples of each target class as the complete set.\n",
    "#cv = StratifiedKFold(y, n_folds=3, shuffle=False, random_state=33)\n",
    "scores = cross_val_score(model, X, y, cv=cv)\n",
    "print(\"Scores in every iteration\", scores)\n",
    "print(\"Accuracy: %0.2f (+/- %0.2f)\" % (scores.mean(), scores.std() * 2))"
   ]
  },
  {
   "cell_type": "code",
   "execution_count": 199,
   "metadata": {},
   "outputs": [
    {
     "data": {
      "text/plain": [
       "<module 'matplotlib.pyplot' from '/anaconda3/lib/python3.6/site-packages/matplotlib/pyplot.py'>"
      ]
     },
     "execution_count": 199,
     "metadata": {},
     "output_type": "execute_result"
    },
    {
     "data": {
      "image/png": "[encoded data removed]",
      "text/plain": [
       "<matplotlib.figure.Figure at 0x1a20e7c6a0>"
      ]
     },
     "metadata": {},
     "output_type": "display_data"
    }
   ],
   "source": [
    "plot_learning_curve(model, \"Learning curve with K-Fold\", X, y, cv=cv)"
   ]
  },
  {
   "cell_type": "markdown",
   "metadata": {},
   "source": [
    "# Train and Optimize"
   ]
  },
  {
   "cell_type": "code",
   "execution_count": 200,
   "metadata": {},
   "outputs": [
    {
     "name": "stdout",
     "output_type": "stream",
     "text": [
      "0.804473304473\n"
     ]
    }
   ],
   "source": [
    "#Tune parameters\n",
    "gammas = np.logspace(-6, -1, 10)\n",
    "gs = GridSearchCV(model, param_grid=dict(gamma=gammas))\n",
    "gs.fit(X_train, y_train)\n",
    "scores = gs.score(X_test, y_test)\n",
    "print(scores)"
   ]
  },
  {
   "cell_type": "code",
   "execution_count": 201,
   "metadata": {},
   "outputs": [
    {
     "data": {
      "text/plain": [
       "<module 'matplotlib.pyplot' from '/anaconda3/lib/python3.6/site-packages/matplotlib/pyplot.py'>"
      ]
     },
     "execution_count": 201,
     "metadata": {},
     "output_type": "execute_result"
    },
    {
     "data": {
      "image/png": "[encoded data removed]",
      "text/plain": [
       "<matplotlib.figure.Figure at 0x1a20ebabe0>"
      ]
     },
     "metadata": {},
     "output_type": "display_data"
    }
   ],
   "source": [
    "# Refine model\n",
    "model = SVC(kernel='rbf', gamma=gs.best_estimator_.gamma)\n",
    "plot_learning_curve(model, \"optimized with GridSearch\", X, y, cv=cv)"
   ]
  },
  {
   "cell_type": "code",
   "execution_count": 202,
   "metadata": {
    "collapsed": true
   },
   "outputs": [],
   "source": [
    "model.fit(X_train, y_train)\n",
    "\n",
    "predicted = model.predict(X_test)\n",
    "expected = y_test"
   ]
  },
  {
   "cell_type": "code",
   "execution_count": 203,
   "metadata": {},
   "outputs": [
    {
     "data": {
      "text/plain": [
       "0.80447330447330445"
      ]
     },
     "execution_count": 203,
     "metadata": {},
     "output_type": "execute_result"
    }
   ],
   "source": [
    "# Accuracy\n",
    "metrics.accuracy_score(expected, predicted)"
   ]
  },
  {
   "cell_type": "code",
   "execution_count": 204,
   "metadata": {},
   "outputs": [
    {
     "name": "stdout",
     "output_type": "stream",
     "text": [
      "0.712810668509\n"
     ]
    }
   ],
   "source": [
    "# AUX\n",
    "print(roc_auc_score(expected, predicted))"
   ]
  },
  {
   "cell_type": "code",
   "execution_count": 205,
   "metadata": {},
   "outputs": [
    {
     "name": "stdout",
     "output_type": "stream",
     "text": [
      "             precision    recall  f1-score   support\n",
      "\n",
      "          0       0.83      0.92      0.87       997\n",
      "          1       0.72      0.50      0.59       389\n",
      "\n",
      "avg / total       0.80      0.80      0.79      1386\n",
      "\n",
      "0.59125188537\n"
     ]
    }
   ],
   "source": [
    "print(classification_report(expected, predicted))\n",
    "print (f1_score(expected, predicted))"
   ]
  },
  {
   "cell_type": "markdown",
   "metadata": {},
   "source": [
    "Se carga el dataset de test"
   ]
  },
  {
   "cell_type": "code",
   "execution_count": 206,
   "metadata": {
    "collapsed": true
   },
   "outputs": [],
   "source": [
    "dfTest = pd.read_csv('telco-churn/test_nolabel.csv')"
   ]
  },
  {
   "cell_type": "code",
   "execution_count": 207,
   "metadata": {
    "collapsed": true
   },
   "outputs": [],
   "source": [
    "dfTest.loc[dfTest[\"gender\"] == \"Male\", \"gender\"] = 0\n",
    "dfTest.loc[dfTest[\"gender\"] == \"Female\", \"gender\"] = 1\n",
    "\n",
    "dfTest.loc[dfTest[\"Partner\"] == \"Yes\", \"Partner\"] = 1\n",
    "dfTest.loc[dfTest[\"Partner\"] == \"No\", \"Partner\"] = 0\n",
    "\n",
    "dfTest.loc[dfTest[\"Dependents\"] == \"Yes\", \"Dependents\"] = 1\n",
    "dfTest.loc[dfTest[\"Dependents\"] == \"No\", \"Dependents\"] = 0\n",
    "\n",
    "dfTest.loc[dfTest[\"PhoneService\"] == \"Yes\", \"PhoneService\"] = 1\n",
    "dfTest.loc[dfTest[\"PhoneService\"] == \"No\", \"PhoneService\"] = 0\n",
    "\n",
    "dfTest.loc[dfTest[\"MultipleLines\"] == \"No\", \"MultipleLines\"] = 0\n",
    "dfTest.loc[dfTest[\"MultipleLines\"] == \"No phone service\", \"MultipleLines\"] = 0\n",
    "dfTest.loc[dfTest[\"MultipleLines\"] == \"Yes\", \"MultipleLines\"] = 1\n",
    "\n",
    "dfTest.loc[dfTest[\"InternetService\"] == \"No\", \"InternetService\"] = 0\n",
    "dfTest.loc[dfTest[\"InternetService\"] == \"DSL\", \"InternetService\"] = 1\n",
    "dfTest.loc[dfTest[\"InternetService\"] == \"Fiber optic\", \"InternetService\"] = 2\n",
    "\n",
    "dfTest.loc[dfTest[\"OnlineSecurity\"] == \"No\", \"OnlineSecurity\"] = 0\n",
    "dfTest.loc[dfTest[\"OnlineSecurity\"] == \"No internet service\", \"OnlineSecurity\"] = 0\n",
    "dfTest.loc[dfTest[\"OnlineSecurity\"] == \"Yes\", \"OnlineSecurity\"] = 1\n",
    "\n",
    "dfTest.loc[dfTest[\"OnlineBackup\"] == \"No\", \"OnlineBackup\"] = 0\n",
    "dfTest.loc[dfTest[\"OnlineBackup\"] == \"No internet service\", \"OnlineBackup\"] = 0\n",
    "dfTest.loc[dfTest[\"OnlineBackup\"] == \"Yes\", \"OnlineBackup\"] = 1\n",
    "\n",
    "dfTest.loc[dfTest[\"DeviceProtection\"] == \"No\", \"DeviceProtection\"] = 0\n",
    "dfTest.loc[dfTest[\"DeviceProtection\"] == \"No internet service\", \"DeviceProtection\"] = 0\n",
    "dfTest.loc[dfTest[\"DeviceProtection\"] == \"Yes\", \"DeviceProtection\"] = 1\n",
    "\n",
    "dfTest.loc[dfTest[\"TechSupport\"] == \"No\", \"TechSupport\"] = 0\n",
    "dfTest.loc[dfTest[\"TechSupport\"] == \"No internet service\", \"TechSupport\"] = 0\n",
    "dfTest.loc[dfTest[\"TechSupport\"] == \"Yes\", \"TechSupport\"] = 1\n",
    "\n",
    "dfTest.loc[dfTest[\"StreamingTV\"] == \"No\", \"StreamingTV\"] = 0\n",
    "dfTest.loc[dfTest[\"StreamingTV\"] == \"No internet service\", \"StreamingTV\"] = 0\n",
    "dfTest.loc[dfTest[\"StreamingTV\"] == \"Yes\", \"StreamingTV\"] = 1\n",
    "\n",
    "dfTest.loc[dfTest[\"StreamingMovies\"] == \"No\", \"StreamingMovies\"] = 0\n",
    "dfTest.loc[dfTest[\"StreamingMovies\"] == \"No internet service\", \"StreamingMovies\"] = 0\n",
    "dfTest.loc[dfTest[\"StreamingMovies\"] == \"Yes\", \"StreamingMovies\"] = 1\n",
    "\n",
    "dfTest.loc[dfTest[\"Contract\"] == \"Two year\", \"Contract\"] = 0\n",
    "dfTest.loc[dfTest[\"Contract\"] == \"One year\", \"Contract\"] = 1\n",
    "dfTest.loc[dfTest[\"Contract\"] == \"Month-to-month\", \"Contract\"] = 2\n",
    "\n",
    "dfTest.loc[dfTest[\"PaperlessBilling\"] == \"Yes\", \"PaperlessBilling\"] = 1\n",
    "dfTest.loc[dfTest[\"PaperlessBilling\"] == \"No\", \"PaperlessBilling\"] = 0\n",
    "\n",
    "dfTest.loc[dfTest[\"PaymentMethod\"] == \"Bank transfer (automatic)\", \"PaymentMethod\"] = 0\n",
    "dfTest.loc[dfTest[\"PaymentMethod\"] == \"Mailed check\", \"PaymentMethod\"] = 1\n",
    "dfTest.loc[dfTest[\"PaymentMethod\"] == \"Electronic check\", \"PaymentMethod\"] = 2\n",
    "dfTest.loc[dfTest[\"PaymentMethod\"] == \"Credit card (automatic)\", \"PaymentMethod\"] = 3\n",
    "\n",
    "dfTest[\"TotalCharges\"] = dfTest[\"TotalCharges\"].apply(pd.to_numeric, errors='coerce')\n",
    "dfTest['TotalCharges'] = dfTest['TotalCharges'].fillna(dfTest['TotalCharges'].median())"
   ]
  },
  {
   "cell_type": "code",
   "execution_count": 208,
   "metadata": {},
   "outputs": [
    {
     "data": {
      "text/html": [
       "<div>\n",
       "<style>\n",
       "    .dataframe thead tr:only-child th {\n",
       "        text-align: right;\n",
       "    }\n",
       "\n",
       "    .dataframe thead th {\n",
       "        text-align: left;\n",
       "    }\n",
       "\n",
       "    .dataframe tbody tr th {\n",
       "        vertical-align: top;\n",
       "    }\n",
       "</style>\n",
       "<table border=\"1\" class=\"dataframe\">\n",
       "  <thead>\n",
       "    <tr style=\"text-align: right;\">\n",
       "      <th></th>\n",
       "      <th>customerID</th>\n",
       "      <th>Churn</th>\n",
       "    </tr>\n",
       "  </thead>\n",
       "  <tbody>\n",
       "    <tr>\n",
       "      <th>0</th>\n",
       "      <td>21135993</td>\n",
       "      <td>1</td>\n",
       "    </tr>\n",
       "    <tr>\n",
       "      <th>1</th>\n",
       "      <td>13130474</td>\n",
       "      <td>1</td>\n",
       "    </tr>\n",
       "    <tr>\n",
       "      <th>2</th>\n",
       "      <td>7533169</td>\n",
       "      <td>1</td>\n",
       "    </tr>\n",
       "    <tr>\n",
       "      <th>3</th>\n",
       "      <td>2114231208</td>\n",
       "      <td>1</td>\n",
       "    </tr>\n",
       "    <tr>\n",
       "      <th>4</th>\n",
       "      <td>3524728</td>\n",
       "      <td>1</td>\n",
       "    </tr>\n",
       "    <tr>\n",
       "      <th>5</th>\n",
       "      <td>192125049</td>\n",
       "      <td>1</td>\n",
       "    </tr>\n",
       "    <tr>\n",
       "      <th>6</th>\n",
       "      <td>172428986</td>\n",
       "      <td>1</td>\n",
       "    </tr>\n",
       "    <tr>\n",
       "      <th>7</th>\n",
       "      <td>21329444</td>\n",
       "      <td>1</td>\n",
       "    </tr>\n",
       "    <tr>\n",
       "      <th>8</th>\n",
       "      <td>232256498</td>\n",
       "      <td>1</td>\n",
       "    </tr>\n",
       "    <tr>\n",
       "      <th>9</th>\n",
       "      <td>162223094</td>\n",
       "      <td>1</td>\n",
       "    </tr>\n",
       "    <tr>\n",
       "      <th>10</th>\n",
       "      <td>51038704</td>\n",
       "      <td>1</td>\n",
       "    </tr>\n",
       "    <tr>\n",
       "      <th>11</th>\n",
       "      <td>3192991</td>\n",
       "      <td>1</td>\n",
       "    </tr>\n",
       "    <tr>\n",
       "      <th>12</th>\n",
       "      <td>14207440</td>\n",
       "      <td>1</td>\n",
       "    </tr>\n",
       "    <tr>\n",
       "      <th>13</th>\n",
       "      <td>16148243</td>\n",
       "      <td>1</td>\n",
       "    </tr>\n",
       "    <tr>\n",
       "      <th>14</th>\n",
       "      <td>151417704</td>\n",
       "      <td>1</td>\n",
       "    </tr>\n",
       "    <tr>\n",
       "      <th>15</th>\n",
       "      <td>9638888</td>\n",
       "      <td>1</td>\n",
       "    </tr>\n",
       "    <tr>\n",
       "      <th>16</th>\n",
       "      <td>1824179531</td>\n",
       "      <td>1</td>\n",
       "    </tr>\n",
       "    <tr>\n",
       "      <th>17</th>\n",
       "      <td>9183692</td>\n",
       "      <td>1</td>\n",
       "    </tr>\n",
       "    <tr>\n",
       "      <th>18</th>\n",
       "      <td>102305485</td>\n",
       "      <td>1</td>\n",
       "    </tr>\n",
       "    <tr>\n",
       "      <th>19</th>\n",
       "      <td>38229369</td>\n",
       "      <td>1</td>\n",
       "    </tr>\n",
       "    <tr>\n",
       "      <th>20</th>\n",
       "      <td>171172457</td>\n",
       "      <td>1</td>\n",
       "    </tr>\n",
       "    <tr>\n",
       "      <th>21</th>\n",
       "      <td>62027146</td>\n",
       "      <td>1</td>\n",
       "    </tr>\n",
       "    <tr>\n",
       "      <th>22</th>\n",
       "      <td>222524938</td>\n",
       "      <td>1</td>\n",
       "    </tr>\n",
       "    <tr>\n",
       "      <th>23</th>\n",
       "      <td>122574217</td>\n",
       "      <td>1</td>\n",
       "    </tr>\n",
       "    <tr>\n",
       "      <th>24</th>\n",
       "      <td>22166710</td>\n",
       "      <td>1</td>\n",
       "    </tr>\n",
       "    <tr>\n",
       "      <th>25</th>\n",
       "      <td>25129125</td>\n",
       "      <td>1</td>\n",
       "    </tr>\n",
       "    <tr>\n",
       "      <th>26</th>\n",
       "      <td>316156156</td>\n",
       "      <td>1</td>\n",
       "    </tr>\n",
       "    <tr>\n",
       "      <th>27</th>\n",
       "      <td>231726750</td>\n",
       "      <td>1</td>\n",
       "    </tr>\n",
       "    <tr>\n",
       "      <th>28</th>\n",
       "      <td>2185655</td>\n",
       "      <td>1</td>\n",
       "    </tr>\n",
       "    <tr>\n",
       "      <th>29</th>\n",
       "      <td>12189076</td>\n",
       "      <td>1</td>\n",
       "    </tr>\n",
       "    <tr>\n",
       "      <th>...</th>\n",
       "      <td>...</td>\n",
       "      <td>...</td>\n",
       "    </tr>\n",
       "    <tr>\n",
       "      <th>1470</th>\n",
       "      <td>1380287</td>\n",
       "      <td>1</td>\n",
       "    </tr>\n",
       "    <tr>\n",
       "      <th>1471</th>\n",
       "      <td>3029366</td>\n",
       "      <td>1</td>\n",
       "    </tr>\n",
       "    <tr>\n",
       "      <th>1472</th>\n",
       "      <td>221821377</td>\n",
       "      <td>1</td>\n",
       "    </tr>\n",
       "    <tr>\n",
       "      <th>1473</th>\n",
       "      <td>610239047</td>\n",
       "      <td>1</td>\n",
       "    </tr>\n",
       "    <tr>\n",
       "      <th>1474</th>\n",
       "      <td>21139551</td>\n",
       "      <td>1</td>\n",
       "    </tr>\n",
       "    <tr>\n",
       "      <th>1475</th>\n",
       "      <td>1782114</td>\n",
       "      <td>1</td>\n",
       "    </tr>\n",
       "    <tr>\n",
       "      <th>1476</th>\n",
       "      <td>8192630</td>\n",
       "      <td>1</td>\n",
       "    </tr>\n",
       "    <tr>\n",
       "      <th>1477</th>\n",
       "      <td>1323170139</td>\n",
       "      <td>1</td>\n",
       "    </tr>\n",
       "    <tr>\n",
       "      <th>1478</th>\n",
       "      <td>141961567</td>\n",
       "      <td>1</td>\n",
       "    </tr>\n",
       "    <tr>\n",
       "      <th>1479</th>\n",
       "      <td>192162726</td>\n",
       "      <td>1</td>\n",
       "    </tr>\n",
       "    <tr>\n",
       "      <th>1480</th>\n",
       "      <td>152133397</td>\n",
       "      <td>1</td>\n",
       "    </tr>\n",
       "    <tr>\n",
       "      <th>1481</th>\n",
       "      <td>304169</td>\n",
       "      <td>1</td>\n",
       "    </tr>\n",
       "    <tr>\n",
       "      <th>1482</th>\n",
       "      <td>64150263</td>\n",
       "      <td>1</td>\n",
       "    </tr>\n",
       "    <tr>\n",
       "      <th>1483</th>\n",
       "      <td>1212551</td>\n",
       "      <td>1</td>\n",
       "    </tr>\n",
       "    <tr>\n",
       "      <th>1484</th>\n",
       "      <td>232226447</td>\n",
       "      <td>1</td>\n",
       "    </tr>\n",
       "    <tr>\n",
       "      <th>1485</th>\n",
       "      <td>5197900</td>\n",
       "      <td>1</td>\n",
       "    </tr>\n",
       "    <tr>\n",
       "      <th>1486</th>\n",
       "      <td>2513179236</td>\n",
       "      <td>1</td>\n",
       "    </tr>\n",
       "    <tr>\n",
       "      <th>1487</th>\n",
       "      <td>2224140284</td>\n",
       "      <td>1</td>\n",
       "    </tr>\n",
       "    <tr>\n",
       "      <th>1488</th>\n",
       "      <td>71331462</td>\n",
       "      <td>1</td>\n",
       "    </tr>\n",
       "    <tr>\n",
       "      <th>1489</th>\n",
       "      <td>114216100</td>\n",
       "      <td>1</td>\n",
       "    </tr>\n",
       "    <tr>\n",
       "      <th>1490</th>\n",
       "      <td>11021410</td>\n",
       "      <td>1</td>\n",
       "    </tr>\n",
       "    <tr>\n",
       "      <th>1491</th>\n",
       "      <td>4317247</td>\n",
       "      <td>1</td>\n",
       "    </tr>\n",
       "    <tr>\n",
       "      <th>1492</th>\n",
       "      <td>221527250</td>\n",
       "      <td>1</td>\n",
       "    </tr>\n",
       "    <tr>\n",
       "      <th>1493</th>\n",
       "      <td>122319988</td>\n",
       "      <td>1</td>\n",
       "    </tr>\n",
       "    <tr>\n",
       "      <th>1494</th>\n",
       "      <td>122143163</td>\n",
       "      <td>1</td>\n",
       "    </tr>\n",
       "    <tr>\n",
       "      <th>1495</th>\n",
       "      <td>1014207636</td>\n",
       "      <td>1</td>\n",
       "    </tr>\n",
       "    <tr>\n",
       "      <th>1496</th>\n",
       "      <td>17133913</td>\n",
       "      <td>1</td>\n",
       "    </tr>\n",
       "    <tr>\n",
       "      <th>1497</th>\n",
       "      <td>14165210</td>\n",
       "      <td>1</td>\n",
       "    </tr>\n",
       "    <tr>\n",
       "      <th>1498</th>\n",
       "      <td>24777679</td>\n",
       "      <td>1</td>\n",
       "    </tr>\n",
       "    <tr>\n",
       "      <th>1499</th>\n",
       "      <td>161514055</td>\n",
       "      <td>1</td>\n",
       "    </tr>\n",
       "  </tbody>\n",
       "</table>\n",
       "<p>1500 rows × 2 columns</p>\n",
       "</div>"
      ],
      "text/plain": [
       "      customerID  Churn\n",
       "0       21135993      1\n",
       "1       13130474      1\n",
       "2        7533169      1\n",
       "3     2114231208      1\n",
       "4        3524728      1\n",
       "5      192125049      1\n",
       "6      172428986      1\n",
       "7       21329444      1\n",
       "8      232256498      1\n",
       "9      162223094      1\n",
       "10      51038704      1\n",
       "11       3192991      1\n",
       "12      14207440      1\n",
       "13      16148243      1\n",
       "14     151417704      1\n",
       "15       9638888      1\n",
       "16    1824179531      1\n",
       "17       9183692      1\n",
       "18     102305485      1\n",
       "19      38229369      1\n",
       "20     171172457      1\n",
       "21      62027146      1\n",
       "22     222524938      1\n",
       "23     122574217      1\n",
       "24      22166710      1\n",
       "25      25129125      1\n",
       "26     316156156      1\n",
       "27     231726750      1\n",
       "28       2185655      1\n",
       "29      12189076      1\n",
       "...          ...    ...\n",
       "1470     1380287      1\n",
       "1471     3029366      1\n",
       "1472   221821377      1\n",
       "1473   610239047      1\n",
       "1474    21139551      1\n",
       "1475     1782114      1\n",
       "1476     8192630      1\n",
       "1477  1323170139      1\n",
       "1478   141961567      1\n",
       "1479   192162726      1\n",
       "1480   152133397      1\n",
       "1481      304169      1\n",
       "1482    64150263      1\n",
       "1483     1212551      1\n",
       "1484   232226447      1\n",
       "1485     5197900      1\n",
       "1486  2513179236      1\n",
       "1487  2224140284      1\n",
       "1488    71331462      1\n",
       "1489   114216100      1\n",
       "1490    11021410      1\n",
       "1491     4317247      1\n",
       "1492   221527250      1\n",
       "1493   122319988      1\n",
       "1494   122143163      1\n",
       "1495  1014207636      1\n",
       "1496    17133913      1\n",
       "1497    14165210      1\n",
       "1498    24777679      1\n",
       "1499   161514055      1\n",
       "\n",
       "[1500 rows x 2 columns]"
      ]
     },
     "execution_count": 208,
     "metadata": {},
     "output_type": "execute_result"
    }
   ],
   "source": [
    "X2 = dfTest\n",
    "churn = model.predict(X2)\n",
    "dataframeResult = dfTest.filter(['customerID'], axis=1)\n",
    "dataframeResult['Churn'] = churn\n",
    "dataframeResult[:]"
   ]
  },
  {
   "cell_type": "code",
   "execution_count": 113,
   "metadata": {
    "collapsed": true
   },
   "outputs": [],
   "source": [
    "dataframeResult.to_csv('out_rbf.csv', sep='\\t')"
   ]
  }
 ],
 "metadata": {
  "kernelspec": {
   "display_name": "Python 3",
   "language": "python",
   "name": "python3"
  },
  "language_info": {
   "codemirror_mode": {
    "name": "ipython",
    "version": 3
   },
   "file_extension": ".py",
   "mimetype": "text/x-python",
   "name": "python",
   "nbconvert_exporter": "python",
   "pygments_lexer": "ipython3",
   "version": "3.6.3"
  }
 },
 "nbformat": 4,
 "nbformat_minor": 1
}
