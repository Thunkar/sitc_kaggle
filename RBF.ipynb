{
 "cells": [
  {
   "cell_type": "markdown",
   "metadata": {},
   "source": [
    "First we show the code used, and at the end we show the results and its analysis and conclusions."
   ]
  },
  {
   "cell_type": "code",
   "execution_count": 3,
   "metadata": {},
   "outputs": [],
   "source": [
    "# General import and load data\n",
    "import pandas as pd\n",
    "import numpy as np\n",
    "\n",
    "from pandas import Series, DataFrame\n",
    "\n",
    "# Training and test spliting\n",
    "from sklearn.cross_validation import train_test_split\n",
    "from sklearn import preprocessing\n",
    "\n",
    "# Estimators\n",
    "from sklearn.svm import SVC\n",
    "\n",
    "# Evaluation\n",
    "from sklearn import metrics\n",
    "from sklearn.cross_validation import cross_val_score, KFold, StratifiedKFold\n",
    "from sklearn.metrics import classification_report\n",
    "from sklearn.metrics import roc_curve\n",
    "from sklearn.metrics import roc_auc_score\n",
    "\n",
    "# Optimization\n",
    "from sklearn.grid_search import GridSearchCV\n",
    "\n",
    "# if matplotlib is not set inline, you will not see plots\n",
    "#alternatives auto gtk gtk2 inline osx qt qt5 wx tk\n",
    "#%matplotlib auto\n",
    "#%matplotlib qt\n",
    "%matplotlib inline\n",
    "%run plot_learning_curve"
   ]
  },
  {
   "cell_type": "markdown",
   "metadata": {},
   "source": [
    "# RBF MODEL"
   ]
  },
  {
   "cell_type": "markdown",
   "metadata": {},
   "source": [
    "Primero cargamos y limpiamos el modelo"
   ]
  },
  {
   "cell_type": "code",
   "execution_count": 4,
   "metadata": {},
   "outputs": [],
   "source": [
    "df = pd.read_csv('data-churn/train.csv')\n",
    "\n",
    "df.loc[df[\"gender\"] == \"Male\", \"gender\"] = 0\n",
    "df.loc[df[\"gender\"] == \"Female\", \"gender\"] = 1\n",
    "\n",
    "df.loc[df[\"Partner\"] == \"Yes\", \"Partner\"] = 1\n",
    "df.loc[df[\"Partner\"] == \"No\", \"Partner\"] = 0\n",
    "\n",
    "df.loc[df[\"Dependents\"] == \"Yes\", \"Dependents\"] = 1\n",
    "df.loc[df[\"Dependents\"] == \"No\", \"Dependents\"] = 0\n",
    "\n",
    "df.loc[df[\"PhoneService\"] == \"Yes\", \"PhoneService\"] = 1\n",
    "df.loc[df[\"PhoneService\"] == \"No\", \"PhoneService\"] = 0\n",
    "\n",
    "df.loc[df[\"MultipleLines\"] == \"No\", \"MultipleLines\"] = 0\n",
    "df.loc[df[\"MultipleLines\"] == \"No phone service\", \"MultipleLines\"] = 0\n",
    "df.loc[df[\"MultipleLines\"] == \"Yes\", \"MultipleLines\"] = 1\n",
    "\n",
    "df.loc[df[\"InternetService\"] == \"No\", \"InternetService\"] = 0\n",
    "df.loc[df[\"InternetService\"] == \"DSL\", \"InternetService\"] = 1\n",
    "df.loc[df[\"InternetService\"] == \"Fiber optic\", \"InternetService\"] = 2\n",
    "\n",
    "df.loc[df[\"OnlineSecurity\"] == \"No\", \"OnlineSecurity\"] = 0\n",
    "df.loc[df[\"OnlineSecurity\"] == \"No internet service\", \"OnlineSecurity\"] = 0\n",
    "df.loc[df[\"OnlineSecurity\"] == \"Yes\", \"OnlineSecurity\"] = 1\n",
    "\n",
    "df.loc[df[\"OnlineBackup\"] == \"No\", \"OnlineBackup\"] = 0\n",
    "df.loc[df[\"OnlineBackup\"] == \"No internet service\", \"OnlineBackup\"] = 0\n",
    "df.loc[df[\"OnlineBackup\"] == \"Yes\", \"OnlineBackup\"] = 1\n",
    "\n",
    "df.loc[df[\"DeviceProtection\"] == \"No\", \"DeviceProtection\"] = 0\n",
    "df.loc[df[\"DeviceProtection\"] == \"No internet service\", \"DeviceProtection\"] = 0\n",
    "df.loc[df[\"DeviceProtection\"] == \"Yes\", \"DeviceProtection\"] = 1\n",
    "\n",
    "df.loc[df[\"TechSupport\"] == \"No\", \"TechSupport\"] = 0\n",
    "df.loc[df[\"TechSupport\"] == \"No internet service\", \"TechSupport\"] = 0\n",
    "df.loc[df[\"TechSupport\"] == \"Yes\", \"TechSupport\"] = 1\n",
    "\n",
    "df.loc[df[\"StreamingTV\"] == \"No\", \"StreamingTV\"] = 0\n",
    "df.loc[df[\"StreamingTV\"] == \"No internet service\", \"StreamingTV\"] = 0\n",
    "df.loc[df[\"StreamingTV\"] == \"Yes\", \"StreamingTV\"] = 1\n",
    "\n",
    "df.loc[df[\"StreamingMovies\"] == \"No\", \"StreamingMovies\"] = 0\n",
    "df.loc[df[\"StreamingMovies\"] == \"No internet service\", \"StreamingMovies\"] = 0\n",
    "df.loc[df[\"StreamingMovies\"] == \"Yes\", \"StreamingMovies\"] = 1\n",
    "\n",
    "df.loc[df[\"Contract\"] == \"Two year\", \"Contract\"] = 0\n",
    "df.loc[df[\"Contract\"] == \"One year\", \"Contract\"] = 1\n",
    "df.loc[df[\"Contract\"] == \"Month-to-month\", \"Contract\"] = 2\n",
    "\n",
    "df.loc[df[\"PaperlessBilling\"] == \"Yes\", \"PaperlessBilling\"] = 1\n",
    "df.loc[df[\"PaperlessBilling\"] == \"No\", \"PaperlessBilling\"] = 0\n",
    "\n",
    "df.loc[df[\"PaymentMethod\"] == \"Bank transfer (automatic)\", \"PaymentMethod\"] = 0\n",
    "df.loc[df[\"PaymentMethod\"] == \"Mailed check\", \"PaymentMethod\"] = 1\n",
    "df.loc[df[\"PaymentMethod\"] == \"Electronic check\", \"PaymentMethod\"] = 2\n",
    "df.loc[df[\"PaymentMethod\"] == \"Credit card (automatic)\", \"PaymentMethod\"] = 3\n",
    "\n",
    "df[\"TotalCharges\"] = df[\"TotalCharges\"].apply(pd.to_numeric, errors='coerce')\n",
    "\n",
    "df['TotalCharges'] = df['TotalCharges'].fillna(df['TotalCharges'].median())"
   ]
  },
  {
   "cell_type": "code",
   "execution_count": 5,
   "metadata": {},
   "outputs": [
    {
     "data": {
      "text/plain": [
       "customerID            int64\n",
       "gender                int64\n",
       "SeniorCitizen         int64\n",
       "Partner               int64\n",
       "Dependents            int64\n",
       "tenure                int64\n",
       "PhoneService          int64\n",
       "MultipleLines         int64\n",
       "InternetService       int64\n",
       "OnlineSecurity        int64\n",
       "OnlineBackup          int64\n",
       "DeviceProtection      int64\n",
       "TechSupport           int64\n",
       "StreamingTV           int64\n",
       "StreamingMovies       int64\n",
       "Contract              int64\n",
       "PaperlessBilling      int64\n",
       "PaymentMethod         int64\n",
       "MonthlyCharges      float64\n",
       "TotalCharges        float64\n",
       "Churn                 int64\n",
       "dtype: object"
      ]
     },
     "execution_count": 5,
     "metadata": {},
     "output_type": "execute_result"
    }
   ],
   "source": [
    "#Check types are numeric\n",
    "df.dtypes"
   ]
  },
  {
   "cell_type": "code",
   "execution_count": 6,
   "metadata": {},
   "outputs": [],
   "source": [
    "df['gender'] = df['gender'].astype(np.int64)\n",
    "df['Partner'] = df['Partner'].astype(np.int64)\n",
    "df['Dependents'] = df['Dependents'].astype(np.int64)\n",
    "df['PhoneService'] = df['PhoneService'].astype(np.int64)\n",
    "df['MultipleLines'] = df['MultipleLines'].astype(np.int64)\n",
    "df['InternetService'] = df['InternetService'].astype(np.int64)\n",
    "df['OnlineSecurity'] = df['OnlineSecurity'].astype(np.int64)\n",
    "df['OnlineBackup'] = df['OnlineBackup'].astype(np.int64)\n",
    "df['DeviceProtection'] = df['DeviceProtection'].astype(np.int64)\n",
    "df['TechSupport'] = df['TechSupport'].astype(np.int64)\n",
    "df['StreamingTV'] = df['StreamingTV'].astype(np.int64)\n",
    "df['StreamingMovies'] = df['StreamingMovies'].astype(np.int64)\n",
    "df['Contract'] = df['Contract'].astype(np.int64)\n",
    "df['PaperlessBilling'] = df['PaperlessBilling'].astype(np.int64)\n",
    "df['PaymentMethod'] = df['PaymentMethod'].astype(np.int64)"
   ]
  },
  {
   "cell_type": "code",
   "execution_count": 7,
   "metadata": {},
   "outputs": [
    {
     "data": {
      "text/plain": [
       "customerID            int64\n",
       "gender                int64\n",
       "SeniorCitizen         int64\n",
       "Partner               int64\n",
       "Dependents            int64\n",
       "tenure                int64\n",
       "PhoneService          int64\n",
       "MultipleLines         int64\n",
       "InternetService       int64\n",
       "OnlineSecurity        int64\n",
       "OnlineBackup          int64\n",
       "DeviceProtection      int64\n",
       "TechSupport           int64\n",
       "StreamingTV           int64\n",
       "StreamingMovies       int64\n",
       "Contract              int64\n",
       "PaperlessBilling      int64\n",
       "PaymentMethod         int64\n",
       "MonthlyCharges      float64\n",
       "TotalCharges        float64\n",
       "Churn                 int64\n",
       "dtype: object"
      ]
     },
     "execution_count": 7,
     "metadata": {},
     "output_type": "execute_result"
    }
   ],
   "source": [
    "#Check types are numeric\n",
    "df.dtypes"
   ]
  },
  {
   "cell_type": "code",
   "execution_count": 8,
   "metadata": {},
   "outputs": [
    {
     "data": {
      "text/plain": [
       "customerID          False\n",
       "gender              False\n",
       "SeniorCitizen       False\n",
       "Partner             False\n",
       "Dependents          False\n",
       "tenure              False\n",
       "PhoneService        False\n",
       "MultipleLines       False\n",
       "InternetService     False\n",
       "OnlineSecurity      False\n",
       "OnlineBackup        False\n",
       "DeviceProtection    False\n",
       "TechSupport         False\n",
       "StreamingTV         False\n",
       "StreamingMovies     False\n",
       "Contract            False\n",
       "PaperlessBilling    False\n",
       "PaymentMethod       False\n",
       "MonthlyCharges      False\n",
       "TotalCharges        False\n",
       "Churn               False\n",
       "dtype: bool"
      ]
     },
     "execution_count": 8,
     "metadata": {},
     "output_type": "execute_result"
    }
   ],
   "source": [
    "#Check there are not missing values\n",
    "df.isnull().any()"
   ]
  },
  {
   "cell_type": "code",
   "execution_count": 9,
   "metadata": {},
   "outputs": [],
   "source": [
    "# Features of the model\n",
    "\n",
    "X = df.drop(['Churn'], axis=1).values\n",
    "y = df['Churn'].values\n",
    "\n",
    "# Test set will be the 25% taken randomly\n",
    "X_train, X_test, y_train, y_test = train_test_split(X, y, test_size=0.25, random_state=33)\n",
    "\n",
    "# Preprocess: normalize\n",
    "scaler = preprocessing.StandardScaler().fit(X_train)\n",
    "X_train = scaler.transform(X_train)\n",
    "X_test = scaler.transform(X_test)"
   ]
  },
  {
   "cell_type": "markdown",
   "metadata": {},
   "source": [
    "# Define model"
   ]
  },
  {
   "cell_type": "code",
   "execution_count": 10,
   "metadata": {},
   "outputs": [],
   "source": [
    "types_of_kernels = ['linear', 'rbf', 'poly']\n",
    "\n",
    "kernel = types_of_kernels[1]\n",
    "gamma = 3.0\n",
    "model = SVC(kernel=kernel, probability=True, gamma=gamma)"
   ]
  },
  {
   "cell_type": "markdown",
   "metadata": {},
   "source": [
    "# Train and evaluate"
   ]
  },
  {
   "cell_type": "code",
   "execution_count": 11,
   "metadata": {},
   "outputs": [],
   "source": [
    "#This step will take some time \n",
    "# Train - This is not needed if you use K-Fold\n",
    "model.fit(X_train, y_train)\n",
    "predicted = model.predict(X_test)\n",
    "expected = y_test"
   ]
  },
  {
   "cell_type": "code",
   "execution_count": 12,
   "metadata": {},
   "outputs": [
    {
     "data": {
      "text/plain": [
       "0.7474747474747475"
      ]
     },
     "execution_count": 12,
     "metadata": {},
     "output_type": "execute_result"
    }
   ],
   "source": [
    "# Accuracy\n",
    "metrics.accuracy_score(expected, predicted)"
   ]
  },
  {
   "cell_type": "markdown",
   "metadata": {},
   "source": [
    "~75% using RBF kernel with normalized data\n"
   ]
  },
  {
   "cell_type": "markdown",
   "metadata": {},
   "source": [
    "## Null accuracy"
   ]
  },
  {
   "cell_type": "markdown",
   "metadata": {},
   "source": [
    "We can evaluate the accuracy if the model always predict the most frequent class, following this [refeference](http://blog.kaggle.com/2015/10/23/scikit-learn-video-9-better-evaluation-of-classification-models/)."
   ]
  },
  {
   "cell_type": "code",
   "execution_count": 13,
   "metadata": {},
   "outputs": [
    {
     "data": {
      "text/plain": [
       "0    997\n",
       "1    389\n",
       "dtype: int64"
      ]
     },
     "execution_count": 13,
     "metadata": {},
     "output_type": "execute_result"
    }
   ],
   "source": [
    "# Count number of samples per class\n",
    "s_y_test = Series(y_test)\n",
    "s_y_test.value_counts()"
   ]
  },
  {
   "cell_type": "code",
   "execution_count": 14,
   "metadata": {},
   "outputs": [
    {
     "data": {
      "text/plain": [
       "0.28066378066378067"
      ]
     },
     "execution_count": 14,
     "metadata": {},
     "output_type": "execute_result"
    }
   ],
   "source": [
    "# Mean of ones\n",
    "y_test.mean()"
   ]
  },
  {
   "cell_type": "code",
   "execution_count": 15,
   "metadata": {},
   "outputs": [
    {
     "data": {
      "text/plain": [
       "0.7193362193362194"
      ]
     },
     "execution_count": 15,
     "metadata": {},
     "output_type": "execute_result"
    }
   ],
   "source": [
    "# Mean of zeros\n",
    "1 - y_test.mean() "
   ]
  },
  {
   "cell_type": "code",
   "execution_count": 16,
   "metadata": {},
   "outputs": [
    {
     "data": {
      "text/plain": [
       "0.7193362193362194"
      ]
     },
     "execution_count": 16,
     "metadata": {},
     "output_type": "execute_result"
    }
   ],
   "source": [
    "# Calculate null accuracy (binary classification coded as 0/1)\n",
    "max(y_test.mean(), 1 - y_test.mean())"
   ]
  },
  {
   "cell_type": "code",
   "execution_count": 17,
   "metadata": {},
   "outputs": [
    {
     "data": {
      "text/plain": [
       "0    0.719336\n",
       "dtype: float64"
      ]
     },
     "execution_count": 17,
     "metadata": {},
     "output_type": "execute_result"
    }
   ],
   "source": [
    "# Calculate null accuracy (multiclass classification)\n",
    "s_y_test.value_counts().head(1) / len(y_test)"
   ]
  },
  {
   "cell_type": "markdown",
   "metadata": {},
   "source": [
    "Null accuracy is 71.93% so there is no such a difference between null accuracy and accuracy(75%)"
   ]
  },
  {
   "cell_type": "markdown",
   "metadata": {},
   "source": [
    "## Confussion matrix and F-score"
   ]
  },
  {
   "cell_type": "code",
   "execution_count": 18,
   "metadata": {},
   "outputs": [
    {
     "name": "stdout",
     "output_type": "stream",
     "text": [
      "[[982  15]\n",
      " [335  54]]\n"
     ]
    }
   ],
   "source": [
    "# Confusion matrix\n",
    "print(metrics.confusion_matrix(expected, predicted))"
   ]
  },
  {
   "cell_type": "code",
   "execution_count": 19,
   "metadata": {},
   "outputs": [
    {
     "name": "stdout",
     "output_type": "stream",
     "text": [
      "             precision    recall  f1-score   support\n",
      "\n",
      "          0       0.75      0.98      0.85       997\n",
      "          1       0.78      0.14      0.24       389\n",
      "\n",
      "avg / total       0.76      0.75      0.68      1386\n",
      "\n"
     ]
    }
   ],
   "source": [
    "# Report\n",
    "print(classification_report(expected, predicted))"
   ]
  },
  {
   "cell_type": "markdown",
   "metadata": {},
   "source": [
    "## ROC (Receiver Operating Characteristic ) and AUC (Area Under the Curve)"
   ]
  },
  {
   "cell_type": "markdown",
   "metadata": {},
   "source": [
    "The [ROC](https://en.wikipedia.org/wiki/Receiver_operating_characteristic)  curve illustrates the performance of a binary classifier system as its discrimination threshold is varied."
   ]
  },
  {
   "cell_type": "code",
   "execution_count": 20,
   "metadata": {
    "scrolled": true
   },
   "outputs": [
    {
     "data": {
      "image/png": "[encoded data removed]",
      "text/plain": [
       "<matplotlib.figure.Figure at 0x18e8422cac8>"
      ]
     },
     "metadata": {},
     "output_type": "display_data"
    }
   ],
   "source": [
    "y_pred_prob = model.predict_proba(X_test)[:,1]\n",
    "fpr, tpr, thresholds = roc_curve(y_test, y_pred_prob)\n",
    "plt.plot(fpr, tpr)\n",
    "plt.xlim([0.0, 1.0])\n",
    "plt.ylim([0.0, 1.0])\n",
    "plt.title('ROC curve for Telco Churn')\n",
    "plt.xlabel('False Positive Rate (1 - Recall)')\n",
    "plt.xlabel('True Positive Rate (Sensitivity)')\n",
    "plt.grid(True)"
   ]
  },
  {
   "cell_type": "code",
   "execution_count": 21,
   "metadata": {},
   "outputs": [
    {
     "data": {
      "text/plain": [
       "array([0.85757549, 0.83500973, 0.8334404 , 0.81150351, 0.81136039,\n",
       "       0.80985325, 0.80873248, 0.79696971, 0.78728072, 0.70149093,\n",
       "       0.69537405, 0.60791091, 0.6036213 , 0.6027405 , 0.60167925,\n",
       "       0.58586995, 0.58130916, 0.55206227, 0.549606  , 0.53035006,\n",
       "       0.52995651, 0.52900729, 0.51353636, 0.5       , 0.47538965,\n",
       "       0.45449221, 0.45015992, 0.41851162, 0.41601684, 0.4159071 ,\n",
       "       0.4141433 , 0.40646805, 0.37750635, 0.37609158, 0.36752615,\n",
       "       0.36416781, 0.36320219, 0.35549128, 0.35500969, 0.34004182,\n",
       "       0.32749982, 0.3234246 , 0.32004676, 0.30932422, 0.30863105,\n",
       "       0.30170833, 0.28992002, 0.28780629, 0.28546574, 0.28328965,\n",
       "       0.28186448, 0.28005826, 0.27514271, 0.27511189, 0.2742036 ,\n",
       "       0.27416897, 0.27386261, 0.27215384, 0.27182849, 0.27150222,\n",
       "       0.27100491, 0.27094959, 0.27072221, 0.26998114, 0.26961762,\n",
       "       0.26915542, 0.2671462 , 0.26621511, 0.26522417, 0.26457893,\n",
       "       0.264346  , 0.26330738, 0.26213333, 0.2612726 , 0.26120049,\n",
       "       0.26003258, 0.25851189, 0.25765889, 0.25727161, 0.25715232,\n",
       "       0.25697227, 0.25660833, 0.25656617, 0.25644955, 0.25607853,\n",
       "       0.25556486, 0.25553371, 0.25547121, 0.2553806 , 0.25512856,\n",
       "       0.25507574, 0.25503208, 0.2550044 , 0.25496031, 0.25492884,\n",
       "       0.25492305, 0.25491761, 0.2548675 , 0.25485718, 0.25480475,\n",
       "       0.25479685, 0.25479352, 0.25479338, 0.25479052, 0.25478876,\n",
       "       0.25478829, 0.25478629, 0.25478626, 0.25478472, 0.25478464,\n",
       "       0.25478347, 0.25478316, 0.25478254, 0.25478227, 0.25478219,\n",
       "       0.25478216, 0.25478215, 0.25478215, 0.25478199, 0.25478194,\n",
       "       0.25478193, 0.25478191, 0.25478156, 0.25478153, 0.25478151,\n",
       "       0.25478143, 0.25478134, 0.25478134, 0.25478134, 0.25478131,\n",
       "       0.25478131, 0.2547813 , 0.25478125, 0.25478119, 0.25478109,\n",
       "       0.25478104, 0.25478099, 0.25478094, 0.25478094, 0.25478094,\n",
       "       0.25478087, 0.25478085, 0.25478082, 0.25478082, 0.2547808 ,\n",
       "       0.2547808 , 0.25478079, 0.25478079, 0.25478079, 0.25478078,\n",
       "       0.25478076, 0.25478075, 0.25478075, 0.25478075, 0.25478075,\n",
       "       0.25478072, 0.25478072, 0.25478071, 0.2547807 , 0.2547807 ,\n",
       "       0.2547807 , 0.25478069, 0.25478069, 0.25478069, 0.25478069,\n",
       "       0.25478069, 0.25478069, 0.25478068, 0.25478068, 0.25478068,\n",
       "       0.25478068, 0.25478068, 0.25478068, 0.25478068, 0.25478068,\n",
       "       0.25478068, 0.25478068, 0.25478068, 0.25478068, 0.25478068,\n",
       "       0.25478068, 0.25478068, 0.25478068, 0.25478067, 0.25478067,\n",
       "       0.25478067, 0.25478067, 0.25478067, 0.25478067, 0.25478067,\n",
       "       0.25478067, 0.25478067, 0.25478067, 0.25478067, 0.25478067,\n",
       "       0.25478067, 0.25478067, 0.25478067, 0.25478067, 0.25478067,\n",
       "       0.25478067, 0.25478067, 0.25478067, 0.25478067, 0.25478067,\n",
       "       0.25478067, 0.25478067, 0.25478067, 0.25478067, 0.25478067,\n",
       "       0.25478067, 0.25478067, 0.25478067, 0.25478067, 0.25478067,\n",
       "       0.25478067, 0.25478067, 0.25478067, 0.25478067, 0.25478067,\n",
       "       0.25478067, 0.25478067, 0.25478067, 0.25478067, 0.25478067,\n",
       "       0.25478067, 0.25478067, 0.25478067, 0.25478067, 0.25478067,\n",
       "       0.25478067, 0.25478067, 0.25478067, 0.25478067, 0.25478067,\n",
       "       0.25478067, 0.25478067, 0.25478067, 0.25478067, 0.25478067,\n",
       "       0.25478067, 0.25478067, 0.25478067, 0.25478067, 0.25478067,\n",
       "       0.25478067, 0.25478067, 0.25478067, 0.25478067, 0.25478067,\n",
       "       0.25478067, 0.25478067, 0.25478067, 0.25478067, 0.25478067,\n",
       "       0.25478067, 0.25478067, 0.25478067, 0.25478067, 0.25478066,\n",
       "       0.25478066, 0.25478066, 0.25478066, 0.25478066, 0.25478065,\n",
       "       0.25478065, 0.25478065, 0.25478065, 0.25478065, 0.25478065,\n",
       "       0.25478064, 0.25478064, 0.25478064, 0.25478064, 0.25478064,\n",
       "       0.25478063, 0.25478063, 0.25478063, 0.25478062, 0.25478062,\n",
       "       0.25478062, 0.25478061, 0.25478061, 0.2547806 , 0.2547806 ,\n",
       "       0.25478059, 0.25478059, 0.25478058, 0.25478058, 0.25478057,\n",
       "       0.25478057, 0.25478055, 0.25478055, 0.25478054, 0.25478053,\n",
       "       0.25478052, 0.25478052, 0.25478051, 0.25478051, 0.2547805 ,\n",
       "       0.2547805 , 0.25478049, 0.25478049, 0.25478048, 0.25478047,\n",
       "       0.25478046, 0.25478045, 0.25478043, 0.2547804 , 0.25478039,\n",
       "       0.25478039, 0.25478032, 0.2547803 , 0.25478026, 0.25478025,\n",
       "       0.25478021, 0.25478021, 0.2547802 , 0.25478019, 0.25478018,\n",
       "       0.25478016, 0.25478012, 0.25478011, 0.25478006, 0.25478004,\n",
       "       0.25478001, 0.25478001, 0.25477992, 0.25477991, 0.25477989,\n",
       "       0.25477987, 0.25477953, 0.25477946, 0.2547794 , 0.25477927,\n",
       "       0.25477845, 0.25477837, 0.25477761, 0.25477738, 0.25477716,\n",
       "       0.25477671, 0.25477431, 0.25477424, 0.25477261, 0.25477253,\n",
       "       0.25476886, 0.25476869, 0.25476039, 0.25475721, 0.25474989,\n",
       "       0.25474805, 0.2547474 , 0.25474682, 0.25473969, 0.25473115,\n",
       "       0.25472855, 0.25472512, 0.25471176, 0.25470882, 0.25470421,\n",
       "       0.25470231, 0.25469678, 0.25469481, 0.25469406, 0.25468275,\n",
       "       0.2546108 , 0.25460242, 0.25456369, 0.25455273, 0.25450817,\n",
       "       0.25447457, 0.25435961, 0.25432072, 0.25414254, 0.25412368,\n",
       "       0.25402382, 0.25399005, 0.25382269, 0.25381377, 0.25381161,\n",
       "       0.25379634, 0.25367221, 0.25365883, 0.25363595, 0.25359939,\n",
       "       0.25335847, 0.25319539, 0.25278093, 0.25269   , 0.25156046,\n",
       "       0.25154965, 0.2510332 , 0.25073628, 0.25068261, 0.2505057 ,\n",
       "       0.25013459, 0.25011442, 0.24973928, 0.24941091, 0.24847932,\n",
       "       0.24847412, 0.24747416, 0.24746703, 0.24621671, 0.24617708,\n",
       "       0.24438998, 0.24414593, 0.24149981, 0.241394  , 0.2331124 ,\n",
       "       0.23225258, 0.23210053, 0.23163415, 0.23125556, 0.23035551,\n",
       "       0.22881148, 0.22849906, 0.21979194, 0.21846998, 0.21675388,\n",
       "       0.21287916, 0.21127799, 0.21068558, 0.21064819, 0.20917996,\n",
       "       0.20660822, 0.20648219, 0.20328417, 0.20260932, 0.20063644,\n",
       "       0.19964604, 0.19917045, 0.19850846, 0.19725425, 0.19669988,\n",
       "       0.19352012, 0.19148765, 0.18995006, 0.18922787, 0.1836942 ,\n",
       "       0.18345946, 0.17729347, 0.17729098, 0.17610562, 0.17600355,\n",
       "       0.17453783, 0.17444084, 0.17389763, 0.17315329, 0.17277349,\n",
       "       0.17242184, 0.17234489, 0.17207775, 0.17163822, 0.17162067,\n",
       "       0.16844828, 0.16799534, 0.16536457, 0.1653333 , 0.16513014,\n",
       "       0.16511342, 0.16479097, 0.16464407, 0.16451353, 0.16450334,\n",
       "       0.16428867, 0.16420189, 0.16368166, 0.16364773, 0.16334757,\n",
       "       0.16333195, 0.16248201, 0.16245936, 0.15788795, 0.15754567,\n",
       "       0.1568692 , 0.15658704, 0.15131912, 0.14895695, 0.1487143 ,\n",
       "       0.14744353, 0.14625424, 0.14562498])"
      ]
     },
     "execution_count": 21,
     "metadata": {},
     "output_type": "execute_result"
    }
   ],
   "source": [
    "#Threshold used by the decision function, thresholds[0] is the number of \n",
    "thresholds"
   ]
  },
  {
   "cell_type": "code",
   "execution_count": 22,
   "metadata": {},
   "outputs": [
    {
     "data": {
      "text/plain": [
       "array([<matplotlib.axes._subplots.AxesSubplot object at 0x0000018E8422C978>,\n",
       "       <matplotlib.axes._subplots.AxesSubplot object at 0x0000018E84047550>],\n",
       "      dtype=object)"
      ]
     },
     "execution_count": 22,
     "metadata": {},
     "output_type": "execute_result"
    },
    {
     "data": {
      "image/png": "[encoded data removed]",
      "text/plain": [
       "<matplotlib.figure.Figure at 0x18e840a99e8>"
      ]
     },
     "metadata": {},
     "output_type": "display_data"
    }
   ],
   "source": [
    "#Histogram of probability vs actual\n",
    "dprob = pd.DataFrame(data = {'probability':y_pred_prob, 'actual':y_test})\n",
    "dprob.probability.hist(by=dprob.actual, sharex=True, sharey=True)"
   ]
  },
  {
   "cell_type": "markdown",
   "metadata": {},
   "source": [
    "ROC curve helps to select a threshold to balance sensitivity and recall."
   ]
  },
  {
   "cell_type": "code",
   "execution_count": 23,
   "metadata": {},
   "outputs": [],
   "source": [
    "#Function to evaluate thresholds of the ROC curve\n",
    "def evaluate_threshold(threshold):\n",
    "    print('Sensitivity:', tpr[thresholds > threshold][-1])\n",
    "    print('Recall:', 1 - fpr[thresholds > threshold][-1])"
   ]
  },
  {
   "cell_type": "code",
   "execution_count": 24,
   "metadata": {},
   "outputs": [
    {
     "name": "stdout",
     "output_type": "stream",
     "text": [
      "Sensitivity: 0.038560411311053984\n",
      "Recall: 0.995987963891675\n"
     ]
    }
   ],
   "source": [
    "evaluate_threshold(0.75)"
   ]
  },
  {
   "cell_type": "code",
   "execution_count": 25,
   "metadata": {},
   "outputs": [
    {
     "name": "stdout",
     "output_type": "stream",
     "text": [
      "Sensitivity: 0.12596401028277635\n",
      "Recall: 0.9849548645937813\n"
     ]
    }
   ],
   "source": [
    "evaluate_threshold(0.5)"
   ]
  },
  {
   "cell_type": "markdown",
   "metadata": {},
   "source": [
    "By default, the thresdhold to decide a class is 0.5, If we modify it, we should use the new thresdhold.\n",
    "\n",
    "threshold = 0.75\n",
    "\n",
    "predicted = model.predict_proba(X) > threshold"
   ]
  },
  {
   "cell_type": "code",
   "execution_count": 26,
   "metadata": {},
   "outputs": [
    {
     "name": "stdout",
     "output_type": "stream",
     "text": [
      "0.5618861726567879\n"
     ]
    }
   ],
   "source": [
    "# AUX\n",
    "print(roc_auc_score(expected, predicted))"
   ]
  },
  {
   "cell_type": "markdown",
   "metadata": {},
   "source": [
    "## Train and Evaluate with K-Fold"
   ]
  },
  {
   "cell_type": "code",
   "execution_count": 27,
   "metadata": {},
   "outputs": [
    {
     "name": "stdout",
     "output_type": "stream",
     "text": [
      "Scores in every iteration [0.72858431 0.73850316 0.72678088 0.73916968 0.71841155]\n",
      "Accuracy: 0.73 (+/- 0.02)\n"
     ]
    }
   ],
   "source": [
    "# This step will take some time\n",
    "# Cross-validation\n",
    "cv = KFold(X.shape[0], n_folds=5, shuffle=False, random_state=33)\n",
    "# StratifiedKFold has is a variation of k-fold which returns stratified folds:\n",
    "# each set contains approximately the same percentage of samples of each target class as the complete set.\n",
    "#cv = StratifiedKFold(y, n_folds=3, shuffle=False, random_state=33)\n",
    "scores = cross_val_score(model, X, y, cv=cv)\n",
    "print(\"Scores in every iteration\", scores)\n",
    "print(\"Accuracy: %0.2f (+/- %0.2f)\" % (scores.mean(), scores.std() * 2))"
   ]
  },
  {
   "cell_type": "code",
   "execution_count": 28,
   "metadata": {},
   "outputs": [
    {
     "data": {
      "text/plain": [
       "<module 'matplotlib.pyplot' from 'C:\\\\Users\\\\grego\\\\Anaconda3\\\\lib\\\\site-packages\\\\matplotlib\\\\pyplot.py'>"
      ]
     },
     "execution_count": 28,
     "metadata": {},
     "output_type": "execute_result"
    },
    {
     "data": {
      "image/png": "[encoded data removed]",
      "text/plain": [
       "<matplotlib.figure.Figure at 0x18e84051be0>"
      ]
     },
     "metadata": {},
     "output_type": "display_data"
    }
   ],
   "source": [
    "plot_learning_curve(model, \"Learning curve with K-Fold\", X, y, cv=cv)"
   ]
  },
  {
   "cell_type": "markdown",
   "metadata": {},
   "source": [
    "# Train and Optimize"
   ]
  },
  {
   "cell_type": "code",
   "execution_count": 29,
   "metadata": {},
   "outputs": [
    {
     "name": "stdout",
     "output_type": "stream",
     "text": [
      "0.8044733044733045\n"
     ]
    }
   ],
   "source": [
    "#Tune parameters\n",
    "gammas = np.logspace(-6, -1, 10)\n",
    "gs = GridSearchCV(model, param_grid=dict(gamma=gammas))\n",
    "gs.fit(X_train, y_train)\n",
    "scores = gs.score(X_test, y_test)\n",
    "print(scores)"
   ]
  },
  {
   "cell_type": "code",
   "execution_count": 30,
   "metadata": {},
   "outputs": [
    {
     "data": {
      "text/plain": [
       "<module 'matplotlib.pyplot' from 'C:\\\\Users\\\\grego\\\\Anaconda3\\\\lib\\\\site-packages\\\\matplotlib\\\\pyplot.py'>"
      ]
     },
     "execution_count": 30,
     "metadata": {},
     "output_type": "execute_result"
    },
    {
     "data": {
      "image/png": "[encoded data removed]",
      "text/plain": [
       "<matplotlib.figure.Figure at 0x18e83fe7128>"
      ]
     },
     "metadata": {},
     "output_type": "display_data"
    }
   ],
   "source": [
    "# Refine model\n",
    "model = SVC(kernel='rbf', gamma=gs.best_estimator_.gamma)\n",
    "plot_learning_curve(model, \"optimized with GridSearch\", X, y, cv=cv)"
   ]
  },
  {
   "cell_type": "code",
   "execution_count": 31,
   "metadata": {},
   "outputs": [],
   "source": [
    "model.fit(X_train, y_train)\n",
    "\n",
    "predicted = model.predict(X_test)\n",
    "expected = y_test"
   ]
  },
  {
   "cell_type": "code",
   "execution_count": 32,
   "metadata": {},
   "outputs": [
    {
     "data": {
      "text/plain": [
       "0.8044733044733045"
      ]
     },
     "execution_count": 32,
     "metadata": {},
     "output_type": "execute_result"
    }
   ],
   "source": [
    "# Accuracy\n",
    "metrics.accuracy_score(expected, predicted)"
   ]
  },
  {
   "cell_type": "code",
   "execution_count": 33,
   "metadata": {},
   "outputs": [
    {
     "name": "stdout",
     "output_type": "stream",
     "text": [
      "0.7128106685093842\n"
     ]
    }
   ],
   "source": [
    "# AUX\n",
    "print(roc_auc_score(expected, predicted))"
   ]
  },
  {
   "cell_type": "code",
   "execution_count": 34,
   "metadata": {},
   "outputs": [
    {
     "name": "stdout",
     "output_type": "stream",
     "text": [
      "             precision    recall  f1-score   support\n",
      "\n",
      "          0       0.83      0.92      0.87       997\n",
      "          1       0.72      0.50      0.59       389\n",
      "\n",
      "avg / total       0.80      0.80      0.79      1386\n",
      "\n"
     ]
    },
    {
     "ename": "NameError",
     "evalue": "name 'f1_score' is not defined",
     "output_type": "error",
     "traceback": [
      "\u001b[1;31m---------------------------------------------------------------------------\u001b[0m",
      "\u001b[1;31mNameError\u001b[0m                                 Traceback (most recent call last)",
      "\u001b[1;32m<ipython-input-34-7d386abb4f50>\u001b[0m in \u001b[0;36m<module>\u001b[1;34m()\u001b[0m\n\u001b[0;32m      1\u001b[0m \u001b[0mprint\u001b[0m\u001b[1;33m(\u001b[0m\u001b[0mclassification_report\u001b[0m\u001b[1;33m(\u001b[0m\u001b[0mexpected\u001b[0m\u001b[1;33m,\u001b[0m \u001b[0mpredicted\u001b[0m\u001b[1;33m)\u001b[0m\u001b[1;33m)\u001b[0m\u001b[1;33m\u001b[0m\u001b[0m\n\u001b[1;32m----> 2\u001b[1;33m \u001b[0mprint\u001b[0m \u001b[1;33m(\u001b[0m\u001b[0mf1_score\u001b[0m\u001b[1;33m(\u001b[0m\u001b[0mexpected\u001b[0m\u001b[1;33m,\u001b[0m \u001b[0mpredicted\u001b[0m\u001b[1;33m)\u001b[0m\u001b[1;33m)\u001b[0m\u001b[1;33m\u001b[0m\u001b[0m\n\u001b[0m",
      "\u001b[1;31mNameError\u001b[0m: name 'f1_score' is not defined"
     ]
    }
   ],
   "source": [
    "print(classification_report(expected, predicted))\n",
    "print (f1_score(expected, predicted))"
   ]
  },
  {
   "cell_type": "markdown",
   "metadata": {},
   "source": [
    "Se carga el dataset de test"
   ]
  },
  {
   "cell_type": "code",
   "execution_count": null,
   "metadata": {},
   "outputs": [],
   "source": [
    "dfTest = pd.read_csv('data-churn/test_nolabel.csv')"
   ]
  },
  {
   "cell_type": "code",
   "execution_count": null,
   "metadata": {},
   "outputs": [],
   "source": [
    "dfTest.loc[dfTest[\"gender\"] == \"Male\", \"gender\"] = 0\n",
    "dfTest.loc[dfTest[\"gender\"] == \"Female\", \"gender\"] = 1\n",
    "\n",
    "dfTest.loc[dfTest[\"Partner\"] == \"Yes\", \"Partner\"] = 1\n",
    "dfTest.loc[dfTest[\"Partner\"] == \"No\", \"Partner\"] = 0\n",
    "\n",
    "dfTest.loc[dfTest[\"Dependents\"] == \"Yes\", \"Dependents\"] = 1\n",
    "dfTest.loc[dfTest[\"Dependents\"] == \"No\", \"Dependents\"] = 0\n",
    "\n",
    "dfTest.loc[dfTest[\"PhoneService\"] == \"Yes\", \"PhoneService\"] = 1\n",
    "dfTest.loc[dfTest[\"PhoneService\"] == \"No\", \"PhoneService\"] = 0\n",
    "\n",
    "dfTest.loc[dfTest[\"MultipleLines\"] == \"No\", \"MultipleLines\"] = 0\n",
    "dfTest.loc[dfTest[\"MultipleLines\"] == \"No phone service\", \"MultipleLines\"] = 0\n",
    "dfTest.loc[dfTest[\"MultipleLines\"] == \"Yes\", \"MultipleLines\"] = 1\n",
    "\n",
    "dfTest.loc[dfTest[\"InternetService\"] == \"No\", \"InternetService\"] = 0\n",
    "dfTest.loc[dfTest[\"InternetService\"] == \"DSL\", \"InternetService\"] = 1\n",
    "dfTest.loc[dfTest[\"InternetService\"] == \"Fiber optic\", \"InternetService\"] = 2\n",
    "\n",
    "dfTest.loc[dfTest[\"OnlineSecurity\"] == \"No\", \"OnlineSecurity\"] = 0\n",
    "dfTest.loc[dfTest[\"OnlineSecurity\"] == \"No internet service\", \"OnlineSecurity\"] = 0\n",
    "dfTest.loc[dfTest[\"OnlineSecurity\"] == \"Yes\", \"OnlineSecurity\"] = 1\n",
    "\n",
    "dfTest.loc[dfTest[\"OnlineBackup\"] == \"No\", \"OnlineBackup\"] = 0\n",
    "dfTest.loc[dfTest[\"OnlineBackup\"] == \"No internet service\", \"OnlineBackup\"] = 0\n",
    "dfTest.loc[dfTest[\"OnlineBackup\"] == \"Yes\", \"OnlineBackup\"] = 1\n",
    "\n",
    "dfTest.loc[dfTest[\"DeviceProtection\"] == \"No\", \"DeviceProtection\"] = 0\n",
    "dfTest.loc[dfTest[\"DeviceProtection\"] == \"No internet service\", \"DeviceProtection\"] = 0\n",
    "dfTest.loc[dfTest[\"DeviceProtection\"] == \"Yes\", \"DeviceProtection\"] = 1\n",
    "\n",
    "dfTest.loc[dfTest[\"TechSupport\"] == \"No\", \"TechSupport\"] = 0\n",
    "dfTest.loc[dfTest[\"TechSupport\"] == \"No internet service\", \"TechSupport\"] = 0\n",
    "dfTest.loc[dfTest[\"TechSupport\"] == \"Yes\", \"TechSupport\"] = 1\n",
    "\n",
    "dfTest.loc[dfTest[\"StreamingTV\"] == \"No\", \"StreamingTV\"] = 0\n",
    "dfTest.loc[dfTest[\"StreamingTV\"] == \"No internet service\", \"StreamingTV\"] = 0\n",
    "dfTest.loc[dfTest[\"StreamingTV\"] == \"Yes\", \"StreamingTV\"] = 1\n",
    "\n",
    "dfTest.loc[dfTest[\"StreamingMovies\"] == \"No\", \"StreamingMovies\"] = 0\n",
    "dfTest.loc[dfTest[\"StreamingMovies\"] == \"No internet service\", \"StreamingMovies\"] = 0\n",
    "dfTest.loc[dfTest[\"StreamingMovies\"] == \"Yes\", \"StreamingMovies\"] = 1\n",
    "\n",
    "dfTest.loc[dfTest[\"Contract\"] == \"Two year\", \"Contract\"] = 0\n",
    "dfTest.loc[dfTest[\"Contract\"] == \"One year\", \"Contract\"] = 1\n",
    "dfTest.loc[dfTest[\"Contract\"] == \"Month-to-month\", \"Contract\"] = 2\n",
    "\n",
    "dfTest.loc[dfTest[\"PaperlessBilling\"] == \"Yes\", \"PaperlessBilling\"] = 1\n",
    "dfTest.loc[dfTest[\"PaperlessBilling\"] == \"No\", \"PaperlessBilling\"] = 0\n",
    "\n",
    "dfTest.loc[dfTest[\"PaymentMethod\"] == \"Bank transfer (automatic)\", \"PaymentMethod\"] = 0\n",
    "dfTest.loc[dfTest[\"PaymentMethod\"] == \"Mailed check\", \"PaymentMethod\"] = 1\n",
    "dfTest.loc[dfTest[\"PaymentMethod\"] == \"Electronic check\", \"PaymentMethod\"] = 2\n",
    "dfTest.loc[dfTest[\"PaymentMethod\"] == \"Credit card (automatic)\", \"PaymentMethod\"] = 3\n",
    "\n",
    "dfTest[\"TotalCharges\"] = dfTest[\"TotalCharges\"].apply(pd.to_numeric, errors='coerce')\n",
    "dfTest['TotalCharges'] = dfTest['TotalCharges'].fillna(dfTest['TotalCharges'].median())"
   ]
  },
  {
   "cell_type": "code",
   "execution_count": null,
   "metadata": {},
   "outputs": [],
   "source": [
    "X2 = dfTest\n",
    "churn = model.predict(X2)\n",
    "dataframeResult = dfTest.filter(['customerID'], axis=1)\n",
    "dataframeResult['Churn'] = churn\n",
    "dataframeResult[:]"
   ]
  },
  {
   "cell_type": "code",
   "execution_count": null,
   "metadata": {},
   "outputs": [],
   "source": [
    "dataframeResult.to_csv('out_rbf.csv', sep=',', index=False)"
   ]
  }
 ],
 "metadata": {
  "kernelspec": {
   "display_name": "Python 3",
   "language": "python",
   "name": "python3"
  },
  "language_info": {
   "codemirror_mode": {
    "name": "ipython",
    "version": 3
   },
   "file_extension": ".py",
   "mimetype": "text/x-python",
   "name": "python",
   "nbconvert_exporter": "python",
   "pygments_lexer": "ipython3",
   "version": "3.6.4"
  }
 },
 "nbformat": 4,
 "nbformat_minor": 1
}
