{
 "cells": [
  {
   "cell_type": "markdown",
   "metadata": {},
   "source": [
    "![](images/EscUpmPolit_p.gif \"UPM\")"
   ]
  },
  {
   "cell_type": "markdown",
   "metadata": {},
   "source": [
    "# Telco Churn"
   ]
  },
  {
   "cell_type": "code",
   "execution_count": 230,
   "metadata": {
    "collapsed": true
   },
   "outputs": [],
   "source": [
    "import matplotlib.pyplot as plt\n",
    "%matplotlib inline\n",
    "import random\n",
    "import numpy as np\n",
    "import pandas as pd\n",
    "from sklearn import datasets, svm, cross_validation, tree, preprocessing, metrics\n",
    "import sklearn.ensemble as ske\n",
    "import seaborn as sns\n",
    "sns.set(color_codes=True)\n",
    "import pandas as pd \n",
    "from sklearn.model_selection import train_test_split\n",
    "from sklearn.ensemble import RandomForestClassifier\n",
    "from sklearn.metrics import confusion_matrix\n",
    "from sklearn.metrics import roc_curve\n",
    "import matplotlib\n",
    "import matplotlib.pyplot as plt\n",
    "from IPython.display import display, HTML\n",
    "from sklearn.grid_search import GridSearchCV\n",
    "from sklearn.metrics import classification_report\n",
    "from sklearn.metrics import f1_score"
   ]
  },
  {
   "cell_type": "code",
   "execution_count": 103,
   "metadata": {
    "scrolled": false
   },
   "outputs": [
    {
     "data": {
      "text/html": [
       "<div>\n",
       "<style>\n",
       "    .dataframe thead tr:only-child th {\n",
       "        text-align: right;\n",
       "    }\n",
       "\n",
       "    .dataframe thead th {\n",
       "        text-align: left;\n",
       "    }\n",
       "\n",
       "    .dataframe tbody tr th {\n",
       "        vertical-align: top;\n",
       "    }\n",
       "</style>\n",
       "<table border=\"1\" class=\"dataframe\">\n",
       "  <thead>\n",
       "    <tr style=\"text-align: right;\">\n",
       "      <th></th>\n",
       "      <th>customerID</th>\n",
       "      <th>gender</th>\n",
       "      <th>SeniorCitizen</th>\n",
       "      <th>Partner</th>\n",
       "      <th>Dependents</th>\n",
       "      <th>tenure</th>\n",
       "      <th>PhoneService</th>\n",
       "      <th>MultipleLines</th>\n",
       "      <th>InternetService</th>\n",
       "      <th>OnlineSecurity</th>\n",
       "      <th>...</th>\n",
       "      <th>DeviceProtection</th>\n",
       "      <th>TechSupport</th>\n",
       "      <th>StreamingTV</th>\n",
       "      <th>StreamingMovies</th>\n",
       "      <th>Contract</th>\n",
       "      <th>PaperlessBilling</th>\n",
       "      <th>PaymentMethod</th>\n",
       "      <th>MonthlyCharges</th>\n",
       "      <th>TotalCharges</th>\n",
       "      <th>Churn</th>\n",
       "    </tr>\n",
       "  </thead>\n",
       "  <tbody>\n",
       "    <tr>\n",
       "      <th>0</th>\n",
       "      <td>1062832</td>\n",
       "      <td>Male</td>\n",
       "      <td>0</td>\n",
       "      <td>No</td>\n",
       "      <td>No</td>\n",
       "      <td>1</td>\n",
       "      <td>Yes</td>\n",
       "      <td>No</td>\n",
       "      <td>No</td>\n",
       "      <td>No internet service</td>\n",
       "      <td>...</td>\n",
       "      <td>No internet service</td>\n",
       "      <td>No internet service</td>\n",
       "      <td>No internet service</td>\n",
       "      <td>No internet service</td>\n",
       "      <td>Month-to-month</td>\n",
       "      <td>No</td>\n",
       "      <td>Credit card (automatic)</td>\n",
       "      <td>20.55</td>\n",
       "      <td>20.55</td>\n",
       "      <td>0</td>\n",
       "    </tr>\n",
       "    <tr>\n",
       "      <th>1</th>\n",
       "      <td>675028</td>\n",
       "      <td>Female</td>\n",
       "      <td>0</td>\n",
       "      <td>No</td>\n",
       "      <td>No</td>\n",
       "      <td>50</td>\n",
       "      <td>Yes</td>\n",
       "      <td>Yes</td>\n",
       "      <td>DSL</td>\n",
       "      <td>No</td>\n",
       "      <td>...</td>\n",
       "      <td>No</td>\n",
       "      <td>Yes</td>\n",
       "      <td>Yes</td>\n",
       "      <td>Yes</td>\n",
       "      <td>Two year</td>\n",
       "      <td>Yes</td>\n",
       "      <td>Mailed check</td>\n",
       "      <td>79.60</td>\n",
       "      <td>4024.2</td>\n",
       "      <td>0</td>\n",
       "    </tr>\n",
       "    <tr>\n",
       "      <th>2</th>\n",
       "      <td>11139681</td>\n",
       "      <td>Male</td>\n",
       "      <td>1</td>\n",
       "      <td>Yes</td>\n",
       "      <td>No</td>\n",
       "      <td>59</td>\n",
       "      <td>Yes</td>\n",
       "      <td>No</td>\n",
       "      <td>Fiber optic</td>\n",
       "      <td>Yes</td>\n",
       "      <td>...</td>\n",
       "      <td>Yes</td>\n",
       "      <td>No</td>\n",
       "      <td>No</td>\n",
       "      <td>No</td>\n",
       "      <td>One year</td>\n",
       "      <td>Yes</td>\n",
       "      <td>Credit card (automatic)</td>\n",
       "      <td>82.95</td>\n",
       "      <td>4903.15</td>\n",
       "      <td>0</td>\n",
       "    </tr>\n",
       "    <tr>\n",
       "      <th>3</th>\n",
       "      <td>1522201755</td>\n",
       "      <td>Female</td>\n",
       "      <td>0</td>\n",
       "      <td>No</td>\n",
       "      <td>No</td>\n",
       "      <td>52</td>\n",
       "      <td>Yes</td>\n",
       "      <td>Yes</td>\n",
       "      <td>DSL</td>\n",
       "      <td>No</td>\n",
       "      <td>...</td>\n",
       "      <td>Yes</td>\n",
       "      <td>Yes</td>\n",
       "      <td>Yes</td>\n",
       "      <td>Yes</td>\n",
       "      <td>Two year</td>\n",
       "      <td>Yes</td>\n",
       "      <td>Bank transfer (automatic)</td>\n",
       "      <td>80.95</td>\n",
       "      <td>4233.95</td>\n",
       "      <td>0</td>\n",
       "    </tr>\n",
       "    <tr>\n",
       "      <th>4</th>\n",
       "      <td>100644</td>\n",
       "      <td>Male</td>\n",
       "      <td>0</td>\n",
       "      <td>Yes</td>\n",
       "      <td>No</td>\n",
       "      <td>34</td>\n",
       "      <td>Yes</td>\n",
       "      <td>Yes</td>\n",
       "      <td>Fiber optic</td>\n",
       "      <td>No</td>\n",
       "      <td>...</td>\n",
       "      <td>No</td>\n",
       "      <td>No</td>\n",
       "      <td>No</td>\n",
       "      <td>Yes</td>\n",
       "      <td>Month-to-month</td>\n",
       "      <td>No</td>\n",
       "      <td>Mailed check</td>\n",
       "      <td>88.85</td>\n",
       "      <td>3000.25</td>\n",
       "      <td>0</td>\n",
       "    </tr>\n",
       "  </tbody>\n",
       "</table>\n",
       "<p>5 rows × 21 columns</p>\n",
       "</div>"
      ],
      "text/plain": [
       "   customerID  gender  SeniorCitizen Partner Dependents  tenure PhoneService  \\\n",
       "0     1062832    Male              0      No         No       1          Yes   \n",
       "1      675028  Female              0      No         No      50          Yes   \n",
       "2    11139681    Male              1     Yes         No      59          Yes   \n",
       "3  1522201755  Female              0      No         No      52          Yes   \n",
       "4      100644    Male              0     Yes         No      34          Yes   \n",
       "\n",
       "  MultipleLines InternetService       OnlineSecurity  ...   \\\n",
       "0            No              No  No internet service  ...    \n",
       "1           Yes             DSL                   No  ...    \n",
       "2            No     Fiber optic                  Yes  ...    \n",
       "3           Yes             DSL                   No  ...    \n",
       "4           Yes     Fiber optic                   No  ...    \n",
       "\n",
       "      DeviceProtection          TechSupport          StreamingTV  \\\n",
       "0  No internet service  No internet service  No internet service   \n",
       "1                   No                  Yes                  Yes   \n",
       "2                  Yes                   No                   No   \n",
       "3                  Yes                  Yes                  Yes   \n",
       "4                   No                   No                   No   \n",
       "\n",
       "       StreamingMovies        Contract PaperlessBilling  \\\n",
       "0  No internet service  Month-to-month               No   \n",
       "1                  Yes        Two year              Yes   \n",
       "2                   No        One year              Yes   \n",
       "3                  Yes        Two year              Yes   \n",
       "4                  Yes  Month-to-month               No   \n",
       "\n",
       "               PaymentMethod MonthlyCharges  TotalCharges Churn  \n",
       "0    Credit card (automatic)          20.55         20.55     0  \n",
       "1               Mailed check          79.60        4024.2     0  \n",
       "2    Credit card (automatic)          82.95       4903.15     0  \n",
       "3  Bank transfer (automatic)          80.95       4233.95     0  \n",
       "4               Mailed check          88.85       3000.25     0  \n",
       "\n",
       "[5 rows x 21 columns]"
      ]
     },
     "execution_count": 103,
     "metadata": {},
     "output_type": "execute_result"
    }
   ],
   "source": [
    "df = pd.read_csv('telco-churn/train.csv')\n",
    "df[:5]"
   ]
  },
  {
   "cell_type": "code",
   "execution_count": 104,
   "metadata": {},
   "outputs": [
    {
     "data": {
      "text/plain": [
       "customerID          5543\n",
       "gender              5543\n",
       "SeniorCitizen       5543\n",
       "Partner             5543\n",
       "Dependents          5543\n",
       "tenure              5543\n",
       "PhoneService        5543\n",
       "MultipleLines       5543\n",
       "InternetService     5543\n",
       "OnlineSecurity      5543\n",
       "OnlineBackup        5543\n",
       "DeviceProtection    5543\n",
       "TechSupport         5543\n",
       "StreamingTV         5543\n",
       "StreamingMovies     5543\n",
       "Contract            5543\n",
       "PaperlessBilling    5543\n",
       "PaymentMethod       5543\n",
       "MonthlyCharges      5543\n",
       "TotalCharges        5543\n",
       "Churn               5543\n",
       "dtype: int64"
      ]
     },
     "execution_count": 104,
     "metadata": {},
     "output_type": "execute_result"
    }
   ],
   "source": [
    "df.count()"
   ]
  },
  {
   "cell_type": "markdown",
   "metadata": {},
   "source": [
    "Se comprueba si tenemos algún elemento nulo en el dataset."
   ]
  },
  {
   "cell_type": "code",
   "execution_count": 105,
   "metadata": {},
   "outputs": [
    {
     "data": {
      "text/plain": [
       "customerID          0\n",
       "gender              0\n",
       "SeniorCitizen       0\n",
       "Partner             0\n",
       "Dependents          0\n",
       "tenure              0\n",
       "PhoneService        0\n",
       "MultipleLines       0\n",
       "InternetService     0\n",
       "OnlineSecurity      0\n",
       "OnlineBackup        0\n",
       "DeviceProtection    0\n",
       "TechSupport         0\n",
       "StreamingTV         0\n",
       "StreamingMovies     0\n",
       "Contract            0\n",
       "PaperlessBilling    0\n",
       "PaymentMethod       0\n",
       "MonthlyCharges      0\n",
       "TotalCharges        0\n",
       "Churn               0\n",
       "dtype: int64"
      ]
     },
     "execution_count": 105,
     "metadata": {},
     "output_type": "execute_result"
    }
   ],
   "source": [
    "df.isnull().sum()"
   ]
  },
  {
   "cell_type": "markdown",
   "metadata": {},
   "source": [
    "Se comprueba el tipo de datos que contiene el dataset"
   ]
  },
  {
   "cell_type": "code",
   "execution_count": 106,
   "metadata": {},
   "outputs": [
    {
     "name": "stdout",
     "output_type": "stream",
     "text": [
      "<class 'pandas.core.frame.DataFrame'>\n",
      "RangeIndex: 5543 entries, 0 to 5542\n",
      "Data columns (total 21 columns):\n",
      "customerID          5543 non-null int64\n",
      "gender              5543 non-null object\n",
      "SeniorCitizen       5543 non-null int64\n",
      "Partner             5543 non-null object\n",
      "Dependents          5543 non-null object\n",
      "tenure              5543 non-null int64\n",
      "PhoneService        5543 non-null object\n",
      "MultipleLines       5543 non-null object\n",
      "InternetService     5543 non-null object\n",
      "OnlineSecurity      5543 non-null object\n",
      "OnlineBackup        5543 non-null object\n",
      "DeviceProtection    5543 non-null object\n",
      "TechSupport         5543 non-null object\n",
      "StreamingTV         5543 non-null object\n",
      "StreamingMovies     5543 non-null object\n",
      "Contract            5543 non-null object\n",
      "PaperlessBilling    5543 non-null object\n",
      "PaymentMethod       5543 non-null object\n",
      "MonthlyCharges      5543 non-null float64\n",
      "TotalCharges        5543 non-null object\n",
      "Churn               5543 non-null int64\n",
      "dtypes: float64(1), int64(4), object(16)\n",
      "memory usage: 909.5+ KB\n"
     ]
    }
   ],
   "source": [
    "df.info()"
   ]
  },
  {
   "cell_type": "markdown",
   "metadata": {},
   "source": [
    "Se filtran los elementos que no son de tipo numérico, es decir aquellos que no son ni int64 ni float64. Estos serán los elementos que se codificarán de manera continua."
   ]
  },
  {
   "cell_type": "code",
   "execution_count": 107,
   "metadata": {},
   "outputs": [
    {
     "data": {
      "text/plain": [
       "gender              object\n",
       "Partner             object\n",
       "Dependents          object\n",
       "PhoneService        object\n",
       "MultipleLines       object\n",
       "InternetService     object\n",
       "OnlineSecurity      object\n",
       "OnlineBackup        object\n",
       "DeviceProtection    object\n",
       "TechSupport         object\n",
       "StreamingTV         object\n",
       "StreamingMovies     object\n",
       "Contract            object\n",
       "PaperlessBilling    object\n",
       "PaymentMethod       object\n",
       "TotalCharges        object\n",
       "dtype: object"
      ]
     },
     "execution_count": 107,
     "metadata": {},
     "output_type": "execute_result"
    }
   ],
   "source": [
    "df.dtypes[df.dtypes == object]"
   ]
  },
  {
   "cell_type": "markdown",
   "metadata": {},
   "source": [
    "Vemos los valores de los elementos anteriores de tipo object."
   ]
  },
  {
   "cell_type": "code",
   "execution_count": 87,
   "metadata": {},
   "outputs": [
    {
     "name": "stdout",
     "output_type": "stream",
     "text": [
      "['gender: Male' 'gender: Female']\n",
      "['Parther: No' 'Parther: Yes']\n",
      "['Dependents: No' 'Dependents: Yes']\n",
      "['PhoneService: Yes' 'PhoneService: No']\n",
      "['MultipleLines: No' 'MultipleLines: Yes' 'MultipleLines: No phone service']\n",
      "['InternetService: No' 'InternetService: DSL'\n",
      " 'InternetService: Fiber optic']\n",
      "['OnlineSecurity: No internet service' 'OnlineSecurity: No'\n",
      " 'OnlineSecurity: Yes']\n",
      "['OnlineBackup: No internet service' 'OnlineBackup: Yes' 'OnlineBackup: No']\n",
      "['DeviceProtection: No internet service' 'DeviceProtection: No'\n",
      " 'DeviceProtection: Yes']\n",
      "['TechSupport: No internet service' 'TechSupport: Yes' 'TechSupport: No']\n",
      "['StreamingTV: No internet service' 'StreamingTV: Yes' 'StreamingTV: No']\n",
      "['StreamingMovies: No internet service' 'StreamingMovies: Yes'\n",
      " 'StreamingMovies: No']\n",
      "['Contract: Month-to-month' 'Contract: Two year' 'Contract: One year']\n",
      "['PaperlessBilling: No' 'PaperlessBilling: Yes']\n",
      "['PaymentMethod: Credit card (automatic)' 'PaymentMethod: Mailed check'\n",
      " 'PaymentMethod: Bank transfer (automatic)'\n",
      " 'PaymentMethod: Electronic check']\n",
      "['TotalCharges: 20.55' 'TotalCharges: 4024.2' 'TotalCharges: 4903.15' ...,\n",
      " 'TotalCharges: 563.05' 'TotalCharges: 6382' 'TotalCharges: 4111.35']\n"
     ]
    }
   ],
   "source": [
    "print(\"gender: \"+df['gender'].unique())\n",
    "print(\"Parther: \"+df['Partner'].unique())\n",
    "print(\"Dependents: \"+df['Dependents'].unique())\n",
    "print(\"PhoneService: \"+df['PhoneService'].unique())\n",
    "print(\"MultipleLines: \"+df['MultipleLines'].unique())\n",
    "print(\"InternetService: \"+df['InternetService'].unique())\n",
    "print(\"OnlineSecurity: \"+df['OnlineSecurity'].unique())\n",
    "print(\"OnlineBackup: \"+df['OnlineBackup'].unique())\n",
    "print(\"DeviceProtection: \"+df['DeviceProtection'].unique())\n",
    "print(\"TechSupport: \"+df['TechSupport'].unique())\n",
    "print(\"StreamingTV: \"+df['StreamingTV'].unique())\n",
    "print(\"StreamingMovies: \"+df['StreamingMovies'].unique())\n",
    "print(\"Contract: \"+df['Contract'].unique())\n",
    "print(\"PaperlessBilling: \"+df['PaperlessBilling'].unique())\n",
    "print(\"PaymentMethod: \"+df['PaymentMethod'].unique())\n",
    "print(\"TotalCharges: \"+df['TotalCharges'].unique())"
   ]
  },
  {
   "cell_type": "markdown",
   "metadata": {},
   "source": [
    "Lo siguiente será comprobar si existen duplicados. En este caso comprobamos que no tenemos información duplicada."
   ]
  },
  {
   "cell_type": "code",
   "execution_count": 108,
   "metadata": {},
   "outputs": [
    {
     "data": {
      "text/plain": [
       "False"
      ]
     },
     "execution_count": 108,
     "metadata": {},
     "output_type": "execute_result"
    }
   ],
   "source": [
    "df.duplicated().any()"
   ]
  },
  {
   "cell_type": "markdown",
   "metadata": {},
   "source": [
    "A continuación se pasa a codificar los valores como variables continuas."
   ]
  },
  {
   "cell_type": "code",
   "execution_count": 110,
   "metadata": {
    "scrolled": false
   },
   "outputs": [
    {
     "data": {
      "text/html": [
       "<div>\n",
       "<style>\n",
       "    .dataframe thead tr:only-child th {\n",
       "        text-align: right;\n",
       "    }\n",
       "\n",
       "    .dataframe thead th {\n",
       "        text-align: left;\n",
       "    }\n",
       "\n",
       "    .dataframe tbody tr th {\n",
       "        vertical-align: top;\n",
       "    }\n",
       "</style>\n",
       "<table border=\"1\" class=\"dataframe\">\n",
       "  <thead>\n",
       "    <tr style=\"text-align: right;\">\n",
       "      <th></th>\n",
       "      <th>customerID</th>\n",
       "      <th>gender</th>\n",
       "      <th>SeniorCitizen</th>\n",
       "      <th>Partner</th>\n",
       "      <th>Dependents</th>\n",
       "      <th>tenure</th>\n",
       "      <th>PhoneService</th>\n",
       "      <th>MultipleLines</th>\n",
       "      <th>InternetService</th>\n",
       "      <th>OnlineSecurity</th>\n",
       "      <th>...</th>\n",
       "      <th>DeviceProtection</th>\n",
       "      <th>TechSupport</th>\n",
       "      <th>StreamingTV</th>\n",
       "      <th>StreamingMovies</th>\n",
       "      <th>Contract</th>\n",
       "      <th>PaperlessBilling</th>\n",
       "      <th>PaymentMethod</th>\n",
       "      <th>MonthlyCharges</th>\n",
       "      <th>TotalCharges</th>\n",
       "      <th>Churn</th>\n",
       "    </tr>\n",
       "  </thead>\n",
       "  <tbody>\n",
       "    <tr>\n",
       "      <th>5538</th>\n",
       "      <td>241896052</td>\n",
       "      <td>0</td>\n",
       "      <td>0</td>\n",
       "      <td>0</td>\n",
       "      <td>0</td>\n",
       "      <td>39</td>\n",
       "      <td>1</td>\n",
       "      <td>0</td>\n",
       "      <td>1</td>\n",
       "      <td>0</td>\n",
       "      <td>...</td>\n",
       "      <td>0</td>\n",
       "      <td>1</td>\n",
       "      <td>0</td>\n",
       "      <td>0</td>\n",
       "      <td>0</td>\n",
       "      <td>1</td>\n",
       "      <td>0</td>\n",
       "      <td>49.80</td>\n",
       "      <td>1971.15</td>\n",
       "      <td>0</td>\n",
       "    </tr>\n",
       "    <tr>\n",
       "      <th>5539</th>\n",
       "      <td>1917607</td>\n",
       "      <td>1</td>\n",
       "      <td>0</td>\n",
       "      <td>1</td>\n",
       "      <td>1</td>\n",
       "      <td>34</td>\n",
       "      <td>1</td>\n",
       "      <td>0</td>\n",
       "      <td>1</td>\n",
       "      <td>1</td>\n",
       "      <td>...</td>\n",
       "      <td>1</td>\n",
       "      <td>0</td>\n",
       "      <td>0</td>\n",
       "      <td>0</td>\n",
       "      <td>1</td>\n",
       "      <td>1</td>\n",
       "      <td>1</td>\n",
       "      <td>60.80</td>\n",
       "      <td>2042.05</td>\n",
       "      <td>0</td>\n",
       "    </tr>\n",
       "    <tr>\n",
       "      <th>5540</th>\n",
       "      <td>1651761</td>\n",
       "      <td>1</td>\n",
       "      <td>0</td>\n",
       "      <td>1</td>\n",
       "      <td>0</td>\n",
       "      <td>28</td>\n",
       "      <td>1</td>\n",
       "      <td>0</td>\n",
       "      <td>0</td>\n",
       "      <td>0</td>\n",
       "      <td>...</td>\n",
       "      <td>0</td>\n",
       "      <td>0</td>\n",
       "      <td>0</td>\n",
       "      <td>0</td>\n",
       "      <td>2</td>\n",
       "      <td>0</td>\n",
       "      <td>1</td>\n",
       "      <td>20.50</td>\n",
       "      <td>563.05</td>\n",
       "      <td>0</td>\n",
       "    </tr>\n",
       "    <tr>\n",
       "      <th>5541</th>\n",
       "      <td>8238468</td>\n",
       "      <td>0</td>\n",
       "      <td>1</td>\n",
       "      <td>1</td>\n",
       "      <td>0</td>\n",
       "      <td>69</td>\n",
       "      <td>1</td>\n",
       "      <td>1</td>\n",
       "      <td>2</td>\n",
       "      <td>0</td>\n",
       "      <td>...</td>\n",
       "      <td>1</td>\n",
       "      <td>0</td>\n",
       "      <td>0</td>\n",
       "      <td>1</td>\n",
       "      <td>2</td>\n",
       "      <td>1</td>\n",
       "      <td>0</td>\n",
       "      <td>95.35</td>\n",
       "      <td>6382.00</td>\n",
       "      <td>0</td>\n",
       "    </tr>\n",
       "    <tr>\n",
       "      <th>5542</th>\n",
       "      <td>5531185</td>\n",
       "      <td>0</td>\n",
       "      <td>0</td>\n",
       "      <td>0</td>\n",
       "      <td>0</td>\n",
       "      <td>63</td>\n",
       "      <td>1</td>\n",
       "      <td>1</td>\n",
       "      <td>1</td>\n",
       "      <td>1</td>\n",
       "      <td>...</td>\n",
       "      <td>1</td>\n",
       "      <td>1</td>\n",
       "      <td>0</td>\n",
       "      <td>0</td>\n",
       "      <td>1</td>\n",
       "      <td>0</td>\n",
       "      <td>0</td>\n",
       "      <td>68.80</td>\n",
       "      <td>4111.35</td>\n",
       "      <td>0</td>\n",
       "    </tr>\n",
       "  </tbody>\n",
       "</table>\n",
       "<p>5 rows × 21 columns</p>\n",
       "</div>"
      ],
      "text/plain": [
       "      customerID gender  SeniorCitizen Partner Dependents  tenure  \\\n",
       "5538   241896052      0              0       0          0      39   \n",
       "5539     1917607      1              0       1          1      34   \n",
       "5540     1651761      1              0       1          0      28   \n",
       "5541     8238468      0              1       1          0      69   \n",
       "5542     5531185      0              0       0          0      63   \n",
       "\n",
       "     PhoneService MultipleLines InternetService OnlineSecurity  ...    \\\n",
       "5538            1             0               1              0  ...     \n",
       "5539            1             0               1              1  ...     \n",
       "5540            1             0               0              0  ...     \n",
       "5541            1             1               2              0  ...     \n",
       "5542            1             1               1              1  ...     \n",
       "\n",
       "     DeviceProtection TechSupport StreamingTV StreamingMovies Contract  \\\n",
       "5538                0           1           0               0        0   \n",
       "5539                1           0           0               0        1   \n",
       "5540                0           0           0               0        2   \n",
       "5541                1           0           0               1        2   \n",
       "5542                1           1           0               0        1   \n",
       "\n",
       "     PaperlessBilling PaymentMethod MonthlyCharges  TotalCharges  Churn  \n",
       "5538                1             0          49.80       1971.15      0  \n",
       "5539                1             1          60.80       2042.05      0  \n",
       "5540                0             1          20.50        563.05      0  \n",
       "5541                1             0          95.35       6382.00      0  \n",
       "5542                0             0          68.80       4111.35      0  \n",
       "\n",
       "[5 rows x 21 columns]"
      ]
     },
     "execution_count": 110,
     "metadata": {},
     "output_type": "execute_result"
    }
   ],
   "source": [
    "df.loc[df[\"gender\"] == \"Male\", \"gender\"] = 0\n",
    "df.loc[df[\"gender\"] == \"Female\", \"gender\"] = 1\n",
    "\n",
    "df.loc[df[\"Partner\"] == \"Yes\", \"Partner\"] = 1\n",
    "df.loc[df[\"Partner\"] == \"No\", \"Partner\"] = 0\n",
    "\n",
    "df.loc[df[\"Dependents\"] == \"Yes\", \"Dependents\"] = 1\n",
    "df.loc[df[\"Dependents\"] == \"No\", \"Dependents\"] = 0\n",
    "\n",
    "df.loc[df[\"PhoneService\"] == \"Yes\", \"PhoneService\"] = 1\n",
    "df.loc[df[\"PhoneService\"] == \"No\", \"PhoneService\"] = 0\n",
    "\n",
    "df.loc[df[\"MultipleLines\"] == \"No\", \"MultipleLines\"] = 0\n",
    "df.loc[df[\"MultipleLines\"] == \"No phone service\", \"MultipleLines\"] = 0\n",
    "df.loc[df[\"MultipleLines\"] == \"Yes\", \"MultipleLines\"] = 1\n",
    "\n",
    "df.loc[df[\"InternetService\"] == \"No\", \"InternetService\"] = 0\n",
    "df.loc[df[\"InternetService\"] == \"DSL\", \"InternetService\"] = 1\n",
    "df.loc[df[\"InternetService\"] == \"Fiber optic\", \"InternetService\"] = 2\n",
    "\n",
    "df.loc[df[\"OnlineSecurity\"] == \"No\", \"OnlineSecurity\"] = 0\n",
    "df.loc[df[\"OnlineSecurity\"] == \"No internet service\", \"OnlineSecurity\"] = 0\n",
    "df.loc[df[\"OnlineSecurity\"] == \"Yes\", \"OnlineSecurity\"] = 1\n",
    "\n",
    "df.loc[df[\"OnlineBackup\"] == \"No\", \"OnlineBackup\"] = 0\n",
    "df.loc[df[\"OnlineBackup\"] == \"No internet service\", \"OnlineBackup\"] = 0\n",
    "df.loc[df[\"OnlineBackup\"] == \"Yes\", \"OnlineBackup\"] = 1\n",
    "\n",
    "df.loc[df[\"DeviceProtection\"] == \"No\", \"DeviceProtection\"] = 0\n",
    "df.loc[df[\"DeviceProtection\"] == \"No internet service\", \"DeviceProtection\"] = 0\n",
    "df.loc[df[\"DeviceProtection\"] == \"Yes\", \"DeviceProtection\"] = 1\n",
    "\n",
    "df.loc[df[\"TechSupport\"] == \"No\", \"TechSupport\"] = 0\n",
    "df.loc[df[\"TechSupport\"] == \"No internet service\", \"TechSupport\"] = 0\n",
    "df.loc[df[\"TechSupport\"] == \"Yes\", \"TechSupport\"] = 1\n",
    "\n",
    "df.loc[df[\"StreamingTV\"] == \"No\", \"StreamingTV\"] = 0\n",
    "df.loc[df[\"StreamingTV\"] == \"No internet service\", \"StreamingTV\"] = 0\n",
    "df.loc[df[\"StreamingTV\"] == \"Yes\", \"StreamingTV\"] = 1\n",
    "\n",
    "df.loc[df[\"StreamingMovies\"] == \"No\", \"StreamingMovies\"] = 0\n",
    "df.loc[df[\"StreamingMovies\"] == \"No internet service\", \"StreamingMovies\"] = 0\n",
    "df.loc[df[\"StreamingMovies\"] == \"Yes\", \"StreamingMovies\"] = 1\n",
    "\n",
    "df.loc[df[\"Contract\"] == \"Two year\", \"Contract\"] = 0\n",
    "df.loc[df[\"Contract\"] == \"One year\", \"Contract\"] = 1\n",
    "df.loc[df[\"Contract\"] == \"Month-to-month\", \"Contract\"] = 2\n",
    "\n",
    "df.loc[df[\"PaperlessBilling\"] == \"Yes\", \"PaperlessBilling\"] = 1\n",
    "df.loc[df[\"PaperlessBilling\"] == \"No\", \"PaperlessBilling\"] = 0\n",
    "\n",
    "df.loc[df[\"PaymentMethod\"] == \"Bank transfer (automatic)\", \"PaymentMethod\"] = 0\n",
    "df.loc[df[\"PaymentMethod\"] == \"Mailed check\", \"PaymentMethod\"] = 1\n",
    "df.loc[df[\"PaymentMethod\"] == \"Electronic check\", \"PaymentMethod\"] = 2\n",
    "df.loc[df[\"PaymentMethod\"] == \"Credit card (automatic)\", \"PaymentMethod\"] = 3\n",
    "\n",
    "df[\"TotalCharges\"] = df[\"TotalCharges\"].apply(pd.to_numeric, errors='coerce')\n",
    "\n",
    "df[-5:]"
   ]
  },
  {
   "cell_type": "markdown",
   "metadata": {},
   "source": [
    "Tras realizar las modificaciones se vuelve a comprobar que no se tenga ningún elemento Null"
   ]
  },
  {
   "cell_type": "code",
   "execution_count": 111,
   "metadata": {},
   "outputs": [
    {
     "data": {
      "text/plain": [
       "customerID           0\n",
       "gender               0\n",
       "SeniorCitizen        0\n",
       "Partner              0\n",
       "Dependents           0\n",
       "tenure               0\n",
       "PhoneService         0\n",
       "MultipleLines        0\n",
       "InternetService      0\n",
       "OnlineSecurity       0\n",
       "OnlineBackup         0\n",
       "DeviceProtection     0\n",
       "TechSupport          0\n",
       "StreamingTV          0\n",
       "StreamingMovies      0\n",
       "Contract             0\n",
       "PaperlessBilling     0\n",
       "PaymentMethod        0\n",
       "MonthlyCharges       0\n",
       "TotalCharges        10\n",
       "Churn                0\n",
       "dtype: int64"
      ]
     },
     "execution_count": 111,
     "metadata": {},
     "output_type": "execute_result"
    }
   ],
   "source": [
    "df.isnull().sum()"
   ]
  },
  {
   "cell_type": "markdown",
   "metadata": {},
   "source": [
    "Se comprueba que la columna TotalCharges contiene 10 valores nulos. Se sustituyen por la media."
   ]
  },
  {
   "cell_type": "code",
   "execution_count": 112,
   "metadata": {
    "collapsed": true
   },
   "outputs": [],
   "source": [
    "df['TotalCharges'] = df['TotalCharges'].fillna(df['TotalCharges'].median())"
   ]
  },
  {
   "cell_type": "code",
   "execution_count": 113,
   "metadata": {},
   "outputs": [
    {
     "data": {
      "text/plain": [
       "customerID          0\n",
       "gender              0\n",
       "SeniorCitizen       0\n",
       "Partner             0\n",
       "Dependents          0\n",
       "tenure              0\n",
       "PhoneService        0\n",
       "MultipleLines       0\n",
       "InternetService     0\n",
       "OnlineSecurity      0\n",
       "OnlineBackup        0\n",
       "DeviceProtection    0\n",
       "TechSupport         0\n",
       "StreamingTV         0\n",
       "StreamingMovies     0\n",
       "Contract            0\n",
       "PaperlessBilling    0\n",
       "PaymentMethod       0\n",
       "MonthlyCharges      0\n",
       "TotalCharges        0\n",
       "Churn               0\n",
       "dtype: int64"
      ]
     },
     "execution_count": 113,
     "metadata": {},
     "output_type": "execute_result"
    }
   ],
   "source": [
    "df.isnull().sum()"
   ]
  },
  {
   "cell_type": "markdown",
   "metadata": {},
   "source": [
    "Se vuelve a comprobar que no haya duplicados."
   ]
  },
  {
   "cell_type": "code",
   "execution_count": 114,
   "metadata": {},
   "outputs": [
    {
     "data": {
      "text/plain": [
       "False"
      ]
     },
     "execution_count": 114,
     "metadata": {},
     "output_type": "execute_result"
    }
   ],
   "source": [
    "df.duplicated().any()"
   ]
  },
  {
   "cell_type": "markdown",
   "metadata": {},
   "source": [
    "Ahora separamos los datos en dos arrays: Uno X que contendra todos los valores de cada fila menos los de churn. y otro Y que contendrá solo los datos de churn para esa fila. El algoritmo de clasificacion comparara los valores de atributo de X a sus correspondientes valores de Y para detectar patrones de como diferentes valores de atributo afectan a la permanencia de un cliente."
   ]
  },
  {
   "cell_type": "code",
   "execution_count": 255,
   "metadata": {
    "collapsed": true
   },
   "outputs": [],
   "source": [
    "X = df.drop(['Churn'], axis=1).values\n",
    "y = df['Churn'].values"
   ]
  },
  {
   "cell_type": "markdown",
   "metadata": {},
   "source": [
    "Ahora dividimos los arrays X e Y en dos partes, un set de entrenamiento y otro de testeo. Daremos el set de entrenamiento al algoritmo de clasificación para crear un modelo entrenado. Una vez el modelo se haya formado, lo utilizaremos para clasificar el set de testeo, lo que nos permitira determinar la precision del modelo. Aquí he hecho un reparto de 20-80, de tal manera que el 80% del dataset se utilizará para entrenamiento y el 20% para testeo:"
   ]
  },
  {
   "cell_type": "code",
   "execution_count": 256,
   "metadata": {
    "collapsed": true
   },
   "outputs": [],
   "source": [
    "X_train, X_test, y_train, y_test = cross_validation.train_test_split(X,y,test_size=0.2)"
   ]
  },
  {
   "cell_type": "markdown",
   "metadata": {},
   "source": [
    "Primero comenzaremos con un arbol de decision (Tecnica aprendida en clase.) El arbol de decision examinara una variable cada vez, y se dividira entre 1 de 2 ramas dependiendo del resultado del valor obtenido. \n",
    "De tal manera que el árbol primero se divide por sexo, y después por clase, ya que habrá aprendido en la secuencia de entrenamiento que estas son las dos principales caracteristicas que determinan la suerte de un individuo. "
   ]
  },
  {
   "cell_type": "code",
   "execution_count": 257,
   "metadata": {
    "collapsed": true
   },
   "outputs": [],
   "source": [
    "clf_dt = tree.DecisionTreeClassifier(max_depth=10)"
   ]
  },
  {
   "cell_type": "code",
   "execution_count": 258,
   "metadata": {},
   "outputs": [
    {
     "data": {
      "text/plain": [
       "0.76825969341749323"
      ]
     },
     "execution_count": 258,
     "metadata": {},
     "output_type": "execute_result"
    }
   ],
   "source": [
    "clf_dt.fit (X_train, y_train)\n",
    "clf_dt.score (X_test, y_test)"
   ]
  },
  {
   "cell_type": "markdown",
   "metadata": {},
   "source": [
    "Como sabemos, la precisión del modelo puede variar dependiendo de que filas sean seleccionadas para las secuencias de entrenamiento y testeo. Para que esto no condicione los resultados vamos a poner un factor de aleatoriedad:"
   ]
  },
  {
   "cell_type": "code",
   "execution_count": 259,
   "metadata": {
    "collapsed": true
   },
   "outputs": [],
   "source": [
    "shuffle_validator = cross_validation.ShuffleSplit(len(X), n_iter=20, test_size=0.2, random_state=0)\n",
    "def test_classifier(clf):\n",
    "    scores = cross_validation.cross_val_score(clf, X, y, cv=shuffle_validator)\n",
    "    print(\"Accuracy: %0.4f (+/- %0.2f)\" % (scores.mean(), scores.std()))"
   ]
  },
  {
   "cell_type": "code",
   "execution_count": 260,
   "metadata": {
    "scrolled": true
   },
   "outputs": [
    {
     "name": "stdout",
     "output_type": "stream",
     "text": [
      "Accuracy: 0.7560 (+/- 0.01)\n"
     ]
    }
   ],
   "source": [
    "test_classifier(clf_dt)"
   ]
  },
  {
   "cell_type": "code",
   "execution_count": 261,
   "metadata": {
    "scrolled": true
   },
   "outputs": [
    {
     "name": "stdout",
     "output_type": "stream",
     "text": [
      "             precision    recall  f1-score   support\n",
      "\n",
      "          0       0.85      0.83      0.84       822\n",
      "          1       0.55      0.59      0.57       287\n",
      "\n",
      "avg / total       0.77      0.77      0.77      1109\n",
      "\n",
      "0.566610455312\n"
     ]
    }
   ],
   "source": [
    "y_true, y_pred = y_test, clf_dt.predict(X_test)\n",
    "print(classification_report(y_true, y_pred))\n",
    "print (f1_score(y_true, y_pred))"
   ]
  },
  {
   "cell_type": "code",
   "execution_count": 264,
   "metadata": {},
   "outputs": [
    {
     "name": "stdout",
     "output_type": "stream",
     "text": [
      "Prediction  [0 0 0 ..., 0 0 0]\n"
     ]
    }
   ],
   "source": [
    "print(\"Prediction \", clf_dt.predict(X))"
   ]
  },
  {
   "cell_type": "markdown",
   "metadata": {},
   "source": [
    "Se intentan optimizar los parámetros empleando Grid Search"
   ]
  },
  {
   "cell_type": "code",
   "execution_count": 298,
   "metadata": {
    "scrolled": true
   },
   "outputs": [
    {
     "name": "stdout",
     "output_type": "stream",
     "text": [
      "# Tuning hyper-parameters for precision\n",
      "\n",
      "Best parameters set found on development set:\n",
      "\n",
      "{'class_weight': 'balanced', 'criterion': 'entropy', 'max_depth': 8, 'max_leaf_nodes': 10, 'min_samples_leaf': 5, 'splitter': 'random'}\n",
      "\n",
      "Detailed classification report:\n",
      "\n",
      "             precision    recall  f1-score   support\n",
      "\n",
      "          0       0.91      0.70      0.79       822\n",
      "          1       0.48      0.80      0.60       287\n",
      "\n",
      "avg / total       0.80      0.73      0.74      1109\n",
      "\n",
      "\n",
      "# Tuning hyper-parameters for recall\n",
      "\n",
      "Best parameters set found on development set:\n",
      "\n",
      "{'class_weight': 'balanced', 'criterion': 'entropy', 'max_depth': 5, 'max_leaf_nodes': 10, 'min_samples_leaf': 2, 'splitter': 'random'}\n",
      "\n",
      "Detailed classification report:\n",
      "\n",
      "             precision    recall  f1-score   support\n",
      "\n",
      "          0       0.90      0.72      0.80       822\n",
      "          1       0.49      0.76      0.59       287\n",
      "\n",
      "avg / total       0.79      0.73      0.75      1109\n",
      "\n",
      "\n"
     ]
    }
   ],
   "source": [
    "# set of parameters to test\n",
    "tuned_parameters = [{'max_depth': np.arange(3, 10),\n",
    "                     'criterion': ['gini', 'entropy'], \n",
    "                     'splitter': ['best', 'random'],\n",
    "                     'min_samples_leaf': [2, 5, 10],\n",
    "                     'class_weight':['balanced'],\n",
    "                     'max_leaf_nodes': [None, 5, 10, 20]\n",
    "                    }]\n",
    "\n",
    "scores = ['precision', 'recall']\n",
    "\n",
    "for score in scores:\n",
    "    print(\"# Tuning hyper-parameters for %s\" % score)\n",
    "    print()\n",
    "\n",
    "    # cv = the fold of the cross-validation cv, defaulted to 5\n",
    "    gs = GridSearchCV(DecisionTreeClassifier(), tuned_parameters, cv=10, scoring='%s_weighted' % score)\n",
    "    gs.fit(X_train, y_train)\n",
    "\n",
    "    print(\"Best parameters set found on development set:\")\n",
    "    print()\n",
    "    print(gs.best_params_)\n",
    "    print()\n",
    "    print(\"Detailed classification report:\")\n",
    "    print()\n",
    "\n",
    "    y_true, y_pred = y_test, gs.predict(X_test)\n",
    "    print(classification_report(y_true, y_pred))\n",
    "    print()"
   ]
  },
  {
   "cell_type": "markdown",
   "metadata": {},
   "source": [
    "Se modifica el modelo usando los parámetros optimizados obtenidos previamente."
   ]
  },
  {
   "cell_type": "code",
   "execution_count": 299,
   "metadata": {
    "collapsed": true
   },
   "outputs": [],
   "source": [
    "clf_dt = tree.DecisionTreeClassifier(class_weight='balanced', criterion='gini',max_depth=8,\n",
    "                                    max_leaf_nodes=20,min_samples_leaf=2,splitter='random')"
   ]
  },
  {
   "cell_type": "code",
   "execution_count": 300,
   "metadata": {},
   "outputs": [
    {
     "data": {
      "text/plain": [
       "0.75653742110009015"
      ]
     },
     "execution_count": 300,
     "metadata": {},
     "output_type": "execute_result"
    }
   ],
   "source": [
    "clf_dt.fit (X_train, y_train)\n",
    "clf_dt.score (X_test, y_test)"
   ]
  },
  {
   "cell_type": "code",
   "execution_count": 301,
   "metadata": {
    "collapsed": true
   },
   "outputs": [],
   "source": [
    "shuffle_validator = cross_validation.ShuffleSplit(len(X), n_iter=20, test_size=0.2, random_state=0)\n",
    "def test_classifier(clf):\n",
    "    scores = cross_validation.cross_val_score(clf, X, y, cv=shuffle_validator)\n",
    "    print(\"Accuracy: %0.4f (+/- %0.2f)\" % (scores.mean(), scores.std()))"
   ]
  },
  {
   "cell_type": "code",
   "execution_count": 302,
   "metadata": {},
   "outputs": [
    {
     "name": "stdout",
     "output_type": "stream",
     "text": [
      "Accuracy: 0.7505 (+/- 0.01)\n"
     ]
    }
   ],
   "source": [
    "test_classifier(clf_dt)"
   ]
  },
  {
   "cell_type": "code",
   "execution_count": 304,
   "metadata": {},
   "outputs": [
    {
     "name": "stdout",
     "output_type": "stream",
     "text": [
      "             precision    recall  f1-score   support\n",
      "\n",
      "          0       0.90      0.72      0.80       822\n",
      "          1       0.49      0.76      0.59       287\n",
      "\n",
      "avg / total       0.79      0.73      0.75      1109\n",
      "\n",
      "0.593197278912\n"
     ]
    }
   ],
   "source": [
    "print(classification_report(y_true, y_pred))\n",
    "print (f1_score(y_true, y_pred))"
   ]
  },
  {
   "cell_type": "code",
   "execution_count": 281,
   "metadata": {
    "collapsed": true
   },
   "outputs": [],
   "source": [
    "dfTest = pd.read_csv('telco-churn/test_nolabel.csv')"
   ]
  },
  {
   "cell_type": "code",
   "execution_count": 282,
   "metadata": {},
   "outputs": [
    {
     "data": {
      "text/html": [
       "<div>\n",
       "<style>\n",
       "    .dataframe thead tr:only-child th {\n",
       "        text-align: right;\n",
       "    }\n",
       "\n",
       "    .dataframe thead th {\n",
       "        text-align: left;\n",
       "    }\n",
       "\n",
       "    .dataframe tbody tr th {\n",
       "        vertical-align: top;\n",
       "    }\n",
       "</style>\n",
       "<table border=\"1\" class=\"dataframe\">\n",
       "  <thead>\n",
       "    <tr style=\"text-align: right;\">\n",
       "      <th></th>\n",
       "      <th>customerID</th>\n",
       "      <th>gender</th>\n",
       "      <th>SeniorCitizen</th>\n",
       "      <th>Partner</th>\n",
       "      <th>Dependents</th>\n",
       "      <th>tenure</th>\n",
       "      <th>PhoneService</th>\n",
       "      <th>MultipleLines</th>\n",
       "      <th>InternetService</th>\n",
       "      <th>OnlineSecurity</th>\n",
       "      <th>OnlineBackup</th>\n",
       "      <th>DeviceProtection</th>\n",
       "      <th>TechSupport</th>\n",
       "      <th>StreamingTV</th>\n",
       "      <th>StreamingMovies</th>\n",
       "      <th>Contract</th>\n",
       "      <th>PaperlessBilling</th>\n",
       "      <th>PaymentMethod</th>\n",
       "      <th>MonthlyCharges</th>\n",
       "      <th>TotalCharges</th>\n",
       "    </tr>\n",
       "  </thead>\n",
       "  <tbody>\n",
       "    <tr>\n",
       "      <th>1495</th>\n",
       "      <td>1014207636</td>\n",
       "      <td>1</td>\n",
       "      <td>0</td>\n",
       "      <td>1</td>\n",
       "      <td>1</td>\n",
       "      <td>2</td>\n",
       "      <td>0</td>\n",
       "      <td>0</td>\n",
       "      <td>1</td>\n",
       "      <td>0</td>\n",
       "      <td>0</td>\n",
       "      <td>0</td>\n",
       "      <td>1</td>\n",
       "      <td>0</td>\n",
       "      <td>0</td>\n",
       "      <td>2</td>\n",
       "      <td>0</td>\n",
       "      <td>0</td>\n",
       "      <td>29.05</td>\n",
       "      <td>44.75</td>\n",
       "    </tr>\n",
       "    <tr>\n",
       "      <th>1496</th>\n",
       "      <td>17133913</td>\n",
       "      <td>1</td>\n",
       "      <td>1</td>\n",
       "      <td>1</td>\n",
       "      <td>0</td>\n",
       "      <td>5</td>\n",
       "      <td>1</td>\n",
       "      <td>0</td>\n",
       "      <td>2</td>\n",
       "      <td>0</td>\n",
       "      <td>0</td>\n",
       "      <td>0</td>\n",
       "      <td>0</td>\n",
       "      <td>0</td>\n",
       "      <td>0</td>\n",
       "      <td>2</td>\n",
       "      <td>1</td>\n",
       "      <td>2</td>\n",
       "      <td>69.35</td>\n",
       "      <td>341.60</td>\n",
       "    </tr>\n",
       "    <tr>\n",
       "      <th>1497</th>\n",
       "      <td>14165210</td>\n",
       "      <td>1</td>\n",
       "      <td>0</td>\n",
       "      <td>0</td>\n",
       "      <td>0</td>\n",
       "      <td>46</td>\n",
       "      <td>1</td>\n",
       "      <td>0</td>\n",
       "      <td>0</td>\n",
       "      <td>0</td>\n",
       "      <td>0</td>\n",
       "      <td>0</td>\n",
       "      <td>0</td>\n",
       "      <td>0</td>\n",
       "      <td>0</td>\n",
       "      <td>0</td>\n",
       "      <td>1</td>\n",
       "      <td>2</td>\n",
       "      <td>21.10</td>\n",
       "      <td>937.10</td>\n",
       "    </tr>\n",
       "    <tr>\n",
       "      <th>1498</th>\n",
       "      <td>24777679</td>\n",
       "      <td>0</td>\n",
       "      <td>1</td>\n",
       "      <td>0</td>\n",
       "      <td>0</td>\n",
       "      <td>21</td>\n",
       "      <td>1</td>\n",
       "      <td>1</td>\n",
       "      <td>2</td>\n",
       "      <td>0</td>\n",
       "      <td>1</td>\n",
       "      <td>1</td>\n",
       "      <td>0</td>\n",
       "      <td>1</td>\n",
       "      <td>1</td>\n",
       "      <td>2</td>\n",
       "      <td>1</td>\n",
       "      <td>2</td>\n",
       "      <td>104.35</td>\n",
       "      <td>2271.85</td>\n",
       "    </tr>\n",
       "    <tr>\n",
       "      <th>1499</th>\n",
       "      <td>161514055</td>\n",
       "      <td>0</td>\n",
       "      <td>0</td>\n",
       "      <td>1</td>\n",
       "      <td>1</td>\n",
       "      <td>68</td>\n",
       "      <td>1</td>\n",
       "      <td>0</td>\n",
       "      <td>2</td>\n",
       "      <td>1</td>\n",
       "      <td>1</td>\n",
       "      <td>0</td>\n",
       "      <td>1</td>\n",
       "      <td>0</td>\n",
       "      <td>1</td>\n",
       "      <td>0</td>\n",
       "      <td>0</td>\n",
       "      <td>0</td>\n",
       "      <td>95.10</td>\n",
       "      <td>6683.40</td>\n",
       "    </tr>\n",
       "  </tbody>\n",
       "</table>\n",
       "</div>"
      ],
      "text/plain": [
       "      customerID gender  SeniorCitizen Partner Dependents  tenure  \\\n",
       "1495  1014207636      1              0       1          1       2   \n",
       "1496    17133913      1              1       1          0       5   \n",
       "1497    14165210      1              0       0          0      46   \n",
       "1498    24777679      0              1       0          0      21   \n",
       "1499   161514055      0              0       1          1      68   \n",
       "\n",
       "     PhoneService MultipleLines InternetService OnlineSecurity OnlineBackup  \\\n",
       "1495            0             0               1              0            0   \n",
       "1496            1             0               2              0            0   \n",
       "1497            1             0               0              0            0   \n",
       "1498            1             1               2              0            1   \n",
       "1499            1             0               2              1            1   \n",
       "\n",
       "     DeviceProtection TechSupport StreamingTV StreamingMovies Contract  \\\n",
       "1495                0           1           0               0        2   \n",
       "1496                0           0           0               0        2   \n",
       "1497                0           0           0               0        0   \n",
       "1498                1           0           1               1        2   \n",
       "1499                0           1           0               1        0   \n",
       "\n",
       "     PaperlessBilling PaymentMethod  MonthlyCharges  TotalCharges  \n",
       "1495                0             0           29.05         44.75  \n",
       "1496                1             2           69.35        341.60  \n",
       "1497                1             2           21.10        937.10  \n",
       "1498                1             2          104.35       2271.85  \n",
       "1499                0             0           95.10       6683.40  "
      ]
     },
     "execution_count": 282,
     "metadata": {},
     "output_type": "execute_result"
    }
   ],
   "source": [
    "dfTest.loc[dfTest[\"gender\"] == \"Male\", \"gender\"] = 0\n",
    "dfTest.loc[dfTest[\"gender\"] == \"Female\", \"gender\"] = 1\n",
    "\n",
    "dfTest.loc[dfTest[\"Partner\"] == \"Yes\", \"Partner\"] = 1\n",
    "dfTest.loc[dfTest[\"Partner\"] == \"No\", \"Partner\"] = 0\n",
    "\n",
    "dfTest.loc[dfTest[\"Dependents\"] == \"Yes\", \"Dependents\"] = 1\n",
    "dfTest.loc[dfTest[\"Dependents\"] == \"No\", \"Dependents\"] = 0\n",
    "\n",
    "dfTest.loc[dfTest[\"PhoneService\"] == \"Yes\", \"PhoneService\"] = 1\n",
    "dfTest.loc[dfTest[\"PhoneService\"] == \"No\", \"PhoneService\"] = 0\n",
    "\n",
    "dfTest.loc[dfTest[\"MultipleLines\"] == \"No\", \"MultipleLines\"] = 0\n",
    "dfTest.loc[dfTest[\"MultipleLines\"] == \"No phone service\", \"MultipleLines\"] = 0\n",
    "dfTest.loc[dfTest[\"MultipleLines\"] == \"Yes\", \"MultipleLines\"] = 1\n",
    "\n",
    "dfTest.loc[dfTest[\"InternetService\"] == \"No\", \"InternetService\"] = 0\n",
    "dfTest.loc[dfTest[\"InternetService\"] == \"DSL\", \"InternetService\"] = 1\n",
    "dfTest.loc[dfTest[\"InternetService\"] == \"Fiber optic\", \"InternetService\"] = 2\n",
    "\n",
    "dfTest.loc[dfTest[\"OnlineSecurity\"] == \"No\", \"OnlineSecurity\"] = 0\n",
    "dfTest.loc[dfTest[\"OnlineSecurity\"] == \"No internet service\", \"OnlineSecurity\"] = 0\n",
    "dfTest.loc[dfTest[\"OnlineSecurity\"] == \"Yes\", \"OnlineSecurity\"] = 1\n",
    "\n",
    "dfTest.loc[dfTest[\"OnlineBackup\"] == \"No\", \"OnlineBackup\"] = 0\n",
    "dfTest.loc[dfTest[\"OnlineBackup\"] == \"No internet service\", \"OnlineBackup\"] = 0\n",
    "dfTest.loc[dfTest[\"OnlineBackup\"] == \"Yes\", \"OnlineBackup\"] = 1\n",
    "\n",
    "dfTest.loc[dfTest[\"DeviceProtection\"] == \"No\", \"DeviceProtection\"] = 0\n",
    "dfTest.loc[dfTest[\"DeviceProtection\"] == \"No internet service\", \"DeviceProtection\"] = 0\n",
    "dfTest.loc[dfTest[\"DeviceProtection\"] == \"Yes\", \"DeviceProtection\"] = 1\n",
    "\n",
    "dfTest.loc[dfTest[\"TechSupport\"] == \"No\", \"TechSupport\"] = 0\n",
    "dfTest.loc[dfTest[\"TechSupport\"] == \"No internet service\", \"TechSupport\"] = 0\n",
    "dfTest.loc[dfTest[\"TechSupport\"] == \"Yes\", \"TechSupport\"] = 1\n",
    "\n",
    "dfTest.loc[dfTest[\"StreamingTV\"] == \"No\", \"StreamingTV\"] = 0\n",
    "dfTest.loc[dfTest[\"StreamingTV\"] == \"No internet service\", \"StreamingTV\"] = 0\n",
    "dfTest.loc[dfTest[\"StreamingTV\"] == \"Yes\", \"StreamingTV\"] = 1\n",
    "\n",
    "dfTest.loc[dfTest[\"StreamingMovies\"] == \"No\", \"StreamingMovies\"] = 0\n",
    "dfTest.loc[dfTest[\"StreamingMovies\"] == \"No internet service\", \"StreamingMovies\"] = 0\n",
    "dfTest.loc[dfTest[\"StreamingMovies\"] == \"Yes\", \"StreamingMovies\"] = 1\n",
    "\n",
    "dfTest.loc[dfTest[\"Contract\"] == \"Two year\", \"Contract\"] = 0\n",
    "dfTest.loc[dfTest[\"Contract\"] == \"One year\", \"Contract\"] = 1\n",
    "dfTest.loc[dfTest[\"Contract\"] == \"Month-to-month\", \"Contract\"] = 2\n",
    "\n",
    "dfTest.loc[dfTest[\"PaperlessBilling\"] == \"Yes\", \"PaperlessBilling\"] = 1\n",
    "dfTest.loc[dfTest[\"PaperlessBilling\"] == \"No\", \"PaperlessBilling\"] = 0\n",
    "\n",
    "dfTest.loc[dfTest[\"PaymentMethod\"] == \"Bank transfer (automatic)\", \"PaymentMethod\"] = 0\n",
    "dfTest.loc[dfTest[\"PaymentMethod\"] == \"Mailed check\", \"PaymentMethod\"] = 1\n",
    "dfTest.loc[dfTest[\"PaymentMethod\"] == \"Electronic check\", \"PaymentMethod\"] = 2\n",
    "dfTest.loc[dfTest[\"PaymentMethod\"] == \"Credit card (automatic)\", \"PaymentMethod\"] = 3\n",
    "\n",
    "dfTest[\"TotalCharges\"] = dfTest[\"TotalCharges\"].apply(pd.to_numeric, errors='coerce')\n",
    "dfTest['TotalCharges'] = dfTest['TotalCharges'].fillna(dfTest['TotalCharges'].median())\n",
    "dfTest[-5:]\n"
   ]
  },
  {
   "cell_type": "code",
   "execution_count": 283,
   "metadata": {
    "collapsed": true
   },
   "outputs": [],
   "source": [
    "X2 = dfTest"
   ]
  },
  {
   "cell_type": "code",
   "execution_count": 284,
   "metadata": {
    "collapsed": true
   },
   "outputs": [],
   "source": [
    "churn = clf_dt.predict(X2)"
   ]
  },
  {
   "cell_type": "code",
   "execution_count": 285,
   "metadata": {
    "collapsed": true
   },
   "outputs": [],
   "source": [
    "dataframeResult = dfTest.filter(['customerID'], axis=1)"
   ]
  },
  {
   "cell_type": "code",
   "execution_count": 286,
   "metadata": {
    "collapsed": true
   },
   "outputs": [],
   "source": [
    "dataframeResult['Churn'] = churn"
   ]
  },
  {
   "cell_type": "code",
   "execution_count": 287,
   "metadata": {},
   "outputs": [
    {
     "data": {
      "text/html": [
       "<div>\n",
       "<style>\n",
       "    .dataframe thead tr:only-child th {\n",
       "        text-align: right;\n",
       "    }\n",
       "\n",
       "    .dataframe thead th {\n",
       "        text-align: left;\n",
       "    }\n",
       "\n",
       "    .dataframe tbody tr th {\n",
       "        vertical-align: top;\n",
       "    }\n",
       "</style>\n",
       "<table border=\"1\" class=\"dataframe\">\n",
       "  <thead>\n",
       "    <tr style=\"text-align: right;\">\n",
       "      <th></th>\n",
       "      <th>customerID</th>\n",
       "      <th>Churn</th>\n",
       "    </tr>\n",
       "  </thead>\n",
       "  <tbody>\n",
       "    <tr>\n",
       "      <th>0</th>\n",
       "      <td>21135993</td>\n",
       "      <td>0</td>\n",
       "    </tr>\n",
       "    <tr>\n",
       "      <th>1</th>\n",
       "      <td>13130474</td>\n",
       "      <td>0</td>\n",
       "    </tr>\n",
       "    <tr>\n",
       "      <th>2</th>\n",
       "      <td>7533169</td>\n",
       "      <td>1</td>\n",
       "    </tr>\n",
       "    <tr>\n",
       "      <th>3</th>\n",
       "      <td>2114231208</td>\n",
       "      <td>0</td>\n",
       "    </tr>\n",
       "    <tr>\n",
       "      <th>4</th>\n",
       "      <td>3524728</td>\n",
       "      <td>1</td>\n",
       "    </tr>\n",
       "    <tr>\n",
       "      <th>5</th>\n",
       "      <td>192125049</td>\n",
       "      <td>0</td>\n",
       "    </tr>\n",
       "    <tr>\n",
       "      <th>6</th>\n",
       "      <td>172428986</td>\n",
       "      <td>0</td>\n",
       "    </tr>\n",
       "    <tr>\n",
       "      <th>7</th>\n",
       "      <td>21329444</td>\n",
       "      <td>0</td>\n",
       "    </tr>\n",
       "    <tr>\n",
       "      <th>8</th>\n",
       "      <td>232256498</td>\n",
       "      <td>0</td>\n",
       "    </tr>\n",
       "    <tr>\n",
       "      <th>9</th>\n",
       "      <td>162223094</td>\n",
       "      <td>1</td>\n",
       "    </tr>\n",
       "    <tr>\n",
       "      <th>10</th>\n",
       "      <td>51038704</td>\n",
       "      <td>1</td>\n",
       "    </tr>\n",
       "    <tr>\n",
       "      <th>11</th>\n",
       "      <td>3192991</td>\n",
       "      <td>0</td>\n",
       "    </tr>\n",
       "    <tr>\n",
       "      <th>12</th>\n",
       "      <td>14207440</td>\n",
       "      <td>1</td>\n",
       "    </tr>\n",
       "    <tr>\n",
       "      <th>13</th>\n",
       "      <td>16148243</td>\n",
       "      <td>0</td>\n",
       "    </tr>\n",
       "    <tr>\n",
       "      <th>14</th>\n",
       "      <td>151417704</td>\n",
       "      <td>1</td>\n",
       "    </tr>\n",
       "    <tr>\n",
       "      <th>15</th>\n",
       "      <td>9638888</td>\n",
       "      <td>1</td>\n",
       "    </tr>\n",
       "    <tr>\n",
       "      <th>16</th>\n",
       "      <td>1824179531</td>\n",
       "      <td>1</td>\n",
       "    </tr>\n",
       "    <tr>\n",
       "      <th>17</th>\n",
       "      <td>9183692</td>\n",
       "      <td>1</td>\n",
       "    </tr>\n",
       "    <tr>\n",
       "      <th>18</th>\n",
       "      <td>102305485</td>\n",
       "      <td>0</td>\n",
       "    </tr>\n",
       "    <tr>\n",
       "      <th>19</th>\n",
       "      <td>38229369</td>\n",
       "      <td>1</td>\n",
       "    </tr>\n",
       "    <tr>\n",
       "      <th>20</th>\n",
       "      <td>171172457</td>\n",
       "      <td>0</td>\n",
       "    </tr>\n",
       "    <tr>\n",
       "      <th>21</th>\n",
       "      <td>62027146</td>\n",
       "      <td>0</td>\n",
       "    </tr>\n",
       "    <tr>\n",
       "      <th>22</th>\n",
       "      <td>222524938</td>\n",
       "      <td>1</td>\n",
       "    </tr>\n",
       "    <tr>\n",
       "      <th>23</th>\n",
       "      <td>122574217</td>\n",
       "      <td>0</td>\n",
       "    </tr>\n",
       "    <tr>\n",
       "      <th>24</th>\n",
       "      <td>22166710</td>\n",
       "      <td>1</td>\n",
       "    </tr>\n",
       "    <tr>\n",
       "      <th>25</th>\n",
       "      <td>25129125</td>\n",
       "      <td>0</td>\n",
       "    </tr>\n",
       "    <tr>\n",
       "      <th>26</th>\n",
       "      <td>316156156</td>\n",
       "      <td>0</td>\n",
       "    </tr>\n",
       "    <tr>\n",
       "      <th>27</th>\n",
       "      <td>231726750</td>\n",
       "      <td>0</td>\n",
       "    </tr>\n",
       "    <tr>\n",
       "      <th>28</th>\n",
       "      <td>2185655</td>\n",
       "      <td>1</td>\n",
       "    </tr>\n",
       "    <tr>\n",
       "      <th>29</th>\n",
       "      <td>12189076</td>\n",
       "      <td>1</td>\n",
       "    </tr>\n",
       "    <tr>\n",
       "      <th>...</th>\n",
       "      <td>...</td>\n",
       "      <td>...</td>\n",
       "    </tr>\n",
       "    <tr>\n",
       "      <th>1470</th>\n",
       "      <td>1380287</td>\n",
       "      <td>0</td>\n",
       "    </tr>\n",
       "    <tr>\n",
       "      <th>1471</th>\n",
       "      <td>3029366</td>\n",
       "      <td>0</td>\n",
       "    </tr>\n",
       "    <tr>\n",
       "      <th>1472</th>\n",
       "      <td>221821377</td>\n",
       "      <td>0</td>\n",
       "    </tr>\n",
       "    <tr>\n",
       "      <th>1473</th>\n",
       "      <td>610239047</td>\n",
       "      <td>1</td>\n",
       "    </tr>\n",
       "    <tr>\n",
       "      <th>1474</th>\n",
       "      <td>21139551</td>\n",
       "      <td>0</td>\n",
       "    </tr>\n",
       "    <tr>\n",
       "      <th>1475</th>\n",
       "      <td>1782114</td>\n",
       "      <td>0</td>\n",
       "    </tr>\n",
       "    <tr>\n",
       "      <th>1476</th>\n",
       "      <td>8192630</td>\n",
       "      <td>1</td>\n",
       "    </tr>\n",
       "    <tr>\n",
       "      <th>1477</th>\n",
       "      <td>1323170139</td>\n",
       "      <td>0</td>\n",
       "    </tr>\n",
       "    <tr>\n",
       "      <th>1478</th>\n",
       "      <td>141961567</td>\n",
       "      <td>1</td>\n",
       "    </tr>\n",
       "    <tr>\n",
       "      <th>1479</th>\n",
       "      <td>192162726</td>\n",
       "      <td>1</td>\n",
       "    </tr>\n",
       "    <tr>\n",
       "      <th>1480</th>\n",
       "      <td>152133397</td>\n",
       "      <td>0</td>\n",
       "    </tr>\n",
       "    <tr>\n",
       "      <th>1481</th>\n",
       "      <td>304169</td>\n",
       "      <td>0</td>\n",
       "    </tr>\n",
       "    <tr>\n",
       "      <th>1482</th>\n",
       "      <td>64150263</td>\n",
       "      <td>0</td>\n",
       "    </tr>\n",
       "    <tr>\n",
       "      <th>1483</th>\n",
       "      <td>1212551</td>\n",
       "      <td>0</td>\n",
       "    </tr>\n",
       "    <tr>\n",
       "      <th>1484</th>\n",
       "      <td>232226447</td>\n",
       "      <td>0</td>\n",
       "    </tr>\n",
       "    <tr>\n",
       "      <th>1485</th>\n",
       "      <td>5197900</td>\n",
       "      <td>0</td>\n",
       "    </tr>\n",
       "    <tr>\n",
       "      <th>1486</th>\n",
       "      <td>2513179236</td>\n",
       "      <td>0</td>\n",
       "    </tr>\n",
       "    <tr>\n",
       "      <th>1487</th>\n",
       "      <td>2224140284</td>\n",
       "      <td>0</td>\n",
       "    </tr>\n",
       "    <tr>\n",
       "      <th>1488</th>\n",
       "      <td>71331462</td>\n",
       "      <td>0</td>\n",
       "    </tr>\n",
       "    <tr>\n",
       "      <th>1489</th>\n",
       "      <td>114216100</td>\n",
       "      <td>0</td>\n",
       "    </tr>\n",
       "    <tr>\n",
       "      <th>1490</th>\n",
       "      <td>11021410</td>\n",
       "      <td>1</td>\n",
       "    </tr>\n",
       "    <tr>\n",
       "      <th>1491</th>\n",
       "      <td>4317247</td>\n",
       "      <td>0</td>\n",
       "    </tr>\n",
       "    <tr>\n",
       "      <th>1492</th>\n",
       "      <td>221527250</td>\n",
       "      <td>1</td>\n",
       "    </tr>\n",
       "    <tr>\n",
       "      <th>1493</th>\n",
       "      <td>122319988</td>\n",
       "      <td>0</td>\n",
       "    </tr>\n",
       "    <tr>\n",
       "      <th>1494</th>\n",
       "      <td>122143163</td>\n",
       "      <td>1</td>\n",
       "    </tr>\n",
       "    <tr>\n",
       "      <th>1495</th>\n",
       "      <td>1014207636</td>\n",
       "      <td>1</td>\n",
       "    </tr>\n",
       "    <tr>\n",
       "      <th>1496</th>\n",
       "      <td>17133913</td>\n",
       "      <td>1</td>\n",
       "    </tr>\n",
       "    <tr>\n",
       "      <th>1497</th>\n",
       "      <td>14165210</td>\n",
       "      <td>0</td>\n",
       "    </tr>\n",
       "    <tr>\n",
       "      <th>1498</th>\n",
       "      <td>24777679</td>\n",
       "      <td>1</td>\n",
       "    </tr>\n",
       "    <tr>\n",
       "      <th>1499</th>\n",
       "      <td>161514055</td>\n",
       "      <td>0</td>\n",
       "    </tr>\n",
       "  </tbody>\n",
       "</table>\n",
       "<p>1500 rows × 2 columns</p>\n",
       "</div>"
      ],
      "text/plain": [
       "      customerID  Churn\n",
       "0       21135993      0\n",
       "1       13130474      0\n",
       "2        7533169      1\n",
       "3     2114231208      0\n",
       "4        3524728      1\n",
       "5      192125049      0\n",
       "6      172428986      0\n",
       "7       21329444      0\n",
       "8      232256498      0\n",
       "9      162223094      1\n",
       "10      51038704      1\n",
       "11       3192991      0\n",
       "12      14207440      1\n",
       "13      16148243      0\n",
       "14     151417704      1\n",
       "15       9638888      1\n",
       "16    1824179531      1\n",
       "17       9183692      1\n",
       "18     102305485      0\n",
       "19      38229369      1\n",
       "20     171172457      0\n",
       "21      62027146      0\n",
       "22     222524938      1\n",
       "23     122574217      0\n",
       "24      22166710      1\n",
       "25      25129125      0\n",
       "26     316156156      0\n",
       "27     231726750      0\n",
       "28       2185655      1\n",
       "29      12189076      1\n",
       "...          ...    ...\n",
       "1470     1380287      0\n",
       "1471     3029366      0\n",
       "1472   221821377      0\n",
       "1473   610239047      1\n",
       "1474    21139551      0\n",
       "1475     1782114      0\n",
       "1476     8192630      1\n",
       "1477  1323170139      0\n",
       "1478   141961567      1\n",
       "1479   192162726      1\n",
       "1480   152133397      0\n",
       "1481      304169      0\n",
       "1482    64150263      0\n",
       "1483     1212551      0\n",
       "1484   232226447      0\n",
       "1485     5197900      0\n",
       "1486  2513179236      0\n",
       "1487  2224140284      0\n",
       "1488    71331462      0\n",
       "1489   114216100      0\n",
       "1490    11021410      1\n",
       "1491     4317247      0\n",
       "1492   221527250      1\n",
       "1493   122319988      0\n",
       "1494   122143163      1\n",
       "1495  1014207636      1\n",
       "1496    17133913      1\n",
       "1497    14165210      0\n",
       "1498    24777679      1\n",
       "1499   161514055      0\n",
       "\n",
       "[1500 rows x 2 columns]"
      ]
     },
     "execution_count": 287,
     "metadata": {},
     "output_type": "execute_result"
    }
   ],
   "source": [
    "dataframeResult[:]"
   ]
  },
  {
   "cell_type": "code",
   "execution_count": 288,
   "metadata": {
    "collapsed": true
   },
   "outputs": [],
   "source": [
    "dataframeResult.to_csv('out.csv', sep='\\t')"
   ]
  }
 ],
 "metadata": {
  "kernelspec": {
   "display_name": "Python 3",
   "language": "python",
   "name": "python3"
  },
  "language_info": {
   "codemirror_mode": {
    "name": "ipython",
    "version": 3
   },
   "file_extension": ".py",
   "mimetype": "text/x-python",
   "name": "python",
   "nbconvert_exporter": "python",
   "pygments_lexer": "ipython3",
   "version": "3.6.3"
  }
 },
 "nbformat": 4,
 "nbformat_minor": 1
}
