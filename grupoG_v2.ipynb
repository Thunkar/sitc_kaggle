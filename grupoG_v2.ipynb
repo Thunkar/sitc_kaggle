{
 "cells": [
  {
   "cell_type": "markdown",
   "metadata": {},
   "source": [
    "![](images/EscUpmPolit_p.gif \"UPM\")"
   ]
  },
  {
   "cell_type": "markdown",
   "metadata": {},
   "source": [
    "# Telco Churn"
   ]
  },
  {
   "cell_type": "code",
   "execution_count": null,
   "metadata": {},
   "outputs": [],
   "source": [
    "import matplotlib.pyplot as plt\n",
    "%matplotlib inline\n",
    "import random\n",
    "import numpy as np\n",
    "import pandas as pd\n",
    "from sklearn import datasets, svm, cross_validation, tree, preprocessing, metrics\n",
    "import sklearn.ensemble as ske\n",
    "import seaborn as sns\n",
    "sns.set(color_codes=True)\n",
    "import pandas as pd \n",
    "from sklearn.model_selection import train_test_split\n",
    "from sklearn.ensemble import RandomForestClassifier\n",
    "from sklearn.metrics import confusion_matrix\n",
    "from sklearn.metrics import roc_curve\n",
    "import matplotlib\n",
    "import matplotlib.pyplot as plt\n",
    "from IPython.display import display, HTML\n",
    "from sklearn.grid_search import GridSearchCV\n",
    "from sklearn.metrics import classification_report\n",
    "from sklearn.metrics import f1_score"
   ]
  },
  {
   "cell_type": "code",
   "execution_count": null,
   "metadata": {
    "scrolled": false
   },
   "outputs": [],
   "source": [
    "df = pd.read_csv('data-churn/train.csv')\n",
    "df[:5]"
   ]
  },
  {
   "cell_type": "code",
   "execution_count": null,
   "metadata": {},
   "outputs": [],
   "source": [
    "df.count()"
   ]
  },
  {
   "cell_type": "markdown",
   "metadata": {},
   "source": [
    "Se comprueba si tenemos algún elemento nulo en el dataset."
   ]
  },
  {
   "cell_type": "code",
   "execution_count": null,
   "metadata": {},
   "outputs": [],
   "source": [
    "df.isnull().sum()"
   ]
  },
  {
   "cell_type": "markdown",
   "metadata": {},
   "source": [
    "Se comprueba el tipo de datos que contiene el dataset"
   ]
  },
  {
   "cell_type": "code",
   "execution_count": null,
   "metadata": {},
   "outputs": [],
   "source": [
    "df.info()"
   ]
  },
  {
   "cell_type": "markdown",
   "metadata": {},
   "source": [
    "Se filtran los elementos que no son de tipo numérico, es decir aquellos que no son ni int64 ni float64. Estos serán los elementos que se codificarán de manera continua."
   ]
  },
  {
   "cell_type": "code",
   "execution_count": null,
   "metadata": {},
   "outputs": [],
   "source": [
    "df.dtypes[df.dtypes == object]"
   ]
  },
  {
   "cell_type": "markdown",
   "metadata": {},
   "source": [
    "Vemos los valores de los elementos anteriores de tipo object."
   ]
  },
  {
   "cell_type": "code",
   "execution_count": null,
   "metadata": {},
   "outputs": [],
   "source": [
    "print(\"gender: \"+df['gender'].unique())\n",
    "print(\"Parther: \"+df['Partner'].unique())\n",
    "print(\"Dependents: \"+df['Dependents'].unique())\n",
    "print(\"PhoneService: \"+df['PhoneService'].unique())\n",
    "print(\"MultipleLines: \"+df['MultipleLines'].unique())\n",
    "print(\"InternetService: \"+df['InternetService'].unique())\n",
    "print(\"OnlineSecurity: \"+df['OnlineSecurity'].unique())\n",
    "print(\"OnlineBackup: \"+df['OnlineBackup'].unique())\n",
    "print(\"DeviceProtection: \"+df['DeviceProtection'].unique())\n",
    "print(\"TechSupport: \"+df['TechSupport'].unique())\n",
    "print(\"StreamingTV: \"+df['StreamingTV'].unique())\n",
    "print(\"StreamingMovies: \"+df['StreamingMovies'].unique())\n",
    "print(\"Contract: \"+df['Contract'].unique())\n",
    "print(\"PaperlessBilling: \"+df['PaperlessBilling'].unique())\n",
    "print(\"PaymentMethod: \"+df['PaymentMethod'].unique())\n",
    "print(\"TotalCharges: \"+df['TotalCharges'].unique())"
   ]
  },
  {
   "cell_type": "markdown",
   "metadata": {},
   "source": [
    "Lo siguiente será comprobar si existen duplicados. En este caso comprobamos que no tenemos información duplicada."
   ]
  },
  {
   "cell_type": "code",
   "execution_count": null,
   "metadata": {},
   "outputs": [],
   "source": [
    "df.duplicated().any()"
   ]
  },
  {
   "cell_type": "markdown",
   "metadata": {},
   "source": [
    "A continuación se pasa a codificar los valores como variables continuas."
   ]
  },
  {
   "cell_type": "code",
   "execution_count": null,
   "metadata": {
    "scrolled": false
   },
   "outputs": [],
   "source": [
    "df.loc[df[\"gender\"] == \"Male\", \"gender\"] = 0\n",
    "df.loc[df[\"gender\"] == \"Female\", \"gender\"] = 1\n",
    "\n",
    "df.loc[df[\"Partner\"] == \"Yes\", \"Partner\"] = 1\n",
    "df.loc[df[\"Partner\"] == \"No\", \"Partner\"] = 0\n",
    "\n",
    "df.loc[df[\"Dependents\"] == \"Yes\", \"Dependents\"] = 1\n",
    "df.loc[df[\"Dependents\"] == \"No\", \"Dependents\"] = 0\n",
    "\n",
    "df.loc[df[\"PhoneService\"] == \"Yes\", \"PhoneService\"] = 1\n",
    "df.loc[df[\"PhoneService\"] == \"No\", \"PhoneService\"] = 0\n",
    "\n",
    "df.loc[df[\"MultipleLines\"] == \"No\", \"MultipleLines\"] = 0\n",
    "df.loc[df[\"MultipleLines\"] == \"No phone service\", \"MultipleLines\"] = 0\n",
    "df.loc[df[\"MultipleLines\"] == \"Yes\", \"MultipleLines\"] = 1\n",
    "\n",
    "df.loc[df[\"InternetService\"] == \"No\", \"InternetService\"] = 0\n",
    "df.loc[df[\"InternetService\"] == \"DSL\", \"InternetService\"] = 1\n",
    "df.loc[df[\"InternetService\"] == \"Fiber optic\", \"InternetService\"] = 2\n",
    "\n",
    "df.loc[df[\"OnlineSecurity\"] == \"No\", \"OnlineSecurity\"] = 0\n",
    "df.loc[df[\"OnlineSecurity\"] == \"No internet service\", \"OnlineSecurity\"] = 0\n",
    "df.loc[df[\"OnlineSecurity\"] == \"Yes\", \"OnlineSecurity\"] = 1\n",
    "\n",
    "df.loc[df[\"OnlineBackup\"] == \"No\", \"OnlineBackup\"] = 0\n",
    "df.loc[df[\"OnlineBackup\"] == \"No internet service\", \"OnlineBackup\"] = 0\n",
    "df.loc[df[\"OnlineBackup\"] == \"Yes\", \"OnlineBackup\"] = 1\n",
    "\n",
    "df.loc[df[\"DeviceProtection\"] == \"No\", \"DeviceProtection\"] = 0\n",
    "df.loc[df[\"DeviceProtection\"] == \"No internet service\", \"DeviceProtection\"] = 0\n",
    "df.loc[df[\"DeviceProtection\"] == \"Yes\", \"DeviceProtection\"] = 1\n",
    "\n",
    "df.loc[df[\"TechSupport\"] == \"No\", \"TechSupport\"] = 0\n",
    "df.loc[df[\"TechSupport\"] == \"No internet service\", \"TechSupport\"] = 0\n",
    "df.loc[df[\"TechSupport\"] == \"Yes\", \"TechSupport\"] = 1\n",
    "\n",
    "df.loc[df[\"StreamingTV\"] == \"No\", \"StreamingTV\"] = 0\n",
    "df.loc[df[\"StreamingTV\"] == \"No internet service\", \"StreamingTV\"] = 0\n",
    "df.loc[df[\"StreamingTV\"] == \"Yes\", \"StreamingTV\"] = 1\n",
    "\n",
    "df.loc[df[\"StreamingMovies\"] == \"No\", \"StreamingMovies\"] = 0\n",
    "df.loc[df[\"StreamingMovies\"] == \"No internet service\", \"StreamingMovies\"] = 0\n",
    "df.loc[df[\"StreamingMovies\"] == \"Yes\", \"StreamingMovies\"] = 1\n",
    "\n",
    "df.loc[df[\"Contract\"] == \"Two year\", \"Contract\"] = 0\n",
    "df.loc[df[\"Contract\"] == \"One year\", \"Contract\"] = 1\n",
    "df.loc[df[\"Contract\"] == \"Month-to-month\", \"Contract\"] = 2\n",
    "\n",
    "df.loc[df[\"PaperlessBilling\"] == \"Yes\", \"PaperlessBilling\"] = 1\n",
    "df.loc[df[\"PaperlessBilling\"] == \"No\", \"PaperlessBilling\"] = 0\n",
    "\n",
    "df.loc[df[\"PaymentMethod\"] == \"Bank transfer (automatic)\", \"PaymentMethod\"] = 0\n",
    "df.loc[df[\"PaymentMethod\"] == \"Mailed check\", \"PaymentMethod\"] = 1\n",
    "df.loc[df[\"PaymentMethod\"] == \"Electronic check\", \"PaymentMethod\"] = 2\n",
    "df.loc[df[\"PaymentMethod\"] == \"Credit card (automatic)\", \"PaymentMethod\"] = 3\n",
    "\n",
    "df[\"TotalCharges\"] = df[\"TotalCharges\"].apply(pd.to_numeric, errors='coerce')\n",
    "\n",
    "df[-5:]"
   ]
  },
  {
   "cell_type": "markdown",
   "metadata": {},
   "source": [
    "Tras realizar las modificaciones se vuelve a comprobar que no se tenga ningún elemento Null"
   ]
  },
  {
   "cell_type": "code",
   "execution_count": null,
   "metadata": {},
   "outputs": [],
   "source": [
    "df.isnull().sum()"
   ]
  },
  {
   "cell_type": "markdown",
   "metadata": {},
   "source": [
    "Se comprueba que la columna TotalCharges contiene 10 valores nulos. Se sustituyen por la media."
   ]
  },
  {
   "cell_type": "code",
   "execution_count": null,
   "metadata": {},
   "outputs": [],
   "source": [
    "df['TotalCharges'] = df['TotalCharges'].fillna(df['TotalCharges'].median())"
   ]
  },
  {
   "cell_type": "code",
   "execution_count": null,
   "metadata": {},
   "outputs": [],
   "source": [
    "df.isnull().sum()"
   ]
  },
  {
   "cell_type": "markdown",
   "metadata": {},
   "source": [
    "Se vuelve a comprobar que no haya duplicados."
   ]
  },
  {
   "cell_type": "code",
   "execution_count": null,
   "metadata": {},
   "outputs": [],
   "source": [
    "df.duplicated().any()"
   ]
  },
  {
   "cell_type": "markdown",
   "metadata": {},
   "source": [
    "Ahora separamos los datos en dos arrays: Uno X que contendra todos los valores de cada fila menos los de churn. y otro Y que contendrá solo los datos de churn para esa fila. El algoritmo de clasificacion comparara los valores de atributo de X a sus correspondientes valores de Y para detectar patrones de como diferentes valores de atributo afectan a la permanencia de un cliente."
   ]
  },
  {
   "cell_type": "code",
   "execution_count": null,
   "metadata": {},
   "outputs": [],
   "source": [
    "X = df.drop(['Churn'], axis=1).values\n",
    "y = df['Churn'].values"
   ]
  },
  {
   "cell_type": "markdown",
   "metadata": {},
   "source": [
    "Ahora dividimos los arrays X e Y en dos partes, un set de entrenamiento y otro de testeo. Daremos el set de entrenamiento al algoritmo de clasificación para crear un modelo entrenado. Una vez el modelo se haya formado, lo utilizaremos para clasificar el set de testeo, lo que nos permitira determinar la precision del modelo. Aquí he hecho un reparto de 20-80, de tal manera que el 80% del dataset se utilizará para entrenamiento y el 20% para testeo:"
   ]
  },
  {
   "cell_type": "code",
   "execution_count": null,
   "metadata": {},
   "outputs": [],
   "source": [
    "X_train, X_test, y_train, y_test = cross_validation.train_test_split(X,y,test_size=0.2)"
   ]
  },
  {
   "cell_type": "markdown",
   "metadata": {},
   "source": [
    "Primero comenzaremos con un arbol de decision (Tecnica aprendida en clase.) El arbol de decision examinara una variable cada vez, y se dividira entre 1 de 2 ramas dependiendo del resultado del valor obtenido. \n",
    "De tal manera que el árbol primero se divide por sexo, y después por clase, ya que habrá aprendido en la secuencia de entrenamiento que estas son las dos principales caracteristicas que determinan la suerte de un individuo. "
   ]
  },
  {
   "cell_type": "code",
   "execution_count": null,
   "metadata": {},
   "outputs": [],
   "source": [
    "clf_dt = tree.DecisionTreeClassifier(max_depth=10)"
   ]
  },
  {
   "cell_type": "code",
   "execution_count": null,
   "metadata": {},
   "outputs": [],
   "source": [
    "clf_dt.fit (X_train, y_train)\n",
    "clf_dt.score (X_test, y_test)"
   ]
  },
  {
   "cell_type": "markdown",
   "metadata": {},
   "source": [
    "Como sabemos, la precisión del modelo puede variar dependiendo de que filas sean seleccionadas para las secuencias de entrenamiento y testeo. Para que esto no condicione los resultados vamos a poner un factor de aleatoriedad:"
   ]
  },
  {
   "cell_type": "code",
   "execution_count": null,
   "metadata": {},
   "outputs": [],
   "source": [
    "shuffle_validator = cross_validation.ShuffleSplit(len(X), n_iter=20, test_size=0.2, random_state=0)\n",
    "def test_classifier(clf):\n",
    "    scores = cross_validation.cross_val_score(clf, X, y, cv=shuffle_validator)\n",
    "    print(\"Accuracy: %0.4f (+/- %0.2f)\" % (scores.mean(), scores.std()))"
   ]
  },
  {
   "cell_type": "code",
   "execution_count": null,
   "metadata": {
    "scrolled": true
   },
   "outputs": [],
   "source": [
    "test_classifier(clf_dt)"
   ]
  },
  {
   "cell_type": "code",
   "execution_count": null,
   "metadata": {
    "scrolled": true
   },
   "outputs": [],
   "source": [
    "y_true, y_pred = y_test, clf_dt.predict(X_test)\n",
    "print(classification_report(y_true, y_pred))\n",
    "print (f1_score(y_true, y_pred))"
   ]
  },
  {
   "cell_type": "code",
   "execution_count": null,
   "metadata": {},
   "outputs": [],
   "source": [
    "print(\"Prediction \", clf_dt.predict(X))"
   ]
  },
  {
   "cell_type": "markdown",
   "metadata": {},
   "source": [
    "Se intentan optimizar los parámetros empleando Grid Search"
   ]
  },
  {
   "cell_type": "code",
   "execution_count": null,
   "metadata": {
    "scrolled": true
   },
   "outputs": [],
   "source": [
    "# set of parameters to test\n",
    "tuned_parameters = [{'max_depth': np.arange(3, 10),\n",
    "                     'criterion': ['gini', 'entropy'], \n",
    "                     'splitter': ['best', 'random'],\n",
    "                     'min_samples_leaf': [2, 5, 10],\n",
    "                     'class_weight':['balanced'],\n",
    "                     'max_leaf_nodes': [None, 5, 10, 20]\n",
    "                    }]\n",
    "\n",
    "scores = ['precision', 'recall']\n",
    "\n",
    "for score in scores:\n",
    "    print(\"# Tuning hyper-parameters for %s\" % score)\n",
    "    print()\n",
    "\n",
    "    # cv = the fold of the cross-validation cv, defaulted to 5\n",
    "    gs = GridSearchCV(tree.DecisionTreeClassifier(), tuned_parameters, cv=10, scoring='%s_weighted' % score)\n",
    "    gs.fit(X_train, y_train)\n",
    "\n",
    "    print(\"Best parameters set found on development set:\")\n",
    "    print()\n",
    "    print(gs.best_params_)\n",
    "    print()\n",
    "    print(\"Detailed classification report:\")\n",
    "    print()\n",
    "\n",
    "    y_true, y_pred = y_test, gs.predict(X_test)\n",
    "    print(classification_report(y_true, y_pred))\n",
    "    print()"
   ]
  },
  {
   "cell_type": "markdown",
   "metadata": {},
   "source": [
    "Se modifica el modelo usando los parámetros optimizados obtenidos previamente."
   ]
  },
  {
   "cell_type": "code",
   "execution_count": null,
   "metadata": {},
   "outputs": [],
   "source": [
    "clf_dt = tree.DecisionTreeClassifier(class_weight='balanced', criterion='gini',max_depth=8,\n",
    "                                    max_leaf_nodes=20,min_samples_leaf=2,splitter='random')"
   ]
  },
  {
   "cell_type": "code",
   "execution_count": null,
   "metadata": {},
   "outputs": [],
   "source": [
    "clf_dt.fit (X_train, y_train)\n",
    "clf_dt.score (X_test, y_test)"
   ]
  },
  {
   "cell_type": "code",
   "execution_count": null,
   "metadata": {},
   "outputs": [],
   "source": [
    "shuffle_validator = cross_validation.ShuffleSplit(len(X), n_iter=20, test_size=0.2, random_state=0)\n",
    "def test_classifier(clf):\n",
    "    scores = cross_validation.cross_val_score(clf, X, y, cv=shuffle_validator)\n",
    "    print(\"Accuracy: %0.4f (+/- %0.2f)\" % (scores.mean(), scores.std()))"
   ]
  },
  {
   "cell_type": "code",
   "execution_count": null,
   "metadata": {},
   "outputs": [],
   "source": [
    "test_classifier(clf_dt)"
   ]
  },
  {
   "cell_type": "code",
   "execution_count": null,
   "metadata": {},
   "outputs": [],
   "source": [
    "print(classification_report(y_true, y_pred))\n",
    "print (f1_score(y_true, y_pred))"
   ]
  },
  {
   "cell_type": "code",
   "execution_count": null,
   "metadata": {},
   "outputs": [],
   "source": [
    "dfTest = pd.read_csv('telco-churn/test_nolabel.csv')"
   ]
  },
  {
   "cell_type": "code",
   "execution_count": null,
   "metadata": {},
   "outputs": [],
   "source": [
    "dfTest.loc[dfTest[\"gender\"] == \"Male\", \"gender\"] = 0\n",
    "dfTest.loc[dfTest[\"gender\"] == \"Female\", \"gender\"] = 1\n",
    "\n",
    "dfTest.loc[dfTest[\"Partner\"] == \"Yes\", \"Partner\"] = 1\n",
    "dfTest.loc[dfTest[\"Partner\"] == \"No\", \"Partner\"] = 0\n",
    "\n",
    "dfTest.loc[dfTest[\"Dependents\"] == \"Yes\", \"Dependents\"] = 1\n",
    "dfTest.loc[dfTest[\"Dependents\"] == \"No\", \"Dependents\"] = 0\n",
    "\n",
    "dfTest.loc[dfTest[\"PhoneService\"] == \"Yes\", \"PhoneService\"] = 1\n",
    "dfTest.loc[dfTest[\"PhoneService\"] == \"No\", \"PhoneService\"] = 0\n",
    "\n",
    "dfTest.loc[dfTest[\"MultipleLines\"] == \"No\", \"MultipleLines\"] = 0\n",
    "dfTest.loc[dfTest[\"MultipleLines\"] == \"No phone service\", \"MultipleLines\"] = 0\n",
    "dfTest.loc[dfTest[\"MultipleLines\"] == \"Yes\", \"MultipleLines\"] = 1\n",
    "\n",
    "dfTest.loc[dfTest[\"InternetService\"] == \"No\", \"InternetService\"] = 0\n",
    "dfTest.loc[dfTest[\"InternetService\"] == \"DSL\", \"InternetService\"] = 1\n",
    "dfTest.loc[dfTest[\"InternetService\"] == \"Fiber optic\", \"InternetService\"] = 2\n",
    "\n",
    "dfTest.loc[dfTest[\"OnlineSecurity\"] == \"No\", \"OnlineSecurity\"] = 0\n",
    "dfTest.loc[dfTest[\"OnlineSecurity\"] == \"No internet service\", \"OnlineSecurity\"] = 0\n",
    "dfTest.loc[dfTest[\"OnlineSecurity\"] == \"Yes\", \"OnlineSecurity\"] = 1\n",
    "\n",
    "dfTest.loc[dfTest[\"OnlineBackup\"] == \"No\", \"OnlineBackup\"] = 0\n",
    "dfTest.loc[dfTest[\"OnlineBackup\"] == \"No internet service\", \"OnlineBackup\"] = 0\n",
    "dfTest.loc[dfTest[\"OnlineBackup\"] == \"Yes\", \"OnlineBackup\"] = 1\n",
    "\n",
    "dfTest.loc[dfTest[\"DeviceProtection\"] == \"No\", \"DeviceProtection\"] = 0\n",
    "dfTest.loc[dfTest[\"DeviceProtection\"] == \"No internet service\", \"DeviceProtection\"] = 0\n",
    "dfTest.loc[dfTest[\"DeviceProtection\"] == \"Yes\", \"DeviceProtection\"] = 1\n",
    "\n",
    "dfTest.loc[dfTest[\"TechSupport\"] == \"No\", \"TechSupport\"] = 0\n",
    "dfTest.loc[dfTest[\"TechSupport\"] == \"No internet service\", \"TechSupport\"] = 0\n",
    "dfTest.loc[dfTest[\"TechSupport\"] == \"Yes\", \"TechSupport\"] = 1\n",
    "\n",
    "dfTest.loc[dfTest[\"StreamingTV\"] == \"No\", \"StreamingTV\"] = 0\n",
    "dfTest.loc[dfTest[\"StreamingTV\"] == \"No internet service\", \"StreamingTV\"] = 0\n",
    "dfTest.loc[dfTest[\"StreamingTV\"] == \"Yes\", \"StreamingTV\"] = 1\n",
    "\n",
    "dfTest.loc[dfTest[\"StreamingMovies\"] == \"No\", \"StreamingMovies\"] = 0\n",
    "dfTest.loc[dfTest[\"StreamingMovies\"] == \"No internet service\", \"StreamingMovies\"] = 0\n",
    "dfTest.loc[dfTest[\"StreamingMovies\"] == \"Yes\", \"StreamingMovies\"] = 1\n",
    "\n",
    "dfTest.loc[dfTest[\"Contract\"] == \"Two year\", \"Contract\"] = 0\n",
    "dfTest.loc[dfTest[\"Contract\"] == \"One year\", \"Contract\"] = 1\n",
    "dfTest.loc[dfTest[\"Contract\"] == \"Month-to-month\", \"Contract\"] = 2\n",
    "\n",
    "dfTest.loc[dfTest[\"PaperlessBilling\"] == \"Yes\", \"PaperlessBilling\"] = 1\n",
    "dfTest.loc[dfTest[\"PaperlessBilling\"] == \"No\", \"PaperlessBilling\"] = 0\n",
    "\n",
    "dfTest.loc[dfTest[\"PaymentMethod\"] == \"Bank transfer (automatic)\", \"PaymentMethod\"] = 0\n",
    "dfTest.loc[dfTest[\"PaymentMethod\"] == \"Mailed check\", \"PaymentMethod\"] = 1\n",
    "dfTest.loc[dfTest[\"PaymentMethod\"] == \"Electronic check\", \"PaymentMethod\"] = 2\n",
    "dfTest.loc[dfTest[\"PaymentMethod\"] == \"Credit card (automatic)\", \"PaymentMethod\"] = 3\n",
    "\n",
    "dfTest[\"TotalCharges\"] = dfTest[\"TotalCharges\"].apply(pd.to_numeric, errors='coerce')\n",
    "dfTest['TotalCharges'] = dfTest['TotalCharges'].fillna(dfTest['TotalCharges'].median())\n",
    "dfTest[-5:]\n"
   ]
  },
  {
   "cell_type": "code",
   "execution_count": null,
   "metadata": {},
   "outputs": [],
   "source": [
    "X2 = dfTest"
   ]
  },
  {
   "cell_type": "code",
   "execution_count": null,
   "metadata": {},
   "outputs": [],
   "source": [
    "churn = clf_dt.predict(X2)"
   ]
  },
  {
   "cell_type": "code",
   "execution_count": null,
   "metadata": {},
   "outputs": [],
   "source": [
    "dataframeResult = dfTest.filter(['customerID'], axis=1)"
   ]
  },
  {
   "cell_type": "code",
   "execution_count": null,
   "metadata": {},
   "outputs": [],
   "source": [
    "dataframeResult['Churn'] = churn"
   ]
  },
  {
   "cell_type": "code",
   "execution_count": null,
   "metadata": {},
   "outputs": [],
   "source": [
    "dataframeResult[:]"
   ]
  },
  {
   "cell_type": "code",
   "execution_count": null,
   "metadata": {},
   "outputs": [],
   "source": [
    "dataframeResult.to_csv('out.csv', sep='\\t')"
   ]
  },
  {
   "cell_type": "code",
   "execution_count": null,
   "metadata": {},
   "outputs": [],
   "source": []
  }
 ],
 "metadata": {
  "kernelspec": {
   "display_name": "Python 3",
   "language": "python",
   "name": "python3"
  },
  "language_info": {
   "codemirror_mode": {
    "name": "ipython",
    "version": 3
   },
   "file_extension": ".py",
   "mimetype": "text/x-python",
   "name": "python",
   "nbconvert_exporter": "python",
   "pygments_lexer": "ipython3",
   "version": "3.6.4"
  }
 },
 "nbformat": 4,
 "nbformat_minor": 1
}
