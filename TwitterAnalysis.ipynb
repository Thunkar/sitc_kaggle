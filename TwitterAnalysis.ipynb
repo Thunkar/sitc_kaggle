{
 "cells": [
  {
   "cell_type": "markdown",
   "metadata": {},
   "source": [
    "# SITC - Proyecto Final: Twitter football analysis"
   ]
  },
  {
   "cell_type": "markdown",
   "metadata": {},
   "source": [
    "- Crespo Bolaños, Priscila\n",
    "- Juliana Quiros, Gregorio\n",
    "- Murillo Ramos, David\n",
    "- Pascual Landa, Ignacio\n",
    "- Rodriguez Villalba, Álvaro"
   ]
  },
  {
   "cell_type": "markdown",
   "metadata": {},
   "source": [
    "## Sentiment classification for Twitter"
   ]
  },
  {
   "cell_type": "markdown",
   "metadata": {},
   "source": [
    "### Obtención de datos etiquetados"
   ]
  },
  {
   "cell_type": "code",
   "execution_count": 1,
   "metadata": {
    "scrolled": true
   },
   "outputs": [
    {
     "name": "stderr",
     "output_type": "stream",
     "text": [
      "C:\\Users\\grego\\Anaconda3\\lib\\site-packages\\sklearn\\cross_validation.py:41: DeprecationWarning: This module was deprecated in version 0.18 in favor of the model_selection module into which all the refactored classes and functions are moved. Also note that the interface of the new CV iterators are different from that of this module. This module will be removed in 0.20.\n",
      "  \"This module will be removed in 0.20.\", DeprecationWarning)\n",
      "C:\\Users\\grego\\Anaconda3\\lib\\site-packages\\sklearn\\learning_curve.py:22: DeprecationWarning: This module was deprecated in version 0.18 in favor of the model_selection module into which all the functions are moved. This module will be removed in 0.20\n",
      "  DeprecationWarning)\n"
     ]
    },
    {
     "data": {
      "text/html": [
       "<div>\n",
       "<style scoped>\n",
       "    .dataframe tbody tr th:only-of-type {\n",
       "        vertical-align: middle;\n",
       "    }\n",
       "\n",
       "    .dataframe tbody tr th {\n",
       "        vertical-align: top;\n",
       "    }\n",
       "\n",
       "    .dataframe thead th {\n",
       "        text-align: right;\n",
       "    }\n",
       "</style>\n",
       "<table border=\"1\" class=\"dataframe\">\n",
       "  <thead>\n",
       "    <tr style=\"text-align: right;\">\n",
       "      <th></th>\n",
       "      <th>id</th>\n",
       "      <th>text</th>\n",
       "      <th>polarity</th>\n",
       "    </tr>\n",
       "  </thead>\n",
       "  <tbody>\n",
       "    <tr>\n",
       "      <th>0</th>\n",
       "      <td>9f5c7536</td>\n",
       "      <td>Recorriendo el #CampNou🏟 https://t.co/ZKZ1ERaiZS</td>\n",
       "      <td>Neutral</td>\n",
       "    </tr>\n",
       "    <tr>\n",
       "      <th>1</th>\n",
       "      <td>8e59cbaa</td>\n",
       "      <td>@FCBarcelona fera desde pequeno😲😲</td>\n",
       "      <td>Neutral</td>\n",
       "    </tr>\n",
       "    <tr>\n",
       "      <th>2</th>\n",
       "      <td>a2c38968</td>\n",
       "      <td>@sport Y el barca que haria sin Messi????? Ni ...</td>\n",
       "      <td>Negative</td>\n",
       "    </tr>\n",
       "    <tr>\n",
       "      <th>3</th>\n",
       "      <td>51cf6477</td>\n",
       "      <td>Please RT!! #barcelona #fcbarcelona #Barca #fc...</td>\n",
       "      <td>Neutral</td>\n",
       "    </tr>\n",
       "    <tr>\n",
       "      <th>4</th>\n",
       "      <td>2a1bb2a5</td>\n",
       "      <td>@NostradamusFCB Si parce que miedo, sólo el ba...</td>\n",
       "      <td>Neutral</td>\n",
       "    </tr>\n",
       "  </tbody>\n",
       "</table>\n",
       "</div>"
      ],
      "text/plain": [
       "         id                                               text  polarity\n",
       "0  9f5c7536   Recorriendo el #CampNou🏟 https://t.co/ZKZ1ERaiZS   Neutral\n",
       "1  8e59cbaa                  @FCBarcelona fera desde pequeno😲😲   Neutral\n",
       "2  a2c38968  @sport Y el barca que haria sin Messi????? Ni ...  Negative\n",
       "3  51cf6477  Please RT!! #barcelona #fcbarcelona #Barca #fc...   Neutral\n",
       "4  2a1bb2a5  @NostradamusFCB Si parce que miedo, sólo el ba...   Neutral"
      ]
     },
     "execution_count": 1,
     "metadata": {},
     "output_type": "execute_result"
    }
   ],
   "source": [
    "#Leemos el fichero de los datos sin etiquetar\n",
    "# General import and load data\n",
    "import pandas as pd\n",
    "import numpy as np\n",
    "import matplotlib.pyplot as plt\n",
    "\n",
    "# if matplotlib is not set inline, you will not see plots\n",
    "#alternatives auto gtk gtk2 inline osx qt qt5 wx tk\n",
    "#%matplotlib auto\n",
    "#%matplotlib qt\n",
    "%matplotlib inline\n",
    "%run plot_learning_curve\n",
    "\n",
    "tweets = pd.read_csv('football-twitter/train.csv')\n",
    "tweets.head()"
   ]
  },
  {
   "cell_type": "code",
   "execution_count": 2,
   "metadata": {},
   "outputs": [
    {
     "data": {
      "text/plain": [
       "id          object\n",
       "text        object\n",
       "polarity    object\n",
       "dtype: object"
      ]
     },
     "execution_count": 2,
     "metadata": {},
     "output_type": "execute_result"
    }
   ],
   "source": [
    "tweets.dtypes"
   ]
  },
  {
   "cell_type": "code",
   "execution_count": 3,
   "metadata": {},
   "outputs": [
    {
     "data": {
      "text/plain": [
       "array(['Neutral', 'Negative', 'Positive'], dtype=object)"
      ]
     },
     "execution_count": 3,
     "metadata": {},
     "output_type": "execute_result"
    }
   ],
   "source": [
    "tweets.polarity.unique()"
   ]
  },
  {
   "cell_type": "code",
   "execution_count": 4,
   "metadata": {},
   "outputs": [
    {
     "data": {
      "text/plain": [
       "polarity\n",
       "Negative    142\n",
       "Neutral     208\n",
       "Positive     61\n",
       "dtype: int64"
      ]
     },
     "execution_count": 4,
     "metadata": {},
     "output_type": "execute_result"
    }
   ],
   "source": [
    "tweets.groupby('polarity').size()"
   ]
  },
  {
   "cell_type": "code",
   "execution_count": 5,
   "metadata": {},
   "outputs": [
    {
     "data": {
      "text/plain": [
       "<matplotlib.axes._subplots.AxesSubplot at 0x2ccf0ef65c0>"
      ]
     },
     "execution_count": 5,
     "metadata": {},
     "output_type": "execute_result"
    },
    {
     "data": {
      "image/png": "[encoded data removed]",
      "text/plain": [
       "<matplotlib.figure.Figure at 0x2cced4a9438>"
      ]
     },
     "metadata": {},
     "output_type": "display_data"
    }
   ],
   "source": [
    "tweets['polarity'].hist()"
   ]
  },
  {
   "cell_type": "markdown",
   "metadata": {},
   "source": [
    "As we see there are more tweets labeled as Negative than Positive. WE will try to equalize those values."
   ]
  },
  {
   "cell_type": "code",
   "execution_count": 6,
   "metadata": {},
   "outputs": [
    {
     "data": {
      "text/plain": [
       "id          81\n",
       "text        81\n",
       "polarity    81\n",
       "dtype: int64"
      ]
     },
     "execution_count": 6,
     "metadata": {},
     "output_type": "execute_result"
    }
   ],
   "source": [
    "tweets_negative = tweets[tweets.polarity=='Negative']\n",
    "tweets_negative.head()\n",
    "tweets_toDelete = tweets_negative[:-61]\n",
    "tweets_toDelete.count()"
   ]
  },
  {
   "cell_type": "code",
   "execution_count": 7,
   "metadata": {},
   "outputs": [
    {
     "data": {
      "text/html": [
       "<div>\n",
       "<style scoped>\n",
       "    .dataframe tbody tr th:only-of-type {\n",
       "        vertical-align: middle;\n",
       "    }\n",
       "\n",
       "    .dataframe tbody tr th {\n",
       "        vertical-align: top;\n",
       "    }\n",
       "\n",
       "    .dataframe thead th {\n",
       "        text-align: right;\n",
       "    }\n",
       "</style>\n",
       "<table border=\"1\" class=\"dataframe\">\n",
       "  <thead>\n",
       "    <tr style=\"text-align: right;\">\n",
       "      <th></th>\n",
       "      <th>id</th>\n",
       "      <th>text</th>\n",
       "      <th>polarity</th>\n",
       "    </tr>\n",
       "  </thead>\n",
       "  <tbody>\n",
       "    <tr>\n",
       "      <th>0</th>\n",
       "      <td>9f5c7536</td>\n",
       "      <td>Recorriendo el #CampNou🏟 https://t.co/ZKZ1ERaiZS</td>\n",
       "      <td>Neutral</td>\n",
       "    </tr>\n",
       "    <tr>\n",
       "      <th>1</th>\n",
       "      <td>8e59cbaa</td>\n",
       "      <td>@FCBarcelona fera desde pequeno😲😲</td>\n",
       "      <td>Neutral</td>\n",
       "    </tr>\n",
       "    <tr>\n",
       "      <th>3</th>\n",
       "      <td>51cf6477</td>\n",
       "      <td>Please RT!! #barcelona #fcbarcelona #Barca #fc...</td>\n",
       "      <td>Neutral</td>\n",
       "    </tr>\n",
       "    <tr>\n",
       "      <th>4</th>\n",
       "      <td>2a1bb2a5</td>\n",
       "      <td>@NostradamusFCB Si parce que miedo, sólo el ba...</td>\n",
       "      <td>Neutral</td>\n",
       "    </tr>\n",
       "    <tr>\n",
       "      <th>5</th>\n",
       "      <td>7c2deb3b</td>\n",
       "      <td>@Matt_Santangelo Mino= No Barca.</td>\n",
       "      <td>Neutral</td>\n",
       "    </tr>\n",
       "  </tbody>\n",
       "</table>\n",
       "</div>"
      ],
      "text/plain": [
       "         id                                               text polarity\n",
       "0  9f5c7536   Recorriendo el #CampNou🏟 https://t.co/ZKZ1ERaiZS  Neutral\n",
       "1  8e59cbaa                  @FCBarcelona fera desde pequeno😲😲  Neutral\n",
       "3  51cf6477  Please RT!! #barcelona #fcbarcelona #Barca #fc...  Neutral\n",
       "4  2a1bb2a5  @NostradamusFCB Si parce que miedo, sólo el ba...  Neutral\n",
       "5  7c2deb3b                   @Matt_Santangelo Mino= No Barca.  Neutral"
      ]
     },
     "execution_count": 7,
     "metadata": {},
     "output_type": "execute_result"
    }
   ],
   "source": [
    "tweets = tweets[~tweets.index.isin(tweets_toDelete.index)]\n",
    "tweets.head()"
   ]
  },
  {
   "cell_type": "code",
   "execution_count": 8,
   "metadata": {},
   "outputs": [
    {
     "data": {
      "text/plain": [
       "polarity\n",
       "Negative     61\n",
       "Neutral     208\n",
       "Positive     61\n",
       "dtype: int64"
      ]
     },
     "execution_count": 8,
     "metadata": {},
     "output_type": "execute_result"
    }
   ],
   "source": [
    "tweets.groupby('polarity').size()"
   ]
  },
  {
   "cell_type": "code",
   "execution_count": 9,
   "metadata": {},
   "outputs": [
    {
     "data": {
      "text/plain": [
       "id          208\n",
       "text        208\n",
       "polarity    208\n",
       "dtype: int64"
      ]
     },
     "execution_count": 9,
     "metadata": {},
     "output_type": "execute_result"
    }
   ],
   "source": [
    "tweets_neutral = tweets[tweets.polarity=='Neutral']\n",
    "tweets_neutral.count()"
   ]
  },
  {
   "cell_type": "code",
   "execution_count": 10,
   "metadata": {},
   "outputs": [
    {
     "data": {
      "text/plain": [
       "id          147\n",
       "text        147\n",
       "polarity    147\n",
       "dtype: int64"
      ]
     },
     "execution_count": 10,
     "metadata": {},
     "output_type": "execute_result"
    }
   ],
   "source": [
    "tweets_neutraltoDelete = tweets_neutral[:-61]\n",
    "tweets_neutraltoDelete.count()"
   ]
  },
  {
   "cell_type": "code",
   "execution_count": 11,
   "metadata": {},
   "outputs": [
    {
     "data": {
      "text/html": [
       "<div>\n",
       "<style scoped>\n",
       "    .dataframe tbody tr th:only-of-type {\n",
       "        vertical-align: middle;\n",
       "    }\n",
       "\n",
       "    .dataframe tbody tr th {\n",
       "        vertical-align: top;\n",
       "    }\n",
       "\n",
       "    .dataframe thead th {\n",
       "        text-align: right;\n",
       "    }\n",
       "</style>\n",
       "<table border=\"1\" class=\"dataframe\">\n",
       "  <thead>\n",
       "    <tr style=\"text-align: right;\">\n",
       "      <th></th>\n",
       "      <th>id</th>\n",
       "      <th>text</th>\n",
       "      <th>polarity</th>\n",
       "    </tr>\n",
       "  </thead>\n",
       "  <tbody>\n",
       "    <tr>\n",
       "      <th>8</th>\n",
       "      <td>5c5d618c</td>\n",
       "      <td>Qué maravilla que este chico tocado por Dios, ...</td>\n",
       "      <td>Positive</td>\n",
       "    </tr>\n",
       "    <tr>\n",
       "      <th>15</th>\n",
       "      <td>3fc87e2e</td>\n",
       "      <td>¡DE PIE DAMAS Y CABALLEROS! 💃🕴👏\\n#HOY se cumpl...</td>\n",
       "      <td>Positive</td>\n",
       "    </tr>\n",
       "    <tr>\n",
       "      <th>19</th>\n",
       "      <td>dfbfbf2f</td>\n",
       "      <td>⚽️🇪🇸| Barça\\n\\nEl partido de 'Dinho' ese día, ...</td>\n",
       "      <td>Positive</td>\n",
       "    </tr>\n",
       "    <tr>\n",
       "      <th>23</th>\n",
       "      <td>43c66ae0</td>\n",
       "      <td>¡TREMENDO! 🙌 La brutal exhibición de Koke en e...</td>\n",
       "      <td>Positive</td>\n",
       "    </tr>\n",
       "    <tr>\n",
       "      <th>24</th>\n",
       "      <td>1f103e4b</td>\n",
       "      <td>Que venga Arthur me tiene más emocionado que c...</td>\n",
       "      <td>Positive</td>\n",
       "    </tr>\n",
       "  </tbody>\n",
       "</table>\n",
       "</div>"
      ],
      "text/plain": [
       "          id                                               text  polarity\n",
       "8   5c5d618c  Qué maravilla que este chico tocado por Dios, ...  Positive\n",
       "15  3fc87e2e  ¡DE PIE DAMAS Y CABALLEROS! 💃🕴👏\\n#HOY se cumpl...  Positive\n",
       "19  dfbfbf2f  ⚽️🇪🇸| Barça\\n\\nEl partido de 'Dinho' ese día, ...  Positive\n",
       "23  43c66ae0  ¡TREMENDO! 🙌 La brutal exhibición de Koke en e...  Positive\n",
       "24  1f103e4b  Que venga Arthur me tiene más emocionado que c...  Positive"
      ]
     },
     "execution_count": 11,
     "metadata": {},
     "output_type": "execute_result"
    }
   ],
   "source": [
    "tweets = tweets[~tweets.index.isin(tweets_neutraltoDelete.index)]\n",
    "tweets.head()"
   ]
  },
  {
   "cell_type": "code",
   "execution_count": 12,
   "metadata": {},
   "outputs": [
    {
     "data": {
      "text/plain": [
       "<matplotlib.axes._subplots.AxesSubplot at 0x2cced4a9278>"
      ]
     },
     "execution_count": 12,
     "metadata": {},
     "output_type": "execute_result"
    },
    {
     "data": {
      "image/png": "[encoded data removed]",
      "text/plain": [
       "<matplotlib.figure.Figure at 0x2ccf0f2f2b0>"
      ]
     },
     "metadata": {},
     "output_type": "display_data"
    }
   ],
   "source": [
    "tweets['polarity'].hist()"
   ]
  },
  {
   "cell_type": "markdown",
   "metadata": {},
   "source": [
    "Now we have a more distributed number of negative, positive and neutral tweets"
   ]
  },
  {
   "cell_type": "code",
   "execution_count": 13,
   "metadata": {},
   "outputs": [
    {
     "data": {
      "text/plain": [
       "(183, 3)"
      ]
     },
     "execution_count": 13,
     "metadata": {},
     "output_type": "execute_result"
    }
   ],
   "source": [
    "tweets.shape"
   ]
  },
  {
   "cell_type": "markdown",
   "metadata": {},
   "source": [
    "### Tokenizing & Stemming"
   ]
  },
  {
   "cell_type": "markdown",
   "metadata": {},
   "source": [
    "Once we have our corpus ready, we'll clean the tweets, removing stops words, tokenization, etc"
   ]
  },
  {
   "cell_type": "code",
   "execution_count": 14,
   "metadata": {},
   "outputs": [
    {
     "name": "stdout",
     "output_type": "stream",
     "text": [
      "[nltk_data] Downloading package stopwords to\n",
      "[nltk_data]     C:\\Users\\grego\\AppData\\Roaming\\nltk_data...\n",
      "[nltk_data]   Package stopwords is already up-to-date!\n",
      "[nltk_data] Downloading package punkt to\n",
      "[nltk_data]     C:\\Users\\grego\\AppData\\Roaming\\nltk_data...\n",
      "[nltk_data]   Package punkt is already up-to-date!\n"
     ]
    }
   ],
   "source": [
    "#Palabras parada\n",
    "import nltk\n",
    "nltk.download(\"stopwords\")\n",
    "nltk.download('punkt')\n",
    "\n",
    "from nltk.corpus import stopwords\n",
    "spanish_stopwords = stopwords.words('spanish')"
   ]
  },
  {
   "cell_type": "code",
   "execution_count": 15,
   "metadata": {},
   "outputs": [
    {
     "name": "stdout",
     "output_type": "stream",
     "text": [
      "['de', 'la', 'que', 'el', 'en', 'y', 'a', 'los', 'del', 'se', 'las', 'por', 'un', 'para', 'con', 'no', 'una', 'su', 'al', 'lo', 'como', 'más', 'pero', 'sus', 'le', 'ya', 'o', 'este', 'sí', 'porque', 'esta', 'entre', 'cuando', 'muy', 'sin', 'sobre', 'también', 'me', 'hasta', 'hay', 'donde', 'quien', 'desde', 'todo', 'nos', 'durante', 'todos', 'uno', 'les', 'ni', 'contra', 'otros', 'ese', 'eso', 'ante', 'ellos', 'e', 'esto', 'mí', 'antes', 'algunos', 'qué', 'unos', 'yo', 'otro', 'otras', 'otra', 'él', 'tanto', 'esa', 'estos', 'mucho', 'quienes', 'nada', 'muchos', 'cual', 'poco', 'ella', 'estar', 'estas', 'algunas', 'algo', 'nosotros', 'mi', 'mis', 'tú', 'te', 'ti', 'tu', 'tus', 'ellas', 'nosotras', 'vosostros', 'vosostras', 'os', 'mío', 'mía', 'míos', 'mías', 'tuyo', 'tuya', 'tuyos', 'tuyas', 'suyo', 'suya', 'suyos', 'suyas', 'nuestro', 'nuestra', 'nuestros', 'nuestras', 'vuestro', 'vuestra', 'vuestros', 'vuestras', 'esos', 'esas', 'estoy', 'estás', 'está', 'estamos', 'estáis', 'están', 'esté', 'estés', 'estemos', 'estéis', 'estén', 'estaré', 'estarás', 'estará', 'estaremos', 'estaréis', 'estarán', 'estaría', 'estarías', 'estaríamos', 'estaríais', 'estarían', 'estaba', 'estabas', 'estábamos', 'estabais', 'estaban', 'estuve', 'estuviste', 'estuvo', 'estuvimos', 'estuvisteis', 'estuvieron', 'estuviera', 'estuvieras', 'estuviéramos', 'estuvierais', 'estuvieran', 'estuviese', 'estuvieses', 'estuviésemos', 'estuvieseis', 'estuviesen', 'estando', 'estado', 'estada', 'estados', 'estadas', 'estad', 'he', 'has', 'ha', 'hemos', 'habéis', 'han', 'haya', 'hayas', 'hayamos', 'hayáis', 'hayan', 'habré', 'habrás', 'habrá', 'habremos', 'habréis', 'habrán', 'habría', 'habrías', 'habríamos', 'habríais', 'habrían', 'había', 'habías', 'habíamos', 'habíais', 'habían', 'hube', 'hubiste', 'hubo', 'hubimos', 'hubisteis', 'hubieron', 'hubiera', 'hubieras', 'hubiéramos', 'hubierais', 'hubieran', 'hubiese', 'hubieses', 'hubiésemos', 'hubieseis', 'hubiesen', 'habiendo', 'habido', 'habida', 'habidos', 'habidas', 'soy', 'eres', 'es', 'somos', 'sois', 'son', 'sea', 'seas', 'seamos', 'seáis', 'sean', 'seré', 'serás', 'será', 'seremos', 'seréis', 'serán', 'sería', 'serías', 'seríamos', 'seríais', 'serían', 'era', 'eras', 'éramos', 'erais', 'eran', 'fui', 'fuiste', 'fue', 'fuimos', 'fuisteis', 'fueron', 'fuera', 'fueras', 'fuéramos', 'fuerais', 'fueran', 'fuese', 'fueses', 'fuésemos', 'fueseis', 'fuesen', 'sintiendo', 'sentido', 'sentida', 'sentidos', 'sentidas', 'siente', 'sentid', 'tengo', 'tienes', 'tiene', 'tenemos', 'tenéis', 'tienen', 'tenga', 'tengas', 'tengamos', 'tengáis', 'tengan', 'tendré', 'tendrás', 'tendrá', 'tendremos', 'tendréis', 'tendrán', 'tendría', 'tendrías', 'tendríamos', 'tendríais', 'tendrían', 'tenía', 'tenías', 'teníamos', 'teníais', 'tenían', 'tuve', 'tuviste', 'tuvo', 'tuvimos', 'tuvisteis', 'tuvieron', 'tuviera', 'tuvieras', 'tuviéramos', 'tuvierais', 'tuvieran', 'tuviese', 'tuvieses', 'tuviésemos', 'tuvieseis', 'tuviesen', 'teniendo', 'tenido', 'tenida', 'tenidos', 'tenidas', 'tened']\n"
     ]
    }
   ],
   "source": [
    "print(spanish_stopwords)"
   ]
  },
  {
   "cell_type": "code",
   "execution_count": 16,
   "metadata": {},
   "outputs": [],
   "source": [
    "#Signos de puntuación\n",
    "from string import punctuation\n",
    "non_words = list(punctuation)\n",
    "\n",
    "#we add spanish punctuation\n",
    "non_words.extend(['¿', '¡', '\\u200d', '—', '“', '”', '…', '\\U0001f929', '‘', '’'])\n",
    "non_words.extend(map(str,range(10)))"
   ]
  },
  {
   "cell_type": "code",
   "execution_count": 17,
   "metadata": {},
   "outputs": [
    {
     "data": {
      "text/plain": [
       "['!',\n",
       " '\"',\n",
       " '#',\n",
       " '$',\n",
       " '%',\n",
       " '&',\n",
       " \"'\",\n",
       " '(',\n",
       " ')',\n",
       " '*',\n",
       " '+',\n",
       " ',',\n",
       " '-',\n",
       " '.',\n",
       " '/',\n",
       " ':',\n",
       " ';',\n",
       " '<',\n",
       " '=',\n",
       " '>',\n",
       " '?',\n",
       " '@',\n",
       " '[',\n",
       " '\\\\',\n",
       " ']',\n",
       " '^',\n",
       " '_',\n",
       " '`',\n",
       " '{',\n",
       " '|',\n",
       " '}',\n",
       " '~',\n",
       " '¿',\n",
       " '¡',\n",
       " '\\u200d',\n",
       " '—',\n",
       " '“',\n",
       " '”',\n",
       " '…',\n",
       " '\\U0001f929',\n",
       " '‘',\n",
       " '’',\n",
       " '0',\n",
       " '1',\n",
       " '2',\n",
       " '3',\n",
       " '4',\n",
       " '5',\n",
       " '6',\n",
       " '7',\n",
       " '8',\n",
       " '9']"
      ]
     },
     "execution_count": 17,
     "metadata": {},
     "output_type": "execute_result"
    }
   ],
   "source": [
    "non_words"
   ]
  },
  {
   "cell_type": "code",
   "execution_count": 18,
   "metadata": {},
   "outputs": [],
   "source": [
    "from sklearn.feature_extraction.text import CountVectorizer       \n",
    "from nltk.stem import PorterStemmer, LancasterStemmer, WordNetLemmatizer\n",
    "from nltk.tokenize import TweetTokenizer\n",
    "tweet_tokenizer = TweetTokenizer(strip_handles=True, reduce_len=True)\n",
    "\n",
    "# based on http://www.cs.duke.edu/courses/spring14/compsci290/assignments/lab02.html\n",
    "stemmer = LancasterStemmer()\n",
    "def stem_tokens(tokens, stemmer):\n",
    "    stemmed = []\n",
    "    for item in tokens:\n",
    "        stemmed.append(stemmer.stem(item))\n",
    "    return stemmed\n",
    "\n",
    "def tokenize(text):\n",
    "    # remove non letters\n",
    "    text = ''.join([c for c in text if c not in non_words])\n",
    "    # tokenize\n",
    "    tokens =  tweet_tokenizer.tokenize(text)\n",
    "\n",
    "    # stem\n",
    "    try:\n",
    "        stems = stem_tokens(tokens, stemmer)\n",
    "    except Exception as e:\n",
    "        print(e)\n",
    "        print(text)\n",
    "        stems = ['']\n",
    "    return stems"
   ]
  },
  {
   "cell_type": "markdown",
   "metadata": {},
   "source": [
    "## Evaluación del modelo"
   ]
  },
  {
   "cell_type": "code",
   "execution_count": 19,
   "metadata": {},
   "outputs": [],
   "source": [
    "from sklearn.cross_validation import cross_val_score\n",
    "from sklearn.svm import LinearSVC\n",
    "from sklearn.pipeline import Pipeline"
   ]
  },
  {
   "cell_type": "markdown",
   "metadata": {},
   "source": [
    "First, we will categorize the sentiment.\n",
    "- Negative sentiments:0\n",
    "- Positive sentiments:1\n",
    "- Neutral sentiments:2"
   ]
  },
  {
   "cell_type": "code",
   "execution_count": 20,
   "metadata": {},
   "outputs": [
    {
     "name": "stderr",
     "output_type": "stream",
     "text": [
      "C:\\Users\\grego\\Anaconda3\\lib\\site-packages\\ipykernel_launcher.py:2: SettingWithCopyWarning: \n",
      "A value is trying to be set on a copy of a slice from a DataFrame\n",
      "\n",
      "See the caveats in the documentation: http://pandas.pydata.org/pandas-docs/stable/indexing.html#indexing-view-versus-copy\n",
      "  \n",
      "C:\\Users\\grego\\Anaconda3\\lib\\site-packages\\ipykernel_launcher.py:3: SettingWithCopyWarning: \n",
      "A value is trying to be set on a copy of a slice from a DataFrame\n",
      "\n",
      "See the caveats in the documentation: http://pandas.pydata.org/pandas-docs/stable/indexing.html#indexing-view-versus-copy\n",
      "  This is separate from the ipykernel package so we can avoid doing imports until\n",
      "C:\\Users\\grego\\Anaconda3\\lib\\site-packages\\ipykernel_launcher.py:4: SettingWithCopyWarning: \n",
      "A value is trying to be set on a copy of a slice from a DataFrame\n",
      "\n",
      "See the caveats in the documentation: http://pandas.pydata.org/pandas-docs/stable/indexing.html#indexing-view-versus-copy\n",
      "  after removing the cwd from sys.path.\n"
     ]
    },
    {
     "data": {
      "text/plain": [
       "2    0.333333\n",
       "1    0.333333\n",
       "0    0.333333\n",
       "Name: polarity_bin, dtype: float64"
      ]
     },
     "execution_count": 20,
     "metadata": {},
     "output_type": "execute_result"
    }
   ],
   "source": [
    "tweets['polarity_bin'] = 0\n",
    "tweets.polarity_bin[tweets.polarity=='Positive'] = 1\n",
    "tweets.polarity_bin[tweets.polarity=='Negative'] = 0\n",
    "tweets.polarity_bin[tweets.polarity=='Neutral'] = 2\n",
    "\n",
    "tweets.polarity_bin.value_counts(normalize=True)"
   ]
  },
  {
   "cell_type": "markdown",
   "metadata": {},
   "source": [
    "Once we have a binary classification problem, the score will be the Area Under Curve (roc_auc). We will use in this case the Linear Support Vector Classifier, and use the Gird Search to optimize the parameters to use."
   ]
  },
  {
   "cell_type": "markdown",
   "metadata": {},
   "source": [
    "Now we create the model with the optimized parameters"
   ]
  },
  {
   "cell_type": "code",
   "execution_count": 45,
   "metadata": {},
   "outputs": [
    {
     "name": "stdout",
     "output_type": "stream",
     "text": [
      "Scores in every iteration [0.51282051 0.38888889 0.36111111 0.52777778 0.38888889]\n",
      "Accuracy: 0.44 (+/- 0.14)\n"
     ]
    }
   ],
   "source": [
    "from sklearn.cross_validation import cross_val_score, KFold\n",
    "\n",
    "vectorizer = CountVectorizer(\n",
    "            analyzer = 'word',\n",
    "            tokenizer = tokenize,\n",
    "            lowercase = True,\n",
    "            stop_words = spanish_stopwords,\n",
    "            max_features=5000\n",
    "            )\n",
    "\n",
    "pipeline = Pipeline([\n",
    "    ('vect', vectorizer),\n",
    "    ('cls', LinearSVC()),\n",
    "])\n",
    "#Aprender el vocabulario\n",
    "tweets_features = vectorizer.fit_transform(tweets.text)\n",
    "tweets_features_nd = tweets_features.toarray()\n",
    "#Evaluacion del modelo\n",
    "scores = cross_val_score(pipeline, tweets.text, tweets.polarity_bin, cv=5)\n",
    "print(\"Scores in every iteration\", scores)\n",
    "print(\"Accuracy: %0.2f (+/- %0.2f)\" % (scores.mean(), scores.std() * 2))"
   ]
  },
  {
   "cell_type": "code",
   "execution_count": 46,
   "metadata": {},
   "outputs": [
    {
     "name": "stdout",
     "output_type": "stream",
     "text": [
      "Scores in every iteration [0.51282051 0.44444444 0.44444444 0.47222222 0.47222222]\n",
      "Accuracy: 0.47 (+/- 0.05)\n"
     ]
    }
   ],
   "source": [
    "from sklearn.cross_validation import cross_val_score, KFold\n",
    "from sklearn.naive_bayes import MultinomialNB\n",
    "\n",
    "\n",
    "pipeline_NB = Pipeline([\n",
    "    ('vect', vectorizer),\n",
    "    ('cls', MultinomialNB(alpha=.01)),\n",
    "])\n",
    "#Aprender el vocabulario\n",
    "tweets_features = vectorizer.fit_transform(tweets.text)\n",
    "tweets_features_nd = tweets_features.toarray()\n",
    "\n",
    "scores = cross_val_score(pipeline_NB, tweets.text, tweets.polarity_bin, cv=5)\n",
    "print(\"Scores in every iteration\", scores)\n",
    "print(\"Accuracy: %0.2f (+/- %0.2f)\" % (scores.mean(), scores.std() * 2))"
   ]
  },
  {
   "cell_type": "code",
   "execution_count": 47,
   "metadata": {},
   "outputs": [
    {
     "name": "stderr",
     "output_type": "stream",
     "text": [
      "C:\\Users\\grego\\Anaconda3\\lib\\site-packages\\sklearn\\linear_model\\logistic.py:1228: UserWarning: 'n_jobs' > 1 does not have any effect when 'solver' is set to 'liblinear'. Got 'n_jobs' = -1.\n",
      "  \" = {}.\".format(self.n_jobs))\n",
      "C:\\Users\\grego\\Anaconda3\\lib\\site-packages\\sklearn\\linear_model\\logistic.py:1228: UserWarning: 'n_jobs' > 1 does not have any effect when 'solver' is set to 'liblinear'. Got 'n_jobs' = -1.\n",
      "  \" = {}.\".format(self.n_jobs))\n",
      "C:\\Users\\grego\\Anaconda3\\lib\\site-packages\\sklearn\\linear_model\\logistic.py:1228: UserWarning: 'n_jobs' > 1 does not have any effect when 'solver' is set to 'liblinear'. Got 'n_jobs' = -1.\n",
      "  \" = {}.\".format(self.n_jobs))\n",
      "C:\\Users\\grego\\Anaconda3\\lib\\site-packages\\sklearn\\linear_model\\logistic.py:1228: UserWarning: 'n_jobs' > 1 does not have any effect when 'solver' is set to 'liblinear'. Got 'n_jobs' = -1.\n",
      "  \" = {}.\".format(self.n_jobs))\n"
     ]
    },
    {
     "name": "stdout",
     "output_type": "stream",
     "text": [
      "Scores in every iteration [0.61538462 0.36111111 0.38888889 0.52777778 0.47222222]\n",
      "Accuracy: 0.47 (+/- 0.19)\n"
     ]
    },
    {
     "name": "stderr",
     "output_type": "stream",
     "text": [
      "C:\\Users\\grego\\Anaconda3\\lib\\site-packages\\sklearn\\linear_model\\logistic.py:1228: UserWarning: 'n_jobs' > 1 does not have any effect when 'solver' is set to 'liblinear'. Got 'n_jobs' = -1.\n",
      "  \" = {}.\".format(self.n_jobs))\n"
     ]
    }
   ],
   "source": [
    "#Regresion lineal\n",
    "from sklearn.metrics import classification_report\n",
    "from sklearn.linear_model import LogisticRegression\n",
    "\n",
    "\n",
    "pipeline_LogR = Pipeline([\n",
    "    ('vect', vectorizer),\n",
    "    ('lr', LogisticRegression(n_jobs=-1)),\n",
    "])\n",
    "#Aprender el vocabulario\n",
    "tweets_features = vectorizer.fit_transform(tweets.text)\n",
    "tweets_features_nd = tweets_features.toarray()\n",
    "\n",
    "scores = cross_val_score(pipeline_LogR, tweets.text, tweets.polarity_bin, cv=5)\n",
    "print(\"Scores in every iteration\", scores)\n",
    "print(\"Accuracy: %0.2f (+/- %0.2f)\" % (scores.mean(), scores.std() * 2))"
   ]
  },
  {
   "cell_type": "code",
   "execution_count": 48,
   "metadata": {},
   "outputs": [
    {
     "name": "stdout",
     "output_type": "stream",
     "text": [
      "Scores in every iteration [0.33333333 0.38888889 0.33333333 0.36111111 0.36111111]\n",
      "Accuracy: 0.36 (+/- 0.04)\n"
     ]
    }
   ],
   "source": [
    "#Knn\n",
    "from sklearn.neighbors import KNeighborsClassifier\n",
    "pipeline_knn = Pipeline([\n",
    "    ('vect', vectorizer),\n",
    "    ('knn', KNeighborsClassifier()),\n",
    "])\n",
    "#Aprender el vocabulario\n",
    "tweets_features = vectorizer.fit_transform(tweets.text)\n",
    "tweets_features_nd = tweets_features.toarray()\n",
    "\n",
    "scores = cross_val_score(pipeline_knn, tweets.text, tweets.polarity_bin, cv=5)\n",
    "print(\"Scores in every iteration\", scores)\n",
    "print(\"Accuracy: %0.2f (+/- %0.2f)\" % (scores.mean(), scores.std() * 2))"
   ]
  },
  {
   "cell_type": "code",
   "execution_count": 49,
   "metadata": {},
   "outputs": [
    {
     "name": "stdout",
     "output_type": "stream",
     "text": [
      "Scores in every iteration [0.58974359 0.44444444 0.38888889 0.61111111 0.47222222]\n",
      "Accuracy: 0.50 (+/- 0.17)\n"
     ]
    }
   ],
   "source": [
    "#MPL\n",
    "from sklearn.neural_network import MLPClassifier\n",
    "pipeline_mpl = Pipeline([\n",
    "    ('vect', vectorizer),\n",
    "    ('mpl', MLPClassifier()),\n",
    "])\n",
    "#Aprender el vocabulario\n",
    "tweets_features = vectorizer.fit_transform(tweets.text)\n",
    "tweets_features_nd = tweets_features.toarray()\n",
    "\n",
    "scores = cross_val_score(pipeline_mpl, tweets.text, tweets.polarity_bin, cv=5)\n",
    "print(\"Scores in every iteration\", scores)\n",
    "print(\"Accuracy: %0.2f (+/- %0.2f)\" % (scores.mean(), scores.std() * 2))"
   ]
  },
  {
   "cell_type": "code",
   "execution_count": 50,
   "metadata": {},
   "outputs": [
    {
     "name": "stdout",
     "output_type": "stream",
     "text": [
      "Scores in every iteration [0.35897436 0.5        0.44444444 0.41666667 0.41666667]\n",
      "Accuracy: 0.43 (+/- 0.09)\n"
     ]
    }
   ],
   "source": [
    "from sklearn import tree\n",
    "\n",
    "#Decision Tree\n",
    "pipeline_dt = Pipeline([\n",
    "    ('vect', vectorizer),\n",
    "    ('dt', tree.DecisionTreeClassifier()),\n",
    "])\n",
    "#Aprender el vocabulario\n",
    "tweets_features = vectorizer.fit_transform(tweets.text)\n",
    "tweets_features_nd = tweets_features.toarray()\n",
    "\n",
    "scores = cross_val_score(pipeline_dt, tweets.text, tweets.polarity_bin, cv=5)\n",
    "print(\"Scores in every iteration\", scores)\n",
    "print(\"Accuracy: %0.2f (+/- %0.2f)\" % (scores.mean(), scores.std() * 2))"
   ]
  },
  {
   "cell_type": "code",
   "execution_count": 27,
   "metadata": {},
   "outputs": [
    {
     "data": {
      "text/html": [
       "<div>\n",
       "<style scoped>\n",
       "    .dataframe tbody tr th:only-of-type {\n",
       "        vertical-align: middle;\n",
       "    }\n",
       "\n",
       "    .dataframe tbody tr th {\n",
       "        vertical-align: top;\n",
       "    }\n",
       "\n",
       "    .dataframe thead th {\n",
       "        text-align: right;\n",
       "    }\n",
       "</style>\n",
       "<table border=\"1\" class=\"dataframe\">\n",
       "  <thead>\n",
       "    <tr style=\"text-align: right;\">\n",
       "      <th></th>\n",
       "      <th>id</th>\n",
       "      <th>text</th>\n",
       "    </tr>\n",
       "  </thead>\n",
       "  <tbody>\n",
       "    <tr>\n",
       "      <th>0</th>\n",
       "      <td>aa24173d</td>\n",
       "      <td>Han robado por el método del alunizaje en la t...</td>\n",
       "    </tr>\n",
       "    <tr>\n",
       "      <th>1</th>\n",
       "      <td>79cdded5</td>\n",
       "      <td>@BenditalocuraAt @Atleti @fhervas13 FELICIDADE...</td>\n",
       "    </tr>\n",
       "    <tr>\n",
       "      <th>2</th>\n",
       "      <td>26fe7471</td>\n",
       "      <td>Dedicado para:\\n@Trigueros17 \\n@FCBarcelona ht...</td>\n",
       "    </tr>\n",
       "    <tr>\n",
       "      <th>3</th>\n",
       "      <td>d7d87d07</td>\n",
       "      <td>@Eribert42354852 El Barca aparte de ganar eso ...</td>\n",
       "    </tr>\n",
       "    <tr>\n",
       "      <th>4</th>\n",
       "      <td>c4852036</td>\n",
       "      <td>Vengo 2/2 con los clasificados a Cuartos de Ch...</td>\n",
       "    </tr>\n",
       "  </tbody>\n",
       "</table>\n",
       "</div>"
      ],
      "text/plain": [
       "         id                                               text\n",
       "0  aa24173d  Han robado por el método del alunizaje en la t...\n",
       "1  79cdded5  @BenditalocuraAt @Atleti @fhervas13 FELICIDADE...\n",
       "2  26fe7471  Dedicado para:\\n@Trigueros17 \\n@FCBarcelona ht...\n",
       "3  d7d87d07  @Eribert42354852 El Barca aparte de ganar eso ...\n",
       "4  c4852036  Vengo 2/2 con los clasificados a Cuartos de Ch..."
      ]
     },
     "execution_count": 27,
     "metadata": {},
     "output_type": "execute_result"
    }
   ],
   "source": [
    "#Cargamos el fichero de tweets sin etiquetar\n",
    "tweets_nolabel = pd.read_csv('football-twitter/test_nolabel.csv')\n",
    "tweets_nolabel.head()"
   ]
  },
  {
   "cell_type": "code",
   "execution_count": 28,
   "metadata": {},
   "outputs": [
    {
     "data": {
      "text/plain": [
       "(177, 2)"
      ]
     },
     "execution_count": 28,
     "metadata": {},
     "output_type": "execute_result"
    }
   ],
   "source": [
    "tweets_nolabel.shape"
   ]
  },
  {
   "cell_type": "code",
   "execution_count": 29,
   "metadata": {
    "scrolled": true
   },
   "outputs": [
    {
     "data": {
      "text/plain": [
       "id      object\n",
       "text    object\n",
       "dtype: object"
      ]
     },
     "execution_count": 29,
     "metadata": {},
     "output_type": "execute_result"
    }
   ],
   "source": [
    "tweets_nolabel.dtypes"
   ]
  },
  {
   "cell_type": "code",
   "execution_count": 37,
   "metadata": {},
   "outputs": [],
   "source": [
    "#Entrenamos el modelo con los datos del corpus\n",
    "pipeline.fit(tweets.text, tweets.polarity_bin)\n",
    "#Realizamos las predicciones con los datos descargados directamente de Twitter\n",
    "#tweets['polarity'] = pipeline.predict(tweets_nolabel.text)\n",
    "#tweets[['tweet', 'polarity']].sample(20)\n",
    "\n",
    "polarity=pipeline.predict(tweets_nolabel.text)\n",
    "dataframeResult = pd.read_csv('football-twitter/test_nolabel.csv').filter(['id'], axis=1)\n",
    "dataframeResult['Polarity'] = polarity\n",
    "dataframeResult[:]\n",
    "dataframeResult['Polarity'] = dataframeResult['Polarity'].replace([0], 'Negative')\n",
    "dataframeResult['Polarity'] = dataframeResult['Polarity'].replace([1], 'Positive')\n",
    "dataframeResult['Polarity'] = dataframeResult['Polarity'].replace([2], 'Neutral')"
   ]
  },
  {
   "cell_type": "code",
   "execution_count": 38,
   "metadata": {},
   "outputs": [],
   "source": [
    "dataframeResult.to_csv('out_svc.csv', sep=',',index=False)"
   ]
  },
  {
   "cell_type": "code",
   "execution_count": 32,
   "metadata": {},
   "outputs": [],
   "source": [
    "#Entrenamos el modelo con los datos del corpus\n",
    "pipeline_NB.fit(tweets.text, tweets.polarity_bin)\n",
    "#Realizamos las predicciones con los datos descargados directamente de Twitter\n",
    "#tweets['polarity'] = pipeline.predict(tweets_nolabel.text)\n",
    "#tweets[['tweet', 'polarity']].sample(20)\n",
    "\n",
    "polarity=pipeline_NB.predict(tweets_nolabel.text)\n",
    "dataframeResult = pd.read_csv('football-twitter/test_nolabel.csv').filter(['id'], axis=1)\n",
    "dataframeResult['Polarity'] = polarity\n",
    "dataframeResult[:]\n",
    "dataframeResult['Polarity'] = dataframeResult['Polarity'].replace([0], 'Negative')\n",
    "dataframeResult['Polarity'] = dataframeResult['Polarity'].replace([1], 'Positive')\n",
    "dataframeResult['Polarity'] = dataframeResult['Polarity'].replace([2], 'Neutral')\n",
    "dataframeResult.to_csv('out_nb.csv', sep=',',index=False)"
   ]
  },
  {
   "cell_type": "code",
   "execution_count": 33,
   "metadata": {},
   "outputs": [
    {
     "name": "stderr",
     "output_type": "stream",
     "text": [
      "C:\\Users\\grego\\Anaconda3\\lib\\site-packages\\sklearn\\linear_model\\logistic.py:1228: UserWarning: 'n_jobs' > 1 does not have any effect when 'solver' is set to 'liblinear'. Got 'n_jobs' = -1.\n",
      "  \" = {}.\".format(self.n_jobs))\n"
     ]
    }
   ],
   "source": [
    "#Entrenamos el modelo con los datos del corpus\n",
    "pipeline_LogR.fit(tweets.text, tweets.polarity_bin)\n",
    "#Realizamos las predicciones con los datos descargados directamente de Twitter\n",
    "#tweets['polarity'] = pipeline.predict(tweets_nolabel.text)\n",
    "#tweets[['tweet', 'polarity']].sample(20)\n",
    "\n",
    "polarity=pipeline_LogR.predict(tweets_nolabel.text)\n",
    "dataframeResult = pd.read_csv('football-twitter/test_nolabel.csv').filter(['id'], axis=1)\n",
    "dataframeResult['Polarity'] = polarity\n",
    "dataframeResult[:]\n",
    "dataframeResult['Polarity'] = dataframeResult['Polarity'].replace([0], 'Negative')\n",
    "dataframeResult['Polarity'] = dataframeResult['Polarity'].replace([1], 'Positive')\n",
    "dataframeResult['Polarity'] = dataframeResult['Polarity'].replace([2], 'Neutral')\n",
    "dataframeResult.to_csv('out_LogR.csv', sep=',',index=False)"
   ]
  },
  {
   "cell_type": "code",
   "execution_count": 34,
   "metadata": {},
   "outputs": [],
   "source": [
    "#Entrenamos el modelo con los datos del corpus\n",
    "pipeline_knn.fit(tweets.text, tweets.polarity_bin)\n",
    "#Realizamos las predicciones con los datos descargados directamente de Twitter\n",
    "#tweets['polarity'] = pipeline.predict(tweets_nolabel.text)\n",
    "#tweets[['tweet', 'polarity']].sample(20)\n",
    "\n",
    "polarity=pipeline_knn.predict(tweets_nolabel.text)\n",
    "dataframeResult = pd.read_csv('football-twitter/test_nolabel.csv').filter(['id'], axis=1)\n",
    "dataframeResult['Polarity'] = polarity\n",
    "dataframeResult[:]\n",
    "dataframeResult['Polarity'] = dataframeResult['Polarity'].replace([0], 'Negative')\n",
    "dataframeResult['Polarity'] = dataframeResult['Polarity'].replace([1], 'Positive')\n",
    "dataframeResult['Polarity'] = dataframeResult['Polarity'].replace([2], 'Neutral')\n",
    "dataframeResult.to_csv('out_knn.csv', sep=',',index=False)"
   ]
  },
  {
   "cell_type": "code",
   "execution_count": 35,
   "metadata": {},
   "outputs": [],
   "source": [
    "#Entrenamos el modelo con los datos del corpus\n",
    "pipeline_mpl.fit(tweets.text, tweets.polarity_bin)\n",
    "#Realizamos las predicciones con los datos descargados directamente de Twitter\n",
    "#tweets['polarity'] = pipeline.predict(tweets_nolabel.text)\n",
    "#tweets[['tweet', 'polarity']].sample(20)\n",
    "\n",
    "polarity=pipeline_mpl.predict(tweets_nolabel.text)\n",
    "dataframeResult = pd.read_csv('football-twitter/test_nolabel.csv').filter(['id'], axis=1)\n",
    "dataframeResult['Polarity'] = polarity\n",
    "dataframeResult[:]\n",
    "dataframeResult['Polarity'] = dataframeResult['Polarity'].replace([0], 'Negative')\n",
    "dataframeResult['Polarity'] = dataframeResult['Polarity'].replace([1], 'Positive')\n",
    "dataframeResult['Polarity'] = dataframeResult['Polarity'].replace([2], 'Neutral')\n",
    "dataframeResult.to_csv('out_mpl.csv', sep=',',index=False)"
   ]
  },
  {
   "cell_type": "code",
   "execution_count": 36,
   "metadata": {},
   "outputs": [],
   "source": [
    "#Entrenamos el modelo con los datos del corpus\n",
    "pipeline_dt.fit(tweets.text, tweets.polarity_bin)\n",
    "#Realizamos las predicciones con los datos descargados directamente de Twitter\n",
    "#tweets['polarity'] = pipeline.predict(tweets_nolabel.text)\n",
    "#tweets[['tweet', 'polarity']].sample(20)\n",
    "\n",
    "polarity=pipeline_dt.predict(tweets_nolabel.text)\n",
    "dataframeResult = pd.read_csv('football-twitter/test_nolabel.csv').filter(['id'], axis=1)\n",
    "dataframeResult['Polarity'] = polarity\n",
    "dataframeResult[:]\n",
    "dataframeResult['Polarity'] = dataframeResult['Polarity'].replace([0], 'Negative')\n",
    "dataframeResult['Polarity'] = dataframeResult['Polarity'].replace([1], 'Positive')\n",
    "dataframeResult['Polarity'] = dataframeResult['Polarity'].replace([2], 'Neutral')\n",
    "dataframeResult.to_csv('out_dt.csv', sep=',',index=False)"
   ]
  },
  {
   "cell_type": "code",
   "execution_count": null,
   "metadata": {},
   "outputs": [],
   "source": []
  },
  {
   "cell_type": "code",
   "execution_count": null,
   "metadata": {},
   "outputs": [],
   "source": []
  }
 ],
 "metadata": {
  "kernelspec": {
   "display_name": "Python 3",
   "language": "python",
   "name": "python3"
  },
  "language_info": {
   "codemirror_mode": {
    "name": "ipython",
    "version": 3
   },
   "file_extension": ".py",
   "mimetype": "text/x-python",
   "name": "python",
   "nbconvert_exporter": "python",
   "pygments_lexer": "ipython3",
   "version": "3.6.4"
  }
 },
 "nbformat": 4,
 "nbformat_minor": 1
}
